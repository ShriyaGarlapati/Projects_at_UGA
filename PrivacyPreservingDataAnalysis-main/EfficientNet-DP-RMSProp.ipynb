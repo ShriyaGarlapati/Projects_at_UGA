{
  "nbformat": 4,
  "nbformat_minor": 0,
  "metadata": {
    "colab": {
      "provenance": [],
      "gpuType": "A100",
      "machine_shape": "hm",
      "authorship_tag": "ABX9TyNwZhahQSKGxHVIDJZEunRj",
      "include_colab_link": true
    },
    "kernelspec": {
      "name": "python3",
      "display_name": "Python 3"
    },
    "language_info": {
      "name": "python"
    },
    "accelerator": "GPU"
  },
  "cells": [
    {
      "cell_type": "markdown",
      "metadata": {
        "id": "view-in-github",
        "colab_type": "text"
      },
      "source": [
        "<a href=\"https://colab.research.google.com/github/HARIPRIYA02/DPOptimizers---HS/blob/main/Untitled8.ipynb\" target=\"_parent\"><img src=\"https://colab.research.google.com/assets/colab-badge.svg\" alt=\"Open In Colab\"/></a>"
      ]
    },
    {
      "cell_type": "code",
      "execution_count": 1,
      "metadata": {
        "colab": {
          "base_uri": "https://localhost:8080/"
        },
        "id": "qdlr7kbnWTz5",
        "outputId": "68f09fbe-1aeb-4aef-951b-636f70e8c0f3"
      },
      "outputs": [
        {
          "output_type": "stream",
          "name": "stdout",
          "text": [
            "Collecting opacus\n",
            "  Downloading opacus-1.5.2-py3-none-any.whl.metadata (7.9 kB)\n",
            "Requirement already satisfied: numpy<2.0,>=1.15 in /usr/local/lib/python3.10/dist-packages (from opacus) (1.26.4)\n",
            "Requirement already satisfied: torch>=2.0 in /usr/local/lib/python3.10/dist-packages (from opacus) (2.5.1+cu121)\n",
            "Requirement already satisfied: scipy>=1.2 in /usr/local/lib/python3.10/dist-packages (from opacus) (1.13.1)\n",
            "Requirement already satisfied: opt-einsum>=3.3.0 in /usr/local/lib/python3.10/dist-packages (from opacus) (3.4.0)\n",
            "Requirement already satisfied: filelock in /usr/local/lib/python3.10/dist-packages (from torch>=2.0->opacus) (3.16.1)\n",
            "Requirement already satisfied: typing-extensions>=4.8.0 in /usr/local/lib/python3.10/dist-packages (from torch>=2.0->opacus) (4.12.2)\n",
            "Requirement already satisfied: networkx in /usr/local/lib/python3.10/dist-packages (from torch>=2.0->opacus) (3.4.2)\n",
            "Requirement already satisfied: jinja2 in /usr/local/lib/python3.10/dist-packages (from torch>=2.0->opacus) (3.1.4)\n",
            "Requirement already satisfied: fsspec in /usr/local/lib/python3.10/dist-packages (from torch>=2.0->opacus) (2024.10.0)\n",
            "Requirement already satisfied: sympy==1.13.1 in /usr/local/lib/python3.10/dist-packages (from torch>=2.0->opacus) (1.13.1)\n",
            "Requirement already satisfied: mpmath<1.4,>=1.1.0 in /usr/local/lib/python3.10/dist-packages (from sympy==1.13.1->torch>=2.0->opacus) (1.3.0)\n",
            "Requirement already satisfied: MarkupSafe>=2.0 in /usr/local/lib/python3.10/dist-packages (from jinja2->torch>=2.0->opacus) (3.0.2)\n",
            "Downloading opacus-1.5.2-py3-none-any.whl (239 kB)\n",
            "\u001b[?25l   \u001b[90m━━━━━━━━━━━━━━━━━━━━━━━━━━━━━━━━━━━━━━━━\u001b[0m \u001b[32m0.0/239.9 kB\u001b[0m \u001b[31m?\u001b[0m eta \u001b[36m-:--:--\u001b[0m\r\u001b[2K   \u001b[90m━━━━━━━━━━━━━━━━━━━━━━━━━━━━━━━━━━━━━━━━\u001b[0m \u001b[32m239.9/239.9 kB\u001b[0m \u001b[31m12.9 MB/s\u001b[0m eta \u001b[36m0:00:00\u001b[0m\n",
            "\u001b[?25hInstalling collected packages: opacus\n",
            "Successfully installed opacus-1.5.2\n"
          ]
        }
      ],
      "source": [
        "!pip install opacus"
      ]
    },
    {
      "cell_type": "code",
      "source": [
        "import torch,warnings\n",
        "import torchvision\n",
        "import torchvision.transforms as transforms\n",
        "from torchvision.datasets import CIFAR10\n",
        "import torch.nn as nn\n",
        "import torch.optim as optim\n",
        "from opacus import PrivacyEngine\n",
        "from opacus.utils.batch_memory_manager import BatchMemoryManager\n",
        "from torchvision.transforms.functional import InterpolationMode\n",
        "from opacus.validators import ModuleValidator\n",
        "from tqdm import tqdm\n",
        "import numpy as np\n",
        "import argparse\n",
        "from torchvision.models import efficientnet_b0\n",
        "warnings.simplefilter(\"ignore\")\n",
        "\n",
        "# Hyperparameters\n",
        "MAX_GRAD_NORM = 1.2\n",
        "EPSILON = 3.0\n",
        "DELTA = 1e-5\n",
        "NOISE_MULTIPLIER = 1.1\n",
        "EPOCHS = 50\n",
        "LR = 8e-4\n",
        "BATCH_SIZE = 4096\n",
        "MAX_PHYSICAL_BATCH_SIZE = 128\n",
        "CIFAR10_MEAN = [0.4914, 0.4822, 0.4465]\n",
        "CIFAR10_STD_DEV = [0.2023, 0.1994, 0.2010]\n",
        "bound=1.0\n",
        "NUM_GROUPS = 40\n",
        "\n",
        "transform = transforms.Compose([\n",
        "    transforms.ToTensor(),\n",
        "    transforms.Normalize(CIFAR10_MEAN, CIFAR10_STD_DEV)\n",
        "\n",
        "])\n",
        "\n",
        "# Load datasets\n",
        "DATA_ROOT = \"~/.local/data\"\n",
        "train_dataset = CIFAR10(root=DATA_ROOT, train=True, download=True, transform=transform)\n",
        "test_dataset = CIFAR10(root=DATA_ROOT, train=False, download=True, transform=transform)\n",
        "\n",
        "train_loader = torch.utils.data.DataLoader(train_dataset, batch_size=BATCH_SIZE, shuffle=True)\n",
        "test_loader = torch.utils.data.DataLoader(test_dataset, batch_size=BATCH_SIZE, shuffle=False)\n",
        "\n",
        "# Define the weight-standardized convolutional layer\n",
        "class WSConv2d(nn.Conv2d):\n",
        "    def forward(self, x):\n",
        "        mean = self.weight.mean(dim=[1, 2, 3], keepdim=True)\n",
        "        std = self.weight.std(dim=[1, 2, 3], keepdim=True) + 1e-5\n",
        "        weight = (self.weight - mean) / std\n",
        "        return nn.functional.conv2d(x, weight, self.bias, self.stride, self.padding, self.dilation, self.groups)\n",
        "class EMA:\n",
        "    def __init__(self, model, decay=0.95):\n",
        "        self.decay = decay\n",
        "        self.shadow = {}\n",
        "        self.backup = {}\n",
        "        for name, param in model.named_parameters():\n",
        "            if param.requires_grad:\n",
        "                self.shadow[name] = param.data.clone()\n",
        "\n",
        "    def update(self, model):\n",
        "        for name, param in model.named_parameters():\n",
        "            if param.requires_grad:\n",
        "                assert name in self.shadow\n",
        "                new_average = self.decay * self.shadow[name] + (1.0 - self.decay) * param.data\n",
        "                self.shadow[name] = new_average.clone()\n",
        "\n",
        "    def apply_shadow(self, model):\n",
        "        for name, param in model.named_parameters():\n",
        "            if param.requires_grad:\n",
        "                assert name in self.shadow\n",
        "                self.backup[name] = param.data.clone()\n",
        "                param.data = self.shadow[name]\n",
        "\n",
        "    def restore(self, model):\n",
        "        for name, param in model.named_parameters():\n",
        "            if param.requires_grad:\n",
        "                assert name in self.backup\n",
        "                param.data = self.backup[name]\n",
        "        self.backup = {}\n",
        "\n",
        "# Define ResNet-20 with Group Normalization and Weight Standardization\n",
        "class BasicBlockGN(nn.Module):\n",
        "    def __init__(self, in_planes, planes, stride=1, num_groups=2):\n",
        "        super(BasicBlockGN, self).__init__()\n",
        "        self.conv1 = WSConv2d(in_planes, planes, kernel_size=3, stride=stride, padding=1, bias=False)\n",
        "        self.gn1 = nn.GroupNorm(num_groups, planes)\n",
        "        self.conv2 = WSConv2d(planes, planes, kernel_size=3, stride=1, padding=1, bias=False)\n",
        "        self.gn2 = nn.GroupNorm(num_groups, planes)\n",
        "        self.shortcut = nn.Sequential()\n",
        "        if stride != 1 or in_planes != planes:\n",
        "            self.shortcut = nn.Sequential(\n",
        "                WSConv2d(in_planes, planes, kernel_size=1, stride=stride, bias=False),\n",
        "                nn.GroupNorm(num_groups, planes)\n",
        "            )\n",
        "\n",
        "    def forward(self, x):\n",
        "        out = nn.SiLU()(self.gn1(self.conv1(x)))\n",
        "        out = self.gn2(self.conv2(out))\n",
        "        out += self.shortcut(x)\n",
        "        out = nn.SiLU()(out)\n",
        "        return out\n",
        "\n",
        "class ResNet20GN(nn.Module):\n",
        "    def __init__(self, num_classes=10, num_groups=2):\n",
        "        super(ResNet20GN, self).__init__()\n",
        "        self.in_planes = 16\n",
        "        self.conv1 = WSConv2d(3, 16, kernel_size=3, stride=1, padding=1, bias=False)\n",
        "        self.gn1 = nn.GroupNorm(num_groups, 16)\n",
        "\n",
        "        self.layer1 = self._make_layer(BasicBlockGN, 32, 3, stride=1, num_groups=num_groups)\n",
        "        self.layer2 = self._make_layer(BasicBlockGN, 64, 3, stride=2, num_groups=num_groups)\n",
        "        self.layer3 = self._make_layer(BasicBlockGN, 128, 3, stride=2, num_groups=num_groups)\n",
        "        self.linear = nn.Linear(128, num_classes)\n",
        "\n",
        "    def _make_layer(self, block, planes, num_blocks, stride, num_groups):\n",
        "        strides = [stride] + [1] * (num_blocks - 1)\n",
        "        layers = []\n",
        "        for stride in strides:\n",
        "            layers.append(block(self.in_planes, planes, stride, num_groups))\n",
        "            self.in_planes = planes\n",
        "        return nn.Sequential(*layers)\n",
        "\n",
        "    def forward(self, x):\n",
        "        out = nn.SiLU()(self.gn1(self.conv1(x)))\n",
        "        out = self.layer1(out)\n",
        "        out = self.layer2(out)\n",
        "        out = self.layer3(out)\n",
        "        out = nn.AvgPool2d(8)(out)\n",
        "        out = out.view(out.size(0), -1)\n",
        "        out = self.linear(out)\n",
        "        return out\n",
        "\n",
        "class WideBasicGN(nn.Module):\n",
        "    def __init__(self, in_planes, planes, dropout_rate, stride=1, num_groups=2):\n",
        "        super(WideBasicGN, self).__init__()\n",
        "        self.conv1 = WSConv2d(in_planes, planes, kernel_size=3, padding=1, bias=False)\n",
        "        self.gn1 = nn.GroupNorm(num_groups, planes)\n",
        "        self.dropout = nn.Dropout(p=dropout_rate)\n",
        "        self.conv2 = WSConv2d(planes, planes, kernel_size=3, stride=stride, padding=1, bias=False)\n",
        "        self.gn2 = nn.GroupNorm(num_groups, planes)\n",
        "        self.shortcut = nn.Sequential()\n",
        "        if stride != 1 or in_planes != planes:\n",
        "            self.shortcut = nn.Sequential(\n",
        "                WSConv2d(in_planes, planes, kernel_size=1, stride=stride, bias=False),\n",
        "                nn.GroupNorm(num_groups, planes)\n",
        "            )\n",
        "\n",
        "    def forward(self, x):\n",
        "        out = nn.SiLU()(self.gn1(self.conv1(x)))\n",
        "        out = self.dropout(out)\n",
        "        out = self.gn2(self.conv2(out))\n",
        "        out += self.shortcut(x)\n",
        "        out = nn.SiLU()(out)\n",
        "        return out\n",
        "class WRN16_4_GN(nn.Module):\n",
        "    def __init__(self, num_classes=10, dropout_rate=0.3, num_groups=2):\n",
        "        super(WRN16_4_GN, self).__init__()\n",
        "        self.in_planes = 16\n",
        "        self.conv1 = WSConv2d(3, 16, kernel_size=3, stride=1, padding=1, bias=False)\n",
        "        self.gn1 = nn.GroupNorm(num_groups, 16)\n",
        "        self.layer1 = self._make_layer(WideBasicGN, 64, 3, dropout_rate, stride=1, num_groups=num_groups)\n",
        "        self.layer2 = self._make_layer(WideBasicGN, 128, 3, dropout_rate, stride=2, num_groups=num_groups)\n",
        "        self.layer3 = self._make_layer(WideBasicGN, 256, 3, dropout_rate, stride=2, num_groups=num_groups)\n",
        "        self.linear = nn.Linear(256, num_classes)\n",
        "\n",
        "    def _make_layer(self, block, planes, num_blocks, dropout_rate, stride, num_groups):\n",
        "        strides = [stride] + [1] * (num_blocks - 1)\n",
        "        layers = []\n",
        "        for stride in strides:\n",
        "            layers.append(block(self.in_planes, planes, dropout_rate, stride, num_groups))\n",
        "            self.in_planes = planes\n",
        "        return nn.Sequential(*layers)\n",
        "\n",
        "    def forward(self, x):\n",
        "        out = nn.SiLU()(self.gn1(self.conv1(x)))\n",
        "        out = self.layer1(out)\n",
        "        out = self.layer2(out)\n",
        "        out = self.layer3(out)\n",
        "        out = nn.AvgPool2d(8)(out)\n",
        "        out = out.view(out.size(0), -1)\n",
        "        out = self.linear(out)\n",
        "        return out\n",
        "\n",
        "#model = ResNet20GN(num_classes=10)\n",
        "#model = WRN16_4_GN(num_classes=10)\n",
        "class EfficientNetForCIFAR10(nn.Module):\n",
        "    def __init__(self, num_classes=10):\n",
        "        super(EfficientNetForCIFAR10, self).__init__()\n",
        "        # Load EfficientNet B0 (or another variant)\n",
        "        self.efficient_net = efficientnet_b0(pretrained=True)\n",
        "        # Replace the classifier with a custom output layer\n",
        "        self.efficient_net.classifier[1] = nn.Linear(self.efficient_net.classifier[1].in_features, num_classes)\n",
        "\n",
        "    def forward(self, x):\n",
        "        return self.efficient_net(x)\n",
        "\n",
        "# Instantiate the model\n",
        "model = EfficientNetForCIFAR10(num_classes=10)\n",
        "device = torch.device(\"cuda\" if torch.cuda.is_available() else \"cpu\")\n",
        "model = ModuleValidator.fix(model)\n",
        "model = model.to(device)\n",
        "optimizer = optim.RMSprop(model.parameters(), lr=LR, momentum=0.9, alpha=0.99)\n",
        "ModuleValidator.validate(model, strict=False)\n",
        "\n",
        "privacy_engine = PrivacyEngine()\n",
        "model, optimizer, train_loader = privacy_engine.make_private_with_epsilon(\n",
        "    module=model,\n",
        "    optimizer=optimizer,\n",
        "    data_loader=train_loader,\n",
        "    epochs=EPOCHS,\n",
        "    target_epsilon=EPSILON,\n",
        "    target_delta=DELTA,\n",
        "    max_grad_norm=MAX_GRAD_NORM\n",
        ")\n",
        "\n",
        "ema = EMA(model, decay=0.95)\n",
        "# Adaptive learning rate scheduler\n",
        "scheduler = torch.optim.lr_scheduler.CosineAnnealingLR(optimizer, T_max=EPOCHS * len(train_loader), eta_min=9e-5)\n",
        "print(f\"Using sigma={optimizer.noise_multiplier}\")\n",
        "# Loss function\n",
        "criterion = nn.CrossEntropyLoss()\n",
        "\n",
        "\n",
        "# Grouped Gradient Clipping Function\n",
        "def GroupedGradClip(gradients, bound, groups):\n",
        "    # Flatten gradients before splitting\n",
        "    flat_grad = gradients.view(gradients.size(0), -1)  # Flatten to process gradients as a 2D tensor\n",
        "    grouped_grads = torch.chunk(flat_grad, groups, dim=1)  # Chunk along the feature dimension\n",
        "    clipped_grads = []\n",
        "\n",
        "    # Compute the norm for each group and clip\n",
        "    for g in grouped_grads:\n",
        "        grad_norm = torch.norm(g, dim=1, keepdim=True)\n",
        "        clip_coef = torch.clamp(bound / (grad_norm + 1e-6), max=1.0)  # Clip the gradient norm\n",
        "        clipped_grads.append(g * clip_coef)\n",
        "\n",
        "    # Concatenate back the clipped gradients and reshape to original\n",
        "    clipped_flat_grad = torch.cat(clipped_grads, dim=1)\n",
        "\n",
        "    # Reshape back to original gradient shape\n",
        "    return clipped_flat_grad.view_as(gradients)\n",
        "\n",
        "\n",
        "L=256\n",
        "# Training and testing functions\n",
        "\n",
        "def train(model, train_loader, optimizer, epoch, device):\n",
        "    model.train()\n",
        "    losses = []\n",
        "    top1_acc = []\n",
        "\n",
        "    with BatchMemoryManager(data_loader=train_loader, max_physical_batch_size=MAX_PHYSICAL_BATCH_SIZE, optimizer=optimizer) as memory_safe_data_loader:\n",
        "        for batch_idx, (data, target) in tqdm(enumerate(memory_safe_data_loader), total=len(memory_safe_data_loader)):\n",
        "            data, target = data.to(device), target.to(device)\n",
        "            optimizer.zero_grad()\n",
        "            output = model(data)\n",
        "            loss = criterion(output, target)\n",
        "            loss.backward()\n",
        "\n",
        "            # Apply grouped gradient clipping\n",
        "            for l,p in enumerate(model.parameters()):\n",
        "                  if p.grad is not None:\n",
        "                      p.grad = GroupedGradClip(p.grad, bound, NUM_GROUPS)\n",
        "                      v=NOISE_MULTIPLIER / (l + 1)\n",
        "                      noise = torch.normal(mean=0, std=v * bound, size=p.grad.shape, device=device)\n",
        "                      p.grad = (p.grad + noise) / L  # Normalize by group size\n",
        "\n",
        "\n",
        "\n",
        "            optimizer.step()\n",
        "            losses.append(loss.item())\n",
        "            _, predicted = torch.max(output.data, 1)\n",
        "            correct = predicted.eq(target).sum().item()\n",
        "            top1_acc.append(correct / target.size(0))\n",
        "            ema.update(model)\n",
        "            if (batch_idx + 1) % 200 == 0:\n",
        "                epsilon = privacy_engine.get_epsilon(DELTA)\n",
        "                print(\n",
        "                    f\"(e = {epsilon:.2f}, d = {DELTA})\"\n",
        "                )\n",
        "\n",
        "\n",
        "    avg_loss = np.mean(losses)\n",
        "    avg_acc = np.mean(top1_acc) * 100\n",
        "    return avg_loss, avg_acc,epsilon\n",
        "\n",
        "def test_with_ema(model, test_loader, device, ema):\n",
        "    ema.apply_shadow(model)  # Apply EMA parameters\n",
        "    test_loss, test_accuracy = test(model, test_loader, device)\n",
        "    ema.restore(model)  # Restore original parameters\n",
        "    return test_loss, test_accuracy\n",
        "\n",
        "def test(model, test_loader, device):\n",
        "    model.eval()\n",
        "    losses = []\n",
        "    top1_acc = []\n",
        "\n",
        "    with torch.no_grad():\n",
        "        for data, target in test_loader:\n",
        "            data, target = data.to(device), target.to(device)\n",
        "            output = model(data)\n",
        "            loss = criterion(output, target)\n",
        "            preds = np.argmax(output.detach().cpu().numpy(), axis=1)\n",
        "            labels = target.detach().cpu().numpy()\n",
        "\n",
        "            # Calculate accuracy\n",
        "            acc = np.mean(preds == labels)\n",
        "\n",
        "\n",
        "            losses.append(loss.item())\n",
        "            top1_acc.append(acc)\n",
        "\n",
        "\n",
        "    avg_loss = np.mean(losses)\n",
        "    avg_accuracy = np.mean(top1_acc)*100\n",
        "    return avg_loss, avg_accuracy\n",
        "\n",
        "\n",
        "import matplotlib.pyplot as plt\n",
        "\n",
        "train_accuracies = []\n",
        "test_accuracies = []\n",
        "epsilons = []\n",
        "train_losses = []\n",
        "test_losses = []\n",
        "epochs = []\n",
        "\n",
        "# Run training loop with logging\n",
        "for epoch in range(1, EPOCHS + 1):\n",
        "    train_loss, train_acc, epsilonv = train(model, train_loader, optimizer, epoch, device)\n",
        "    test_loss, test_accuracy = test_with_ema(model, test_loader, device, ema)\n",
        "    print(f\"Epoch {epoch}: Train Loss={train_loss:.4f}, Train Acc={train_acc:.2f}%, \"\n",
        "          f\"Test Loss={test_loss:.4f}, Test Acc={test_accuracy:.2f}%, Epsilon={epsilonv:.2f}\")\n",
        "    scheduler.step(test_loss)\n",
        "\n",
        "    # Log metrics for plotting\n",
        "    train_accuracies.append(train_acc)\n",
        "    test_accuracies.append(test_accuracy)\n",
        "    epsilons.append(epsilonv)\n",
        "    train_losses.append(train_loss)\n",
        "    test_losses.append(test_loss)\n",
        "    epochs.append(epoch)\n",
        "\n",
        "\n",
        "\n",
        "# Plot 1: Test Accuracy vs Epsilon\n",
        "plt.figure(figsize=(10, 6))\n",
        "plt.plot(epsilons, test_accuracies, marker='o', label=\"Test Accuracy\")\n",
        "plt.xlabel(\"Epsilon\")\n",
        "plt.ylabel(\"Test Accuracy (%)\")\n",
        "plt.title(\"Test Accuracy vs Epsilon\")\n",
        "plt.grid(True)\n",
        "plt.legend()\n",
        "plt.show()\n",
        "\n",
        "# Plot 2: Train and Test Accuracy vs Epochs\n",
        "plt.figure(figsize=(10, 6))\n",
        "plt.plot(epochs, train_accuracies, label=\"Train Accuracy\", marker='o')\n",
        "plt.plot(epochs, test_accuracies, label=\"Test Accuracy\", marker='s')\n",
        "plt.xlabel(\"Epochs\")\n",
        "plt.ylabel(\"Accuracy (%)\")\n",
        "plt.title(\"Train and Test Accuracy vs Epochs\")\n",
        "plt.grid(True)\n",
        "plt.legend()\n",
        "plt.show()\n",
        "import pandas as pd\n",
        "metrics_data = {\n",
        "    \"Epoch\": epochs,\n",
        "    \"Train Accuracy\": train_accuracies,\n",
        "    \"Test Accuracy\": test_accuracies,\n",
        "    \"Epsilon\": epsilons,\n",
        "    \"Train Loss\": train_losses,\n",
        "    \"Test Loss\": test_losses\n",
        "}\n",
        "metrics_df = pd.DataFrame(metrics_data)\n",
        "\n",
        "# Save the DataFrame to an Excel file\n",
        "output_file = \"metrics_datareseff.xlsx\"\n",
        "metrics_df.to_excel(output_file, index=False)\n",
        "\n",
        "print(f\"Metrics data successfully saved to {output_file}.\")\n",
        "# Print final epsilon after training\n",
        "final_epsilon = privacy_engine.get_epsilon(DELTA)\n"
      ],
      "metadata": {
        "colab": {
          "base_uri": "https://localhost:8080/",
          "height": 1000
        },
        "id": "6-pwBoMZWa23",
        "outputId": "c52a1ea5-8e66-4db6-eb82-a839ac24f69f"
      },
      "execution_count": 3,
      "outputs": [
        {
          "output_type": "stream",
          "name": "stdout",
          "text": [
            "Files already downloaded and verified\n",
            "Files already downloaded and verified\n",
            "Using sigma=2.880859375\n"
          ]
        },
        {
          "output_type": "stream",
          "name": "stderr",
          "text": [
            " 51%|█████     | 200/391 [01:28<01:26,  2.20it/s]"
          ]
        },
        {
          "output_type": "stream",
          "name": "stdout",
          "text": [
            "(e = 0.29, d = 1e-05)\n"
          ]
        },
        {
          "output_type": "stream",
          "name": "stderr",
          "text": [
            "398it [02:55,  2.27it/s]\n"
          ]
        },
        {
          "output_type": "stream",
          "name": "stdout",
          "text": [
            "Epoch 1: Train Loss=2.8595, Train Acc=10.69%, Test Loss=2.9219, Test Acc=11.12%, Epsilon=0.29\n"
          ]
        },
        {
          "output_type": "stream",
          "name": "stderr",
          "text": [
            " 51%|█████     | 200/391 [01:28<01:28,  2.16it/s]"
          ]
        },
        {
          "output_type": "stream",
          "name": "stdout",
          "text": [
            "(e = 0.49, d = 1e-05)\n"
          ]
        },
        {
          "output_type": "stream",
          "name": "stderr",
          "text": [
            "400it [02:56,  2.09it/s]"
          ]
        },
        {
          "output_type": "stream",
          "name": "stdout",
          "text": [
            "(e = 0.56, d = 1e-05)\n"
          ]
        },
        {
          "output_type": "stream",
          "name": "stderr",
          "text": [
            "401it [02:57,  2.26it/s]\n"
          ]
        },
        {
          "output_type": "stream",
          "name": "stdout",
          "text": [
            "Epoch 2: Train Loss=4.9791, Train Acc=10.13%, Test Loss=4.4125, Test Acc=10.07%, Epsilon=0.56\n"
          ]
        },
        {
          "output_type": "stream",
          "name": "stderr",
          "text": [
            " 51%|█████     | 200/391 [01:28<01:28,  2.16it/s]"
          ]
        },
        {
          "output_type": "stream",
          "name": "stdout",
          "text": [
            "(e = 0.63, d = 1e-05)\n"
          ]
        },
        {
          "output_type": "stream",
          "name": "stderr",
          "text": [
            "397it [02:55,  2.26it/s]\n"
          ]
        },
        {
          "output_type": "stream",
          "name": "stdout",
          "text": [
            "Epoch 3: Train Loss=3.9892, Train Acc=10.14%, Test Loss=2.7027, Test Acc=10.17%, Epsilon=0.63\n"
          ]
        },
        {
          "output_type": "stream",
          "name": "stderr",
          "text": [
            " 51%|█████     | 200/391 [01:28<01:28,  2.17it/s]"
          ]
        },
        {
          "output_type": "stream",
          "name": "stdout",
          "text": [
            "(e = 0.74, d = 1e-05)\n"
          ]
        },
        {
          "output_type": "stream",
          "name": "stderr",
          "text": [
            "397it [02:55,  2.26it/s]\n"
          ]
        },
        {
          "output_type": "stream",
          "name": "stdout",
          "text": [
            "Epoch 4: Train Loss=2.9325, Train Acc=9.60%, Test Loss=2.4545, Test Acc=10.25%, Epsilon=0.74\n"
          ]
        },
        {
          "output_type": "stream",
          "name": "stderr",
          "text": [
            " 51%|█████     | 200/391 [01:28<01:29,  2.14it/s]"
          ]
        },
        {
          "output_type": "stream",
          "name": "stdout",
          "text": [
            "(e = 0.84, d = 1e-05)\n"
          ]
        },
        {
          "output_type": "stream",
          "name": "stderr",
          "text": [
            "396it [02:55,  2.26it/s]\n"
          ]
        },
        {
          "output_type": "stream",
          "name": "stdout",
          "text": [
            "Epoch 5: Train Loss=2.6389, Train Acc=10.20%, Test Loss=2.3145, Test Acc=12.31%, Epsilon=0.84\n"
          ]
        },
        {
          "output_type": "stream",
          "name": "stderr",
          "text": [
            " 51%|█████     | 200/391 [01:28<01:29,  2.13it/s]"
          ]
        },
        {
          "output_type": "stream",
          "name": "stdout",
          "text": [
            "(e = 0.93, d = 1e-05)\n"
          ]
        },
        {
          "output_type": "stream",
          "name": "stderr",
          "text": [
            "399it [02:57,  2.25it/s]\n"
          ]
        },
        {
          "output_type": "stream",
          "name": "stdout",
          "text": [
            "Epoch 6: Train Loss=2.5331, Train Acc=11.07%, Test Loss=2.2305, Test Acc=15.21%, Epsilon=0.93\n"
          ]
        },
        {
          "output_type": "stream",
          "name": "stderr",
          "text": [
            " 51%|█████     | 200/391 [01:29<01:29,  2.14it/s]"
          ]
        },
        {
          "output_type": "stream",
          "name": "stdout",
          "text": [
            "(e = 1.01, d = 1e-05)\n"
          ]
        },
        {
          "output_type": "stream",
          "name": "stderr",
          "text": [
            "394it [02:55,  2.25it/s]\n"
          ]
        },
        {
          "output_type": "stream",
          "name": "stdout",
          "text": [
            "Epoch 7: Train Loss=2.4184, Train Acc=14.14%, Test Loss=2.1848, Test Acc=17.22%, Epsilon=1.01\n"
          ]
        },
        {
          "output_type": "stream",
          "name": "stderr",
          "text": [
            " 51%|█████     | 200/391 [01:28<01:29,  2.13it/s]"
          ]
        },
        {
          "output_type": "stream",
          "name": "stdout",
          "text": [
            "(e = 1.09, d = 1e-05)\n"
          ]
        },
        {
          "output_type": "stream",
          "name": "stderr",
          "text": [
            "396it [02:56,  2.25it/s]\n"
          ]
        },
        {
          "output_type": "stream",
          "name": "stdout",
          "text": [
            "Epoch 8: Train Loss=2.3357, Train Acc=15.91%, Test Loss=2.1354, Test Acc=19.80%, Epsilon=1.09\n"
          ]
        },
        {
          "output_type": "stream",
          "name": "stderr",
          "text": [
            " 51%|█████     | 200/391 [01:28<01:29,  2.14it/s]"
          ]
        },
        {
          "output_type": "stream",
          "name": "stdout",
          "text": [
            "(e = 1.16, d = 1e-05)\n"
          ]
        },
        {
          "output_type": "stream",
          "name": "stderr",
          "text": [
            "397it [02:55,  2.26it/s]\n"
          ]
        },
        {
          "output_type": "stream",
          "name": "stdout",
          "text": [
            "Epoch 9: Train Loss=2.2918, Train Acc=17.18%, Test Loss=2.1287, Test Acc=20.74%, Epsilon=1.16\n"
          ]
        },
        {
          "output_type": "stream",
          "name": "stderr",
          "text": [
            " 51%|█████     | 200/391 [01:28<01:28,  2.15it/s]"
          ]
        },
        {
          "output_type": "stream",
          "name": "stdout",
          "text": [
            "(e = 1.23, d = 1e-05)\n"
          ]
        },
        {
          "output_type": "stream",
          "name": "stderr",
          "text": [
            "394it [02:55,  2.25it/s]\n"
          ]
        },
        {
          "output_type": "stream",
          "name": "stdout",
          "text": [
            "Epoch 10: Train Loss=2.2774, Train Acc=18.57%, Test Loss=2.1121, Test Acc=23.72%, Epsilon=1.23\n"
          ]
        },
        {
          "output_type": "stream",
          "name": "stderr",
          "text": [
            " 51%|█████     | 200/391 [01:29<01:31,  2.08it/s]"
          ]
        },
        {
          "output_type": "stream",
          "name": "stdout",
          "text": [
            "(e = 1.30, d = 1e-05)\n"
          ]
        },
        {
          "output_type": "stream",
          "name": "stderr",
          "text": [
            "400it [02:57,  2.25it/s]"
          ]
        },
        {
          "output_type": "stream",
          "name": "stdout",
          "text": [
            "(e = 1.33, d = 1e-05)\n"
          ]
        },
        {
          "output_type": "stream",
          "name": "stderr",
          "text": [
            "\n"
          ]
        },
        {
          "output_type": "stream",
          "name": "stdout",
          "text": [
            "Epoch 11: Train Loss=2.2334, Train Acc=20.24%, Test Loss=2.1139, Test Acc=24.70%, Epsilon=1.33\n"
          ]
        },
        {
          "output_type": "stream",
          "name": "stderr",
          "text": [
            " 51%|█████     | 200/391 [01:28<01:29,  2.13it/s]"
          ]
        },
        {
          "output_type": "stream",
          "name": "stdout",
          "text": [
            "(e = 1.36, d = 1e-05)\n"
          ]
        },
        {
          "output_type": "stream",
          "name": "stderr",
          "text": [
            "396it [02:55,  2.26it/s]\n"
          ]
        },
        {
          "output_type": "stream",
          "name": "stdout",
          "text": [
            "Epoch 12: Train Loss=2.2098, Train Acc=21.53%, Test Loss=2.0551, Test Acc=28.00%, Epsilon=1.36\n"
          ]
        },
        {
          "output_type": "stream",
          "name": "stderr",
          "text": [
            " 51%|█████     | 200/391 [01:29<01:29,  2.12it/s]"
          ]
        },
        {
          "output_type": "stream",
          "name": "stdout",
          "text": [
            "(e = 1.42, d = 1e-05)\n"
          ]
        },
        {
          "output_type": "stream",
          "name": "stderr",
          "text": [
            "397it [02:56,  2.25it/s]\n"
          ]
        },
        {
          "output_type": "stream",
          "name": "stdout",
          "text": [
            "Epoch 13: Train Loss=2.1767, Train Acc=23.72%, Test Loss=2.0561, Test Acc=29.45%, Epsilon=1.42\n"
          ]
        },
        {
          "output_type": "stream",
          "name": "stderr",
          "text": [
            " 51%|█████     | 200/391 [01:28<01:30,  2.10it/s]"
          ]
        },
        {
          "output_type": "stream",
          "name": "stdout",
          "text": [
            "(e = 1.48, d = 1e-05)\n"
          ]
        },
        {
          "output_type": "stream",
          "name": "stderr",
          "text": [
            "397it [02:56,  2.25it/s]\n"
          ]
        },
        {
          "output_type": "stream",
          "name": "stdout",
          "text": [
            "Epoch 14: Train Loss=2.1278, Train Acc=25.51%, Test Loss=1.9869, Test Acc=31.09%, Epsilon=1.48\n"
          ]
        },
        {
          "output_type": "stream",
          "name": "stderr",
          "text": [
            " 51%|█████     | 200/391 [01:28<01:30,  2.11it/s]"
          ]
        },
        {
          "output_type": "stream",
          "name": "stdout",
          "text": [
            "(e = 1.53, d = 1e-05)\n"
          ]
        },
        {
          "output_type": "stream",
          "name": "stderr",
          "text": [
            "397it [02:55,  2.26it/s]\n"
          ]
        },
        {
          "output_type": "stream",
          "name": "stdout",
          "text": [
            "Epoch 15: Train Loss=2.1257, Train Acc=26.93%, Test Loss=2.0770, Test Acc=31.59%, Epsilon=1.53\n"
          ]
        },
        {
          "output_type": "stream",
          "name": "stderr",
          "text": [
            " 51%|█████     | 200/391 [01:28<01:30,  2.11it/s]"
          ]
        },
        {
          "output_type": "stream",
          "name": "stdout",
          "text": [
            "(e = 1.59, d = 1e-05)\n"
          ]
        },
        {
          "output_type": "stream",
          "name": "stderr",
          "text": [
            "398it [02:56,  2.26it/s]\n"
          ]
        },
        {
          "output_type": "stream",
          "name": "stdout",
          "text": [
            "Epoch 16: Train Loss=2.1329, Train Acc=27.71%, Test Loss=1.9985, Test Acc=34.26%, Epsilon=1.59\n"
          ]
        },
        {
          "output_type": "stream",
          "name": "stderr",
          "text": [
            " 51%|█████     | 200/391 [01:27<01:28,  2.17it/s]"
          ]
        },
        {
          "output_type": "stream",
          "name": "stdout",
          "text": [
            "(e = 1.64, d = 1e-05)\n"
          ]
        },
        {
          "output_type": "stream",
          "name": "stderr",
          "text": [
            "398it [02:55,  2.27it/s]\n"
          ]
        },
        {
          "output_type": "stream",
          "name": "stdout",
          "text": [
            "Epoch 17: Train Loss=2.0984, Train Acc=29.79%, Test Loss=1.9891, Test Acc=34.87%, Epsilon=1.64\n"
          ]
        },
        {
          "output_type": "stream",
          "name": "stderr",
          "text": [
            " 51%|█████     | 200/391 [01:29<01:30,  2.11it/s]"
          ]
        },
        {
          "output_type": "stream",
          "name": "stdout",
          "text": [
            "(e = 1.70, d = 1e-05)\n"
          ]
        },
        {
          "output_type": "stream",
          "name": "stderr",
          "text": [
            "396it [02:56,  2.24it/s]\n"
          ]
        },
        {
          "output_type": "stream",
          "name": "stdout",
          "text": [
            "Epoch 18: Train Loss=2.0715, Train Acc=31.03%, Test Loss=1.9992, Test Acc=35.47%, Epsilon=1.70\n"
          ]
        },
        {
          "output_type": "stream",
          "name": "stderr",
          "text": [
            " 51%|█████     | 200/391 [01:28<01:29,  2.12it/s]"
          ]
        },
        {
          "output_type": "stream",
          "name": "stdout",
          "text": [
            "(e = 1.75, d = 1e-05)\n"
          ]
        },
        {
          "output_type": "stream",
          "name": "stderr",
          "text": [
            "398it [02:56,  2.25it/s]\n"
          ]
        },
        {
          "output_type": "stream",
          "name": "stdout",
          "text": [
            "Epoch 19: Train Loss=2.0526, Train Acc=32.87%, Test Loss=1.9269, Test Acc=37.82%, Epsilon=1.75\n"
          ]
        },
        {
          "output_type": "stream",
          "name": "stderr",
          "text": [
            " 51%|█████     | 200/391 [01:29<01:30,  2.10it/s]"
          ]
        },
        {
          "output_type": "stream",
          "name": "stdout",
          "text": [
            "(e = 1.80, d = 1e-05)\n"
          ]
        },
        {
          "output_type": "stream",
          "name": "stderr",
          "text": [
            "396it [02:56,  2.24it/s]\n"
          ]
        },
        {
          "output_type": "stream",
          "name": "stdout",
          "text": [
            "Epoch 20: Train Loss=2.0493, Train Acc=34.25%, Test Loss=1.8989, Test Acc=38.57%, Epsilon=1.80\n"
          ]
        },
        {
          "output_type": "stream",
          "name": "stderr",
          "text": [
            " 51%|█████     | 200/391 [01:28<01:28,  2.15it/s]"
          ]
        },
        {
          "output_type": "stream",
          "name": "stdout",
          "text": [
            "(e = 1.85, d = 1e-05)\n"
          ]
        },
        {
          "output_type": "stream",
          "name": "stderr",
          "text": [
            "395it [02:54,  2.26it/s]\n"
          ]
        },
        {
          "output_type": "stream",
          "name": "stdout",
          "text": [
            "Epoch 21: Train Loss=2.0527, Train Acc=35.24%, Test Loss=1.9374, Test Acc=39.15%, Epsilon=1.85\n"
          ]
        },
        {
          "output_type": "stream",
          "name": "stderr",
          "text": [
            " 51%|█████     | 200/391 [01:28<01:29,  2.13it/s]"
          ]
        },
        {
          "output_type": "stream",
          "name": "stdout",
          "text": [
            "(e = 1.89, d = 1e-05)\n"
          ]
        },
        {
          "output_type": "stream",
          "name": "stderr",
          "text": [
            "398it [02:56,  2.26it/s]\n"
          ]
        },
        {
          "output_type": "stream",
          "name": "stdout",
          "text": [
            "Epoch 22: Train Loss=2.0533, Train Acc=36.02%, Test Loss=2.0133, Test Acc=40.21%, Epsilon=1.89\n"
          ]
        },
        {
          "output_type": "stream",
          "name": "stderr",
          "text": [
            " 51%|█████     | 200/391 [01:28<01:30,  2.12it/s]"
          ]
        },
        {
          "output_type": "stream",
          "name": "stdout",
          "text": [
            "(e = 1.94, d = 1e-05)\n"
          ]
        },
        {
          "output_type": "stream",
          "name": "stderr",
          "text": [
            "399it [02:56,  2.26it/s]\n"
          ]
        },
        {
          "output_type": "stream",
          "name": "stdout",
          "text": [
            "Epoch 23: Train Loss=2.0437, Train Acc=37.31%, Test Loss=2.0348, Test Acc=40.67%, Epsilon=1.94\n"
          ]
        },
        {
          "output_type": "stream",
          "name": "stderr",
          "text": [
            " 51%|█████     | 200/391 [01:28<01:30,  2.12it/s]"
          ]
        },
        {
          "output_type": "stream",
          "name": "stdout",
          "text": [
            "(e = 1.99, d = 1e-05)\n"
          ]
        },
        {
          "output_type": "stream",
          "name": "stderr",
          "text": [
            "398it [02:56,  2.26it/s]\n"
          ]
        },
        {
          "output_type": "stream",
          "name": "stdout",
          "text": [
            "Epoch 24: Train Loss=2.0827, Train Acc=38.16%, Test Loss=2.0177, Test Acc=40.81%, Epsilon=1.99\n"
          ]
        },
        {
          "output_type": "stream",
          "name": "stderr",
          "text": [
            " 51%|█████     | 200/391 [01:28<01:29,  2.13it/s]"
          ]
        },
        {
          "output_type": "stream",
          "name": "stdout",
          "text": [
            "(e = 2.03, d = 1e-05)\n"
          ]
        },
        {
          "output_type": "stream",
          "name": "stderr",
          "text": [
            "396it [02:55,  2.25it/s]\n"
          ]
        },
        {
          "output_type": "stream",
          "name": "stdout",
          "text": [
            "Epoch 25: Train Loss=2.1067, Train Acc=38.32%, Test Loss=1.9685, Test Acc=41.74%, Epsilon=2.03\n"
          ]
        },
        {
          "output_type": "stream",
          "name": "stderr",
          "text": [
            " 51%|█████     | 200/391 [01:28<01:30,  2.11it/s]"
          ]
        },
        {
          "output_type": "stream",
          "name": "stdout",
          "text": [
            "(e = 2.07, d = 1e-05)\n"
          ]
        },
        {
          "output_type": "stream",
          "name": "stderr",
          "text": [
            "399it [02:56,  2.26it/s]\n"
          ]
        },
        {
          "output_type": "stream",
          "name": "stdout",
          "text": [
            "Epoch 26: Train Loss=2.0906, Train Acc=38.77%, Test Loss=1.9818, Test Acc=41.59%, Epsilon=2.07\n"
          ]
        },
        {
          "output_type": "stream",
          "name": "stderr",
          "text": [
            " 51%|█████     | 200/391 [01:28<01:29,  2.13it/s]"
          ]
        },
        {
          "output_type": "stream",
          "name": "stdout",
          "text": [
            "(e = 2.12, d = 1e-05)\n"
          ]
        },
        {
          "output_type": "stream",
          "name": "stderr",
          "text": [
            "399it [02:56,  2.26it/s]\n"
          ]
        },
        {
          "output_type": "stream",
          "name": "stdout",
          "text": [
            "Epoch 27: Train Loss=2.0953, Train Acc=39.69%, Test Loss=1.9482, Test Acc=41.72%, Epsilon=2.12\n"
          ]
        },
        {
          "output_type": "stream",
          "name": "stderr",
          "text": [
            " 51%|█████     | 200/391 [01:28<01:30,  2.12it/s]"
          ]
        },
        {
          "output_type": "stream",
          "name": "stdout",
          "text": [
            "(e = 2.16, d = 1e-05)\n"
          ]
        },
        {
          "output_type": "stream",
          "name": "stderr",
          "text": [
            "397it [02:55,  2.26it/s]\n"
          ]
        },
        {
          "output_type": "stream",
          "name": "stdout",
          "text": [
            "Epoch 28: Train Loss=2.0939, Train Acc=40.09%, Test Loss=2.0240, Test Acc=42.71%, Epsilon=2.16\n"
          ]
        },
        {
          "output_type": "stream",
          "name": "stderr",
          "text": [
            " 51%|█████     | 200/391 [01:29<01:32,  2.07it/s]"
          ]
        },
        {
          "output_type": "stream",
          "name": "stdout",
          "text": [
            "(e = 2.20, d = 1e-05)\n"
          ]
        },
        {
          "output_type": "stream",
          "name": "stderr",
          "text": [
            "394it [02:55,  2.25it/s]\n"
          ]
        },
        {
          "output_type": "stream",
          "name": "stdout",
          "text": [
            "Epoch 29: Train Loss=2.0987, Train Acc=41.13%, Test Loss=2.0284, Test Acc=43.51%, Epsilon=2.20\n"
          ]
        },
        {
          "output_type": "stream",
          "name": "stderr",
          "text": [
            " 51%|█████     | 200/391 [01:28<01:29,  2.13it/s]"
          ]
        },
        {
          "output_type": "stream",
          "name": "stdout",
          "text": [
            "(e = 2.24, d = 1e-05)\n"
          ]
        },
        {
          "output_type": "stream",
          "name": "stderr",
          "text": [
            "397it [02:56,  2.25it/s]\n"
          ]
        },
        {
          "output_type": "stream",
          "name": "stdout",
          "text": [
            "Epoch 30: Train Loss=2.0905, Train Acc=41.15%, Test Loss=1.9962, Test Acc=43.91%, Epsilon=2.24\n"
          ]
        },
        {
          "output_type": "stream",
          "name": "stderr",
          "text": [
            " 51%|█████     | 200/391 [01:28<01:31,  2.09it/s]"
          ]
        },
        {
          "output_type": "stream",
          "name": "stdout",
          "text": [
            "(e = 2.29, d = 1e-05)\n"
          ]
        },
        {
          "output_type": "stream",
          "name": "stderr",
          "text": [
            "395it [02:55,  2.25it/s]\n"
          ]
        },
        {
          "output_type": "stream",
          "name": "stdout",
          "text": [
            "Epoch 31: Train Loss=2.0864, Train Acc=41.96%, Test Loss=1.9788, Test Acc=44.37%, Epsilon=2.29\n"
          ]
        },
        {
          "output_type": "stream",
          "name": "stderr",
          "text": [
            " 51%|█████     | 200/391 [01:28<01:30,  2.12it/s]"
          ]
        },
        {
          "output_type": "stream",
          "name": "stdout",
          "text": [
            "(e = 2.33, d = 1e-05)\n"
          ]
        },
        {
          "output_type": "stream",
          "name": "stderr",
          "text": [
            "394it [02:54,  2.26it/s]\n"
          ]
        },
        {
          "output_type": "stream",
          "name": "stdout",
          "text": [
            "Epoch 32: Train Loss=2.0876, Train Acc=42.27%, Test Loss=1.9316, Test Acc=45.11%, Epsilon=2.33\n"
          ]
        },
        {
          "output_type": "stream",
          "name": "stderr",
          "text": [
            " 51%|█████     | 200/391 [01:29<01:32,  2.06it/s]"
          ]
        },
        {
          "output_type": "stream",
          "name": "stdout",
          "text": [
            "(e = 2.37, d = 1e-05)\n"
          ]
        },
        {
          "output_type": "stream",
          "name": "stderr",
          "text": [
            "398it [02:57,  2.24it/s]\n"
          ]
        },
        {
          "output_type": "stream",
          "name": "stdout",
          "text": [
            "Epoch 33: Train Loss=2.0881, Train Acc=42.55%, Test Loss=1.9948, Test Acc=45.15%, Epsilon=2.37\n"
          ]
        },
        {
          "output_type": "stream",
          "name": "stderr",
          "text": [
            " 51%|█████     | 200/391 [01:28<01:30,  2.12it/s]"
          ]
        },
        {
          "output_type": "stream",
          "name": "stdout",
          "text": [
            "(e = 2.40, d = 1e-05)\n"
          ]
        },
        {
          "output_type": "stream",
          "name": "stderr",
          "text": [
            "398it [02:56,  2.26it/s]\n"
          ]
        },
        {
          "output_type": "stream",
          "name": "stdout",
          "text": [
            "Epoch 34: Train Loss=2.0810, Train Acc=43.19%, Test Loss=2.0188, Test Acc=45.44%, Epsilon=2.40\n"
          ]
        },
        {
          "output_type": "stream",
          "name": "stderr",
          "text": [
            " 51%|█████     | 200/391 [01:28<01:30,  2.12it/s]"
          ]
        },
        {
          "output_type": "stream",
          "name": "stdout",
          "text": [
            "(e = 2.44, d = 1e-05)\n"
          ]
        },
        {
          "output_type": "stream",
          "name": "stderr",
          "text": [
            "397it [02:56,  2.26it/s]\n"
          ]
        },
        {
          "output_type": "stream",
          "name": "stdout",
          "text": [
            "Epoch 35: Train Loss=2.1019, Train Acc=43.22%, Test Loss=1.9316, Test Acc=46.16%, Epsilon=2.44\n"
          ]
        },
        {
          "output_type": "stream",
          "name": "stderr",
          "text": [
            " 51%|█████     | 200/391 [01:28<01:30,  2.12it/s]"
          ]
        },
        {
          "output_type": "stream",
          "name": "stdout",
          "text": [
            "(e = 2.48, d = 1e-05)\n"
          ]
        },
        {
          "output_type": "stream",
          "name": "stderr",
          "text": [
            "399it [02:56,  2.26it/s]\n"
          ]
        },
        {
          "output_type": "stream",
          "name": "stdout",
          "text": [
            "Epoch 36: Train Loss=2.1052, Train Acc=43.62%, Test Loss=1.9748, Test Acc=46.84%, Epsilon=2.48\n"
          ]
        },
        {
          "output_type": "stream",
          "name": "stderr",
          "text": [
            " 51%|█████     | 200/391 [01:28<01:31,  2.08it/s]"
          ]
        },
        {
          "output_type": "stream",
          "name": "stdout",
          "text": [
            "(e = 2.52, d = 1e-05)\n"
          ]
        },
        {
          "output_type": "stream",
          "name": "stderr",
          "text": [
            "395it [02:55,  2.25it/s]\n"
          ]
        },
        {
          "output_type": "stream",
          "name": "stdout",
          "text": [
            "Epoch 37: Train Loss=2.1025, Train Acc=43.72%, Test Loss=2.0175, Test Acc=47.05%, Epsilon=2.52\n"
          ]
        },
        {
          "output_type": "stream",
          "name": "stderr",
          "text": [
            " 51%|█████     | 200/391 [01:28<01:32,  2.06it/s]"
          ]
        },
        {
          "output_type": "stream",
          "name": "stdout",
          "text": [
            "(e = 2.56, d = 1e-05)\n"
          ]
        },
        {
          "output_type": "stream",
          "name": "stderr",
          "text": [
            "397it [02:56,  2.26it/s]\n"
          ]
        },
        {
          "output_type": "stream",
          "name": "stdout",
          "text": [
            "Epoch 38: Train Loss=2.0592, Train Acc=44.60%, Test Loss=1.9725, Test Acc=47.26%, Epsilon=2.56\n"
          ]
        },
        {
          "output_type": "stream",
          "name": "stderr",
          "text": [
            " 51%|█████     | 200/391 [01:28<01:31,  2.08it/s]"
          ]
        },
        {
          "output_type": "stream",
          "name": "stdout",
          "text": [
            "(e = 2.59, d = 1e-05)\n"
          ]
        },
        {
          "output_type": "stream",
          "name": "stderr",
          "text": [
            "400it [02:57,  2.26it/s]"
          ]
        },
        {
          "output_type": "stream",
          "name": "stdout",
          "text": [
            "(e = 2.61, d = 1e-05)\n"
          ]
        },
        {
          "output_type": "stream",
          "name": "stderr",
          "text": [
            "\n"
          ]
        },
        {
          "output_type": "stream",
          "name": "stdout",
          "text": [
            "Epoch 39: Train Loss=2.0962, Train Acc=44.83%, Test Loss=2.0593, Test Acc=47.55%, Epsilon=2.61\n"
          ]
        },
        {
          "output_type": "stream",
          "name": "stderr",
          "text": [
            " 51%|█████     | 200/391 [01:29<01:32,  2.06it/s]"
          ]
        },
        {
          "output_type": "stream",
          "name": "stdout",
          "text": [
            "(e = 2.63, d = 1e-05)\n"
          ]
        },
        {
          "output_type": "stream",
          "name": "stderr",
          "text": [
            "394it [02:55,  2.25it/s]\n"
          ]
        },
        {
          "output_type": "stream",
          "name": "stdout",
          "text": [
            "Epoch 40: Train Loss=2.1045, Train Acc=44.64%, Test Loss=1.9700, Test Acc=47.15%, Epsilon=2.63\n"
          ]
        },
        {
          "output_type": "stream",
          "name": "stderr",
          "text": [
            " 51%|█████     | 200/391 [01:29<01:35,  1.99it/s]"
          ]
        },
        {
          "output_type": "stream",
          "name": "stdout",
          "text": [
            "(e = 2.67, d = 1e-05)\n"
          ]
        },
        {
          "output_type": "stream",
          "name": "stderr",
          "text": [
            "394it [02:55,  2.24it/s]\n"
          ]
        },
        {
          "output_type": "stream",
          "name": "stdout",
          "text": [
            "Epoch 41: Train Loss=2.0803, Train Acc=45.02%, Test Loss=2.0108, Test Acc=48.09%, Epsilon=2.67\n"
          ]
        },
        {
          "output_type": "stream",
          "name": "stderr",
          "text": [
            " 51%|█████     | 200/391 [01:29<01:30,  2.10it/s]"
          ]
        },
        {
          "output_type": "stream",
          "name": "stdout",
          "text": [
            "(e = 2.70, d = 1e-05)\n"
          ]
        },
        {
          "output_type": "stream",
          "name": "stderr",
          "text": [
            "395it [02:55,  2.26it/s]\n"
          ]
        },
        {
          "output_type": "stream",
          "name": "stdout",
          "text": [
            "Epoch 42: Train Loss=2.0701, Train Acc=45.12%, Test Loss=1.9907, Test Acc=48.41%, Epsilon=2.70\n"
          ]
        },
        {
          "output_type": "stream",
          "name": "stderr",
          "text": [
            " 51%|█████     | 200/391 [01:28<01:33,  2.04it/s]"
          ]
        },
        {
          "output_type": "stream",
          "name": "stdout",
          "text": [
            "(e = 2.74, d = 1e-05)\n"
          ]
        },
        {
          "output_type": "stream",
          "name": "stderr",
          "text": [
            "397it [02:56,  2.25it/s]\n"
          ]
        },
        {
          "output_type": "stream",
          "name": "stdout",
          "text": [
            "Epoch 43: Train Loss=2.0719, Train Acc=45.38%, Test Loss=1.9353, Test Acc=48.48%, Epsilon=2.74\n"
          ]
        },
        {
          "output_type": "stream",
          "name": "stderr",
          "text": [
            " 51%|█████     | 200/391 [01:28<01:33,  2.04it/s]"
          ]
        },
        {
          "output_type": "stream",
          "name": "stdout",
          "text": [
            "(e = 2.77, d = 1e-05)\n"
          ]
        },
        {
          "output_type": "stream",
          "name": "stderr",
          "text": [
            "396it [02:55,  2.26it/s]\n"
          ]
        },
        {
          "output_type": "stream",
          "name": "stdout",
          "text": [
            "Epoch 44: Train Loss=2.0811, Train Acc=45.85%, Test Loss=2.0388, Test Acc=47.84%, Epsilon=2.77\n"
          ]
        },
        {
          "output_type": "stream",
          "name": "stderr",
          "text": [
            " 51%|█████     | 200/391 [01:28<01:31,  2.08it/s]"
          ]
        },
        {
          "output_type": "stream",
          "name": "stdout",
          "text": [
            "(e = 2.81, d = 1e-05)\n"
          ]
        },
        {
          "output_type": "stream",
          "name": "stderr",
          "text": [
            "395it [02:54,  2.26it/s]\n"
          ]
        },
        {
          "output_type": "stream",
          "name": "stdout",
          "text": [
            "Epoch 45: Train Loss=2.1125, Train Acc=45.72%, Test Loss=1.9962, Test Acc=48.94%, Epsilon=2.81\n"
          ]
        },
        {
          "output_type": "stream",
          "name": "stderr",
          "text": [
            " 51%|█████     | 200/391 [01:28<01:31,  2.08it/s]"
          ]
        },
        {
          "output_type": "stream",
          "name": "stdout",
          "text": [
            "(e = 2.84, d = 1e-05)\n"
          ]
        },
        {
          "output_type": "stream",
          "name": "stderr",
          "text": [
            "400it [02:57,  2.26it/s]"
          ]
        },
        {
          "output_type": "stream",
          "name": "stdout",
          "text": [
            "(e = 2.86, d = 1e-05)\n"
          ]
        },
        {
          "output_type": "stream",
          "name": "stderr",
          "text": [
            "\n"
          ]
        },
        {
          "output_type": "stream",
          "name": "stdout",
          "text": [
            "Epoch 46: Train Loss=2.0698, Train Acc=45.80%, Test Loss=2.0129, Test Acc=49.33%, Epsilon=2.86\n"
          ]
        },
        {
          "output_type": "stream",
          "name": "stderr",
          "text": [
            " 51%|█████     | 200/391 [01:28<01:32,  2.07it/s]"
          ]
        },
        {
          "output_type": "stream",
          "name": "stdout",
          "text": [
            "(e = 2.88, d = 1e-05)\n"
          ]
        },
        {
          "output_type": "stream",
          "name": "stderr",
          "text": [
            "398it [02:56,  2.26it/s]\n"
          ]
        },
        {
          "output_type": "stream",
          "name": "stdout",
          "text": [
            "Epoch 47: Train Loss=2.0798, Train Acc=47.01%, Test Loss=2.0735, Test Acc=49.10%, Epsilon=2.88\n"
          ]
        },
        {
          "output_type": "stream",
          "name": "stderr",
          "text": [
            " 51%|█████     | 200/391 [01:28<01:30,  2.11it/s]"
          ]
        },
        {
          "output_type": "stream",
          "name": "stdout",
          "text": [
            "(e = 2.91, d = 1e-05)\n"
          ]
        },
        {
          "output_type": "stream",
          "name": "stderr",
          "text": [
            "396it [02:55,  2.26it/s]\n"
          ]
        },
        {
          "output_type": "stream",
          "name": "stdout",
          "text": [
            "Epoch 48: Train Loss=2.0924, Train Acc=46.96%, Test Loss=2.1074, Test Acc=49.64%, Epsilon=2.91\n"
          ]
        },
        {
          "output_type": "stream",
          "name": "stderr",
          "text": [
            " 51%|█████     | 200/391 [01:28<01:30,  2.11it/s]"
          ]
        },
        {
          "output_type": "stream",
          "name": "stdout",
          "text": [
            "(e = 2.95, d = 1e-05)\n"
          ]
        },
        {
          "output_type": "stream",
          "name": "stderr",
          "text": [
            "399it [02:56,  2.26it/s]\n"
          ]
        },
        {
          "output_type": "stream",
          "name": "stdout",
          "text": [
            "Epoch 49: Train Loss=2.0774, Train Acc=47.81%, Test Loss=2.0639, Test Acc=48.87%, Epsilon=2.95\n"
          ]
        },
        {
          "output_type": "stream",
          "name": "stderr",
          "text": [
            " 51%|█████     | 200/391 [01:28<01:33,  2.05it/s]"
          ]
        },
        {
          "output_type": "stream",
          "name": "stdout",
          "text": [
            "(e = 2.98, d = 1e-05)\n"
          ]
        },
        {
          "output_type": "stream",
          "name": "stderr",
          "text": [
            "398it [02:56,  2.26it/s]\n"
          ]
        },
        {
          "output_type": "stream",
          "name": "stdout",
          "text": [
            "Epoch 50: Train Loss=2.0695, Train Acc=47.80%, Test Loss=2.0900, Test Acc=49.55%, Epsilon=2.98\n"
          ]
        },
        {
          "output_type": "display_data",
          "data": {
            "text/plain": [
              "<Figure size 1000x600 with 1 Axes>"
            ],
            "image/png": "[encoded data removed]"
          },
          "metadata": {}
        },
        {
          "output_type": "display_data",
          "data": {
            "text/plain": [
              "<Figure size 1000x600 with 1 Axes>"
            ],
            "image/png": "[encoded data removed]"
          },
          "metadata": {}
        },
        {
          "output_type": "stream",
          "name": "stdout",
          "text": [
            "Metrics data successfully saved to metrics_datareseff.xlsx.\n"
          ]
        }
      ]
    }
  ]
}

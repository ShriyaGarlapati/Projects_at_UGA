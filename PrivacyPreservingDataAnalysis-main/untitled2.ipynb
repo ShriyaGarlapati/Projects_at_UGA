{
  "nbformat": 4,
  "nbformat_minor": 0,
  "metadata": {
    "colab": {
      "provenance": [],
      "gpuType": "T4",
      "include_colab_link": true
    },
    "kernelspec": {
      "name": "python3",
      "display_name": "Python 3"
    },
    "language_info": {
      "name": "python"
    },
    "accelerator": "GPU"
  },
  "cells": [
    {
      "cell_type": "markdown",
      "metadata": {
        "id": "view-in-github",
        "colab_type": "text"
      },
      "source": [
        "<a href=\"https://colab.research.google.com/github/HARIPRIYA02/DPOptimizers---HS/blob/main/WRN-16-4-%20custom%20private%20rmsprop.ipynb\" target=\"_parent\"><img src=\"https://colab.research.google.com/assets/colab-badge.svg\" alt=\"Open In Colab\"/></a>"
      ]
    },
    {
      "cell_type": "code",
      "execution_count": 2,
      "metadata": {
        "colab": {
          "base_uri": "https://localhost:8080/"
        },
        "id": "sr5wja7Hfhns",
        "outputId": "7bc23542-e062-420b-f836-8a3318422e27"
      },
      "outputs": [
        {
          "output_type": "stream",
          "name": "stdout",
          "text": [
            "Collecting opacus\n",
            "  Downloading opacus-1.5.2-py3-none-any.whl.metadata (7.9 kB)\n",
            "Requirement already satisfied: numpy<2.0,>=1.15 in /usr/local/lib/python3.10/dist-packages (from opacus) (1.26.4)\n",
            "Requirement already satisfied: torch>=2.0 in /usr/local/lib/python3.10/dist-packages (from opacus) (2.5.0+cu121)\n",
            "Requirement already satisfied: scipy>=1.2 in /usr/local/lib/python3.10/dist-packages (from opacus) (1.13.1)\n",
            "Requirement already satisfied: opt-einsum>=3.3.0 in /usr/local/lib/python3.10/dist-packages (from opacus) (3.4.0)\n",
            "Requirement already satisfied: filelock in /usr/local/lib/python3.10/dist-packages (from torch>=2.0->opacus) (3.16.1)\n",
            "Requirement already satisfied: typing-extensions>=4.8.0 in /usr/local/lib/python3.10/dist-packages (from torch>=2.0->opacus) (4.12.2)\n",
            "Requirement already satisfied: networkx in /usr/local/lib/python3.10/dist-packages (from torch>=2.0->opacus) (3.4.2)\n",
            "Requirement already satisfied: jinja2 in /usr/local/lib/python3.10/dist-packages (from torch>=2.0->opacus) (3.1.4)\n",
            "Requirement already satisfied: fsspec in /usr/local/lib/python3.10/dist-packages (from torch>=2.0->opacus) (2024.10.0)\n",
            "Requirement already satisfied: sympy==1.13.1 in /usr/local/lib/python3.10/dist-packages (from torch>=2.0->opacus) (1.13.1)\n",
            "Requirement already satisfied: mpmath<1.4,>=1.1.0 in /usr/local/lib/python3.10/dist-packages (from sympy==1.13.1->torch>=2.0->opacus) (1.3.0)\n",
            "Requirement already satisfied: MarkupSafe>=2.0 in /usr/local/lib/python3.10/dist-packages (from jinja2->torch>=2.0->opacus) (3.0.2)\n",
            "Downloading opacus-1.5.2-py3-none-any.whl (239 kB)\n",
            "\u001b[2K   \u001b[90m━━━━━━━━━━━━━━━━━━━━━━━━━━━━━━━━━━━━━━━━\u001b[0m \u001b[32m239.9/239.9 kB\u001b[0m \u001b[31m11.9 MB/s\u001b[0m eta \u001b[36m0:00:00\u001b[0m\n",
            "\u001b[?25hInstalling collected packages: opacus\n",
            "Successfully installed opacus-1.5.2\n"
          ]
        }
      ],
      "source": [
        "!pip install opacus"
      ]
    },
    {
      "cell_type": "code",
      "source": [
        "import warnings\n",
        "import torch\n",
        "import torchvision\n",
        "import torchvision.transforms as transforms\n",
        "from torchvision.datasets import CIFAR10\n",
        "import torch.nn as nn\n",
        "import torch.optim as optim\n",
        "from opacus import PrivacyEngine\n",
        "from opacus.utils.batch_memory_manager import BatchMemoryManager\n",
        "from opacus.validators import ModuleValidator\n",
        "from tqdm import tqdm\n",
        "import numpy as np\n",
        "\n",
        "warnings.simplefilter(\"ignore\")\n",
        "\n",
        "# Hyperparameters\n",
        "MAX_GRAD_NORM = 1.2\n",
        "EPSILON = 3.0\n",
        "DELTA = 1e-5\n",
        "NOISE_MULTIPLIER = 1.1\n",
        "EPOCHS = 50\n",
        "LR = 8e-4\n",
        "BATCH_SIZE = 4096\n",
        "MAX_PHYSICAL_BATCH_SIZE = 128\n",
        "CIFAR10_MEAN = [0.4914, 0.4822, 0.4465]\n",
        "CIFAR10_STD_DEV = [0.2023, 0.1994, 0.2010]\n",
        "NUM_GROUPS = 40\n",
        "\n",
        "transform = transforms.Compose([\n",
        "    transforms.ToTensor(),\n",
        "    transforms.Normalize(CIFAR10_MEAN, CIFAR10_STD_DEV)\n",
        "])\n",
        "\n",
        "# Load datasets\n",
        "DATA_ROOT = \"~/.local/data\"\n",
        "train_dataset = CIFAR10(root=DATA_ROOT, train=True, download=True, transform=transform)\n",
        "test_dataset = CIFAR10(root=DATA_ROOT, train=False, download=True, transform=transform)\n",
        "\n",
        "train_loader = torch.utils.data.DataLoader(train_dataset, batch_size=BATCH_SIZE, shuffle=True)\n",
        "test_loader = torch.utils.data.DataLoader(test_dataset, batch_size=BATCH_SIZE, shuffle=False)\n",
        "\n",
        "# Define the weight-standardized convolutional layer\n",
        "class WSConv2d(nn.Conv2d):\n",
        "    def forward(self, x):\n",
        "        mean = self.weight.mean(dim=[1, 2, 3], keepdim=True)\n",
        "        std = self.weight.std(dim=[1, 2, 3], keepdim=True) + 1e-5\n",
        "        weight = (self.weight - mean) / std\n",
        "        return nn.functional.conv2d(x, weight, self.bias, self.stride, self.padding, self.dilation, self.groups)\n",
        "\n",
        "# Define ResNet-20 with Group Normalization and Weight Standardization\n",
        "class BasicBlockGN(nn.Module):\n",
        "    def __init__(self, in_planes, planes, stride=1, num_groups=2):\n",
        "        super(BasicBlockGN, self).__init__()\n",
        "        self.conv1 = WSConv2d(in_planes, planes, kernel_size=3, stride=stride, padding=1, bias=False)\n",
        "        self.gn1 = nn.GroupNorm(num_groups, planes)\n",
        "        self.conv2 = WSConv2d(planes, planes, kernel_size=3, stride=1, padding=1, bias=False)\n",
        "        self.gn2 = nn.GroupNorm(num_groups, planes)\n",
        "        self.shortcut = nn.Sequential()\n",
        "        if stride != 1 or in_planes != planes:\n",
        "            self.shortcut = nn.Sequential(\n",
        "                WSConv2d(in_planes, planes, kernel_size=1, stride=stride, bias=False),\n",
        "                nn.GroupNorm(num_groups, planes)\n",
        "            )\n",
        "\n",
        "    def forward(self, x):\n",
        "        out = nn.SiLU()(self.gn1(self.conv1(x)))\n",
        "        out = self.gn2(self.conv2(out))\n",
        "        out += self.shortcut(x)\n",
        "        out = nn.SiLU()(out)\n",
        "        return out\n",
        "\n",
        "class ResNet20GN(nn.Module):\n",
        "    def __init__(self, num_classes=10, num_groups=2):\n",
        "        super(ResNet20GN, self).__init__()\n",
        "        self.in_planes = 16\n",
        "        self.conv1 = WSConv2d(3, 16, kernel_size=3, stride=1, padding=1, bias=False)\n",
        "        self.gn1 = nn.GroupNorm(num_groups, 16)\n",
        "        self.layer1 = self._make_layer(BasicBlockGN, 16, 3, stride=1, num_groups=num_groups)\n",
        "        self.layer2 = self._make_layer(BasicBlockGN, 32, 3, stride=2, num_groups=num_groups)\n",
        "        self.layer3 = self._make_layer(BasicBlockGN, 64, 3, stride=2, num_groups=num_groups)\n",
        "        self.linear = nn.Linear(64, num_classes)\n",
        "\n",
        "    def _make_layer(self, block, planes, num_blocks, stride, num_groups):\n",
        "        strides = [stride] + [1] * (num_blocks - 1)\n",
        "        layers = []\n",
        "        for stride in strides:\n",
        "            layers.append(block(self.in_planes, planes, stride, num_groups))\n",
        "            self.in_planes = planes\n",
        "        return nn.Sequential(*layers)\n",
        "\n",
        "    def forward(self, x):\n",
        "        out = nn.SiLU()(self.gn1(self.conv1(x)))\n",
        "        out = self.layer1(out)\n",
        "        out = self.layer2(out)\n",
        "        out = self.layer3(out)\n",
        "        out = nn.AvgPool2d(8)(out)\n",
        "        out = out.view(out.size(0), -1)\n",
        "        out = self.linear(out)\n",
        "        return out\n",
        "\n",
        "class WideBasicGN(nn.Module):\n",
        "    def __init__(self, in_planes, planes, dropout_rate, stride=1, num_groups=2):\n",
        "        super(WideBasicGN, self).__init__()\n",
        "        self.conv1 = WSConv2d(in_planes, planes, kernel_size=3, stride=stride, padding=1, bias=False)\n",
        "        self.gn1 = nn.GroupNorm(num_groups, planes)\n",
        "        self.dropout = nn.Dropout(p=dropout_rate)\n",
        "        self.conv2 = WSConv2d(planes, planes, kernel_size=3, stride=1, padding=1, bias=False)\n",
        "        self.gn2 = nn.GroupNorm(num_groups, planes)\n",
        "\n",
        "        # Ensure the shortcut connection has matching dimensions\n",
        "        self.shortcut = nn.Sequential()\n",
        "        if stride != 1 or in_planes != planes:\n",
        "            self.shortcut = nn.Sequential(\n",
        "                WSConv2d(in_planes, planes, kernel_size=1, stride=stride, bias=False),\n",
        "                nn.GroupNorm(num_groups, planes)\n",
        "            )\n",
        "\n",
        "    def forward(self, x):\n",
        "        out = nn.SiLU()(self.gn1(self.conv1(x)))\n",
        "        out = self.dropout(out)\n",
        "        out = self.gn2(self.conv2(out))\n",
        "        out += self.shortcut(x)  # Add the shortcut, now with matching dimensions\n",
        "        out = nn.SiLU()(out)\n",
        "        return out\n",
        "\n",
        "\n",
        "class WRN16_4_GN(nn.Module):\n",
        "    def __init__(self, num_classes=10, dropout_rate=0.3, num_groups=2):\n",
        "        super(WRN16_4_GN, self).__init__()\n",
        "        self.in_planes = 16\n",
        "        self.conv1 = WSConv2d(3, 16, kernel_size=3, stride=1, padding=1, bias=False)\n",
        "        self.gn1 = nn.GroupNorm(num_groups, 16)\n",
        "        self.layer1 = self._make_layer(WideBasicGN, 16, 3, dropout_rate, stride=1, num_groups=num_groups)\n",
        "        self.layer2 = self._make_layer(WideBasicGN, 32, 3, dropout_rate, stride=2, num_groups=num_groups)\n",
        "        self.layer3 = self._make_layer(WideBasicGN, 64, 3, dropout_rate, stride=2, num_groups=num_groups)\n",
        "        self.linear = nn.Linear(64, num_classes)\n",
        "\n",
        "    def _make_layer(self, block, planes, num_blocks, dropout_rate, stride, num_groups):\n",
        "        strides = [stride] + [1]*(num_blocks-1)\n",
        "        layers = []\n",
        "        for stride in strides:\n",
        "            layers.append(block(self.in_planes, planes, dropout_rate, stride, num_groups))\n",
        "            self.in_planes = planes\n",
        "        return nn.Sequential(*layers)\n",
        "\n",
        "    def forward(self, x):\n",
        "        out = nn.SiLU()(self.gn1(self.conv1(x)))\n",
        "        out = self.layer1(out)\n",
        "        out = self.layer2(out)\n",
        "        out = self.layer3(out)\n",
        "        out = nn.AvgPool2d(8)(out)\n",
        "        out = out.view(out.size(0), -1)\n",
        "        out = self.linear(out)\n",
        "        return out\n",
        "\n",
        "# Initialize model, optimizer, and privacy engine\n",
        "#model = ResNet20GN(num_classes=10)\n",
        "model = WRN16_4_GN(num_classes=10)\n",
        "device = torch.device(\"cuda\" if torch.cuda.is_available() else \"cpu\")\n",
        "model = ModuleValidator.fix(model)\n",
        "model = model.to(device)\n",
        "optimizer = optim.RMSprop(model.parameters(), lr=LR, momentum=0.9, alpha=0.99)\n",
        "ModuleValidator.validate(model, strict=False)\n",
        "\n",
        "privacy_engine = PrivacyEngine()\n",
        "model, optimizer, train_loader = privacy_engine.make_private_with_epsilon(\n",
        "    module=model,\n",
        "    optimizer=optimizer,\n",
        "    data_loader=train_loader,\n",
        "    epochs=EPOCHS,\n",
        "    target_epsilon=EPSILON,\n",
        "    target_delta=DELTA,\n",
        "    max_grad_norm=MAX_GRAD_NORM\n",
        ")\n",
        "\n",
        "# Adaptive learning rate scheduler\n",
        "scheduler = torch.optim.lr_scheduler.CosineAnnealingLR(optimizer, T_max=EPOCHS * len(train_loader), eta_min=8e-6)\n",
        "\n",
        "# Loss function\n",
        "criterion = nn.CrossEntropyLoss()\n",
        "\n",
        "# Training and testing functions\n",
        "def train(model, train_loader, optimizer, epoch, device):\n",
        "    model.train()\n",
        "    losses = []\n",
        "    top1_acc = []\n",
        "\n",
        "    with BatchMemoryManager(data_loader=train_loader, max_physical_batch_size=MAX_PHYSICAL_BATCH_SIZE, optimizer=optimizer) as memory_safe_data_loader:\n",
        "        for batch_idx, (data, target) in tqdm(enumerate(memory_safe_data_loader), total=len(memory_safe_data_loader)):\n",
        "            data, target = data.to(device), target.to(device)\n",
        "            optimizer.zero_grad()\n",
        "            output = model(data)\n",
        "            loss = criterion(output, target)\n",
        "            loss.backward()\n",
        "            optimizer.step()\n",
        "\n",
        "            # Calculate accuracy\n",
        "            losses.append(loss.item())\n",
        "            _, predicted = torch.max(output.data, 1)\n",
        "            correct = predicted.eq(target).sum().item()\n",
        "            top1_acc.append(correct / target.size(0))\n",
        "\n",
        "    avg_loss = np.mean(losses)\n",
        "    avg_acc = np.mean(top1_acc) * 100\n",
        "    return avg_loss, avg_acc\n",
        "\n",
        "# Test accuracy will be multiplied by 100 for percent representation - for e.g. 0.60%  is actually 60%\n",
        "def test(model, test_loader, device):\n",
        "    model.eval()\n",
        "    losses = []\n",
        "    top1_acc = []\n",
        "\n",
        "    with torch.no_grad():\n",
        "        for data, target in test_loader:\n",
        "            data, target = data.to(device), target.to(device)\n",
        "            output = model(data)\n",
        "            loss = criterion(output, target)\n",
        "            preds = np.argmax(output.detach().cpu().numpy(), axis=1)\n",
        "            labels = target.detach().cpu().numpy()\n",
        "\n",
        "            # Calculate accuracy\n",
        "            acc = np.mean(preds == labels)\n",
        "            losses.append(loss.item())\n",
        "            top1_acc.append(acc)\n",
        "\n",
        "    avg_loss = np.mean(losses)\n",
        "    avg_accuracy = np.mean(top1_acc)\n",
        "    return avg_loss, avg_accuracy\n",
        "\n",
        "# Train and validate the model\n",
        "for epoch in range(1, EPOCHS + 1):\n",
        "    train_loss, train_acc = train(model, train_loader, optimizer, epoch, device)\n",
        "    test_loss, test_accuracy = test(model, test_loader, device)\n",
        "    print(f'Epoch: {epoch}, Train Loss: {train_loss:.4f}, Train Accuracy: {train_acc:.2f}%, '\n",
        "          f'Test Loss: {test_loss:.4f}, Test Accuracy: {test_accuracy:.2f}%')\n",
        "\n",
        "    scheduler.step(test_loss)\n",
        "\n",
        "# Print final epsilon after training\n",
        "final_epsilon = privacy_engine.get_epsilon(DELTA)\n",
        "print(f\"Final epsilon after {EPOCHS} epochs: {final_epsilon:.2f}\")\n"
      ],
      "metadata": {
        "colab": {
          "base_uri": "https://localhost:8080/"
        },
        "id": "xFdegkNAfvW_",
        "outputId": "5c1265e3-f5e7-4b7e-aa72-9d98cb0c8095"
      },
      "execution_count": 5,
      "outputs": [
        {
          "output_type": "stream",
          "name": "stdout",
          "text": [
            "Files already downloaded and verified\n",
            "Files already downloaded and verified\n"
          ]
        },
        {
          "output_type": "stream",
          "name": "stderr",
          "text": [
            "398it [00:57,  6.89it/s]\n"
          ]
        },
        {
          "output_type": "stream",
          "name": "stdout",
          "text": [
            "Epoch: 1, Train Loss: 2.1484, Train Accuracy: 17.72%, Test Loss: 2.0449, Test Accuracy: 0.25%\n"
          ]
        },
        {
          "output_type": "stream",
          "name": "stderr",
          "text": [
            "400it [00:55,  7.26it/s]\n"
          ]
        },
        {
          "output_type": "stream",
          "name": "stdout",
          "text": [
            "Epoch: 2, Train Loss: 1.9746, Train Accuracy: 25.75%, Test Loss: 1.9571, Test Accuracy: 0.28%\n"
          ]
        },
        {
          "output_type": "stream",
          "name": "stderr",
          "text": [
            "396it [00:54,  7.21it/s]\n"
          ]
        },
        {
          "output_type": "stream",
          "name": "stdout",
          "text": [
            "Epoch: 3, Train Loss: 1.8555, Train Accuracy: 30.22%, Test Loss: 1.9098, Test Accuracy: 0.32%\n"
          ]
        },
        {
          "output_type": "stream",
          "name": "stderr",
          "text": [
            "398it [00:56,  7.03it/s]\n"
          ]
        },
        {
          "output_type": "stream",
          "name": "stdout",
          "text": [
            "Epoch: 4, Train Loss: 1.8062, Train Accuracy: 33.46%, Test Loss: 1.8880, Test Accuracy: 0.35%\n"
          ]
        },
        {
          "output_type": "stream",
          "name": "stderr",
          "text": [
            "397it [00:55,  7.19it/s]\n"
          ]
        },
        {
          "output_type": "stream",
          "name": "stdout",
          "text": [
            "Epoch: 5, Train Loss: 1.7712, Train Accuracy: 35.97%, Test Loss: 1.9696, Test Accuracy: 0.36%\n"
          ]
        },
        {
          "output_type": "stream",
          "name": "stderr",
          "text": [
            "397it [00:55,  7.20it/s]\n"
          ]
        },
        {
          "output_type": "stream",
          "name": "stdout",
          "text": [
            "Epoch: 6, Train Loss: 1.7764, Train Accuracy: 36.49%, Test Loss: 2.1378, Test Accuracy: 0.34%\n"
          ]
        },
        {
          "output_type": "stream",
          "name": "stderr",
          "text": [
            "396it [00:55,  7.11it/s]\n"
          ]
        },
        {
          "output_type": "stream",
          "name": "stdout",
          "text": [
            "Epoch: 7, Train Loss: 1.7614, Train Accuracy: 37.94%, Test Loss: 2.2013, Test Accuracy: 0.35%\n"
          ]
        },
        {
          "output_type": "stream",
          "name": "stderr",
          "text": [
            "398it [00:55,  7.21it/s]\n"
          ]
        },
        {
          "output_type": "stream",
          "name": "stdout",
          "text": [
            "Epoch: 8, Train Loss: 1.7362, Train Accuracy: 39.05%, Test Loss: 2.1371, Test Accuracy: 0.37%\n"
          ]
        },
        {
          "output_type": "stream",
          "name": "stderr",
          "text": [
            "398it [00:55,  7.22it/s]\n"
          ]
        },
        {
          "output_type": "stream",
          "name": "stdout",
          "text": [
            "Epoch: 9, Train Loss: 1.7391, Train Accuracy: 40.65%, Test Loss: 2.2786, Test Accuracy: 0.37%\n"
          ]
        },
        {
          "output_type": "stream",
          "name": "stderr",
          "text": [
            "397it [00:55,  7.10it/s]\n"
          ]
        },
        {
          "output_type": "stream",
          "name": "stdout",
          "text": [
            "Epoch: 10, Train Loss: 1.7282, Train Accuracy: 41.67%, Test Loss: 2.3714, Test Accuracy: 0.38%\n"
          ]
        },
        {
          "output_type": "stream",
          "name": "stderr",
          "text": [
            "398it [00:55,  7.21it/s]\n"
          ]
        },
        {
          "output_type": "stream",
          "name": "stdout",
          "text": [
            "Epoch: 11, Train Loss: 1.7488, Train Accuracy: 42.04%, Test Loss: 2.3847, Test Accuracy: 0.38%\n"
          ]
        },
        {
          "output_type": "stream",
          "name": "stderr",
          "text": [
            "392it [00:54,  7.22it/s]\n"
          ]
        },
        {
          "output_type": "stream",
          "name": "stdout",
          "text": [
            "Epoch: 12, Train Loss: 1.7133, Train Accuracy: 42.98%, Test Loss: 2.3118, Test Accuracy: 0.39%\n"
          ]
        },
        {
          "output_type": "stream",
          "name": "stderr",
          "text": [
            "395it [00:55,  7.17it/s]\n"
          ]
        },
        {
          "output_type": "stream",
          "name": "stdout",
          "text": [
            "Epoch: 13, Train Loss: 1.7195, Train Accuracy: 43.46%, Test Loss: 2.4171, Test Accuracy: 0.40%\n"
          ]
        },
        {
          "output_type": "stream",
          "name": "stderr",
          "text": [
            "401it [00:55,  7.28it/s]\n"
          ]
        },
        {
          "output_type": "stream",
          "name": "stdout",
          "text": [
            "Epoch: 14, Train Loss: 1.7224, Train Accuracy: 44.19%, Test Loss: 2.4381, Test Accuracy: 0.40%\n"
          ]
        },
        {
          "output_type": "stream",
          "name": "stderr",
          "text": [
            "398it [00:54,  7.28it/s]\n"
          ]
        },
        {
          "output_type": "stream",
          "name": "stdout",
          "text": [
            "Epoch: 15, Train Loss: 1.7283, Train Accuracy: 44.67%, Test Loss: 2.4697, Test Accuracy: 0.40%\n"
          ]
        },
        {
          "output_type": "stream",
          "name": "stderr",
          "text": [
            "400it [00:55,  7.25it/s]\n"
          ]
        },
        {
          "output_type": "stream",
          "name": "stdout",
          "text": [
            "Epoch: 16, Train Loss: 1.7319, Train Accuracy: 45.34%, Test Loss: 2.4477, Test Accuracy: 0.41%\n"
          ]
        },
        {
          "output_type": "stream",
          "name": "stderr",
          "text": [
            "393it [00:54,  7.25it/s]\n"
          ]
        },
        {
          "output_type": "stream",
          "name": "stdout",
          "text": [
            "Epoch: 17, Train Loss: 1.7243, Train Accuracy: 45.61%, Test Loss: 2.4408, Test Accuracy: 0.42%\n"
          ]
        },
        {
          "output_type": "stream",
          "name": "stderr",
          "text": [
            "397it [00:55,  7.16it/s]\n"
          ]
        },
        {
          "output_type": "stream",
          "name": "stdout",
          "text": [
            "Epoch: 18, Train Loss: 1.7420, Train Accuracy: 45.62%, Test Loss: 2.3068, Test Accuracy: 0.43%\n"
          ]
        },
        {
          "output_type": "stream",
          "name": "stderr",
          "text": [
            "396it [00:54,  7.31it/s]\n"
          ]
        },
        {
          "output_type": "stream",
          "name": "stdout",
          "text": [
            "Epoch: 19, Train Loss: 1.7320, Train Accuracy: 45.36%, Test Loss: 2.4102, Test Accuracy: 0.42%\n"
          ]
        },
        {
          "output_type": "stream",
          "name": "stderr",
          "text": [
            "397it [00:54,  7.23it/s]\n"
          ]
        },
        {
          "output_type": "stream",
          "name": "stdout",
          "text": [
            "Epoch: 20, Train Loss: 1.7038, Train Accuracy: 46.21%, Test Loss: 2.4294, Test Accuracy: 0.43%\n"
          ]
        },
        {
          "output_type": "stream",
          "name": "stderr",
          "text": [
            "394it [00:54,  7.27it/s]\n"
          ]
        },
        {
          "output_type": "stream",
          "name": "stdout",
          "text": [
            "Epoch: 21, Train Loss: 1.7074, Train Accuracy: 46.29%, Test Loss: 2.3435, Test Accuracy: 0.43%\n"
          ]
        },
        {
          "output_type": "stream",
          "name": "stderr",
          "text": [
            "399it [00:54,  7.30it/s]\n"
          ]
        },
        {
          "output_type": "stream",
          "name": "stdout",
          "text": [
            "Epoch: 22, Train Loss: 1.6838, Train Accuracy: 47.23%, Test Loss: 2.3628, Test Accuracy: 0.44%\n"
          ]
        },
        {
          "output_type": "stream",
          "name": "stderr",
          "text": [
            "395it [00:55,  7.17it/s]\n"
          ]
        },
        {
          "output_type": "stream",
          "name": "stdout",
          "text": [
            "Epoch: 23, Train Loss: 1.6853, Train Accuracy: 47.39%, Test Loss: 2.5321, Test Accuracy: 0.43%\n"
          ]
        },
        {
          "output_type": "stream",
          "name": "stderr",
          "text": [
            "401it [00:55,  7.27it/s]\n"
          ]
        },
        {
          "output_type": "stream",
          "name": "stdout",
          "text": [
            "Epoch: 24, Train Loss: 1.7100, Train Accuracy: 46.97%, Test Loss: 2.4632, Test Accuracy: 0.44%\n"
          ]
        },
        {
          "output_type": "stream",
          "name": "stderr",
          "text": [
            "398it [00:54,  7.24it/s]\n"
          ]
        },
        {
          "output_type": "stream",
          "name": "stdout",
          "text": [
            "Epoch: 25, Train Loss: 1.7058, Train Accuracy: 47.70%, Test Loss: 2.5124, Test Accuracy: 0.44%\n"
          ]
        },
        {
          "output_type": "stream",
          "name": "stderr",
          "text": [
            "400it [00:55,  7.17it/s]\n"
          ]
        },
        {
          "output_type": "stream",
          "name": "stdout",
          "text": [
            "Epoch: 26, Train Loss: 1.7005, Train Accuracy: 47.86%, Test Loss: 2.6630, Test Accuracy: 0.43%\n"
          ]
        },
        {
          "output_type": "stream",
          "name": "stderr",
          "text": [
            "399it [00:55,  7.19it/s]\n"
          ]
        },
        {
          "output_type": "stream",
          "name": "stdout",
          "text": [
            "Epoch: 27, Train Loss: 1.7031, Train Accuracy: 48.07%, Test Loss: 2.5616, Test Accuracy: 0.44%\n"
          ]
        },
        {
          "output_type": "stream",
          "name": "stderr",
          "text": [
            "399it [00:55,  7.19it/s]\n"
          ]
        },
        {
          "output_type": "stream",
          "name": "stdout",
          "text": [
            "Epoch: 28, Train Loss: 1.7054, Train Accuracy: 48.54%, Test Loss: 2.5019, Test Accuracy: 0.44%\n"
          ]
        },
        {
          "output_type": "stream",
          "name": "stderr",
          "text": [
            "396it [00:55,  7.08it/s]\n"
          ]
        },
        {
          "output_type": "stream",
          "name": "stdout",
          "text": [
            "Epoch: 29, Train Loss: 1.6971, Train Accuracy: 48.90%, Test Loss: 2.7121, Test Accuracy: 0.43%\n"
          ]
        },
        {
          "output_type": "stream",
          "name": "stderr",
          "text": [
            "394it [00:54,  7.18it/s]\n"
          ]
        },
        {
          "output_type": "stream",
          "name": "stdout",
          "text": [
            "Epoch: 30, Train Loss: 1.7087, Train Accuracy: 48.96%, Test Loss: 2.6688, Test Accuracy: 0.43%\n"
          ]
        },
        {
          "output_type": "stream",
          "name": "stderr",
          "text": [
            "395it [00:54,  7.23it/s]\n"
          ]
        },
        {
          "output_type": "stream",
          "name": "stdout",
          "text": [
            "Epoch: 31, Train Loss: 1.6813, Train Accuracy: 49.02%, Test Loss: 2.6438, Test Accuracy: 0.44%\n"
          ]
        },
        {
          "output_type": "stream",
          "name": "stderr",
          "text": [
            "397it [00:55,  7.11it/s]\n"
          ]
        },
        {
          "output_type": "stream",
          "name": "stdout",
          "text": [
            "Epoch: 32, Train Loss: 1.6889, Train Accuracy: 49.12%, Test Loss: 2.6726, Test Accuracy: 0.44%\n"
          ]
        },
        {
          "output_type": "stream",
          "name": "stderr",
          "text": [
            "398it [00:55,  7.21it/s]\n"
          ]
        },
        {
          "output_type": "stream",
          "name": "stdout",
          "text": [
            "Epoch: 33, Train Loss: 1.6860, Train Accuracy: 49.18%, Test Loss: 2.4439, Test Accuracy: 0.46%\n"
          ]
        },
        {
          "output_type": "stream",
          "name": "stderr",
          "text": [
            "399it [00:55,  7.19it/s]\n"
          ]
        },
        {
          "output_type": "stream",
          "name": "stdout",
          "text": [
            "Epoch: 34, Train Loss: 1.6661, Train Accuracy: 49.78%, Test Loss: 2.5938, Test Accuracy: 0.45%\n"
          ]
        },
        {
          "output_type": "stream",
          "name": "stderr",
          "text": [
            "397it [00:56,  7.08it/s]\n"
          ]
        },
        {
          "output_type": "stream",
          "name": "stdout",
          "text": [
            "Epoch: 35, Train Loss: 1.6789, Train Accuracy: 49.83%, Test Loss: 2.6018, Test Accuracy: 0.45%\n"
          ]
        },
        {
          "output_type": "stream",
          "name": "stderr",
          "text": [
            "397it [00:55,  7.18it/s]\n"
          ]
        },
        {
          "output_type": "stream",
          "name": "stdout",
          "text": [
            "Epoch: 36, Train Loss: 1.6839, Train Accuracy: 49.92%, Test Loss: 2.6144, Test Accuracy: 0.45%\n"
          ]
        },
        {
          "output_type": "stream",
          "name": "stderr",
          "text": [
            "398it [00:54,  7.27it/s]\n"
          ]
        },
        {
          "output_type": "stream",
          "name": "stdout",
          "text": [
            "Epoch: 37, Train Loss: 1.6849, Train Accuracy: 49.98%, Test Loss: 2.5784, Test Accuracy: 0.46%\n"
          ]
        },
        {
          "output_type": "stream",
          "name": "stderr",
          "text": [
            "398it [00:55,  7.18it/s]\n"
          ]
        },
        {
          "output_type": "stream",
          "name": "stdout",
          "text": [
            "Epoch: 38, Train Loss: 1.6717, Train Accuracy: 50.36%, Test Loss: 2.5666, Test Accuracy: 0.46%\n"
          ]
        },
        {
          "output_type": "stream",
          "name": "stderr",
          "text": [
            "395it [00:54,  7.25it/s]\n"
          ]
        },
        {
          "output_type": "stream",
          "name": "stdout",
          "text": [
            "Epoch: 39, Train Loss: 1.6723, Train Accuracy: 50.38%, Test Loss: 2.6079, Test Accuracy: 0.47%\n"
          ]
        },
        {
          "output_type": "stream",
          "name": "stderr",
          "text": [
            "395it [00:55,  7.16it/s]\n"
          ]
        },
        {
          "output_type": "stream",
          "name": "stdout",
          "text": [
            "Epoch: 40, Train Loss: 1.6551, Train Accuracy: 50.93%, Test Loss: 2.6754, Test Accuracy: 0.46%\n"
          ]
        },
        {
          "output_type": "stream",
          "name": "stderr",
          "text": [
            "397it [00:55,  7.19it/s]\n"
          ]
        },
        {
          "output_type": "stream",
          "name": "stdout",
          "text": [
            "Epoch: 41, Train Loss: 1.6717, Train Accuracy: 50.89%, Test Loss: 2.7933, Test Accuracy: 0.45%\n"
          ]
        },
        {
          "output_type": "stream",
          "name": "stderr",
          "text": [
            "398it [00:54,  7.26it/s]\n"
          ]
        },
        {
          "output_type": "stream",
          "name": "stdout",
          "text": [
            "Epoch: 42, Train Loss: 1.6748, Train Accuracy: 51.08%, Test Loss: 2.5420, Test Accuracy: 0.47%\n"
          ]
        },
        {
          "output_type": "stream",
          "name": "stderr",
          "text": [
            "393it [00:55,  7.10it/s]\n"
          ]
        },
        {
          "output_type": "stream",
          "name": "stdout",
          "text": [
            "Epoch: 43, Train Loss: 1.6591, Train Accuracy: 51.05%, Test Loss: 2.4679, Test Accuracy: 0.48%\n"
          ]
        },
        {
          "output_type": "stream",
          "name": "stderr",
          "text": [
            "398it [00:54,  7.27it/s]\n"
          ]
        },
        {
          "output_type": "stream",
          "name": "stdout",
          "text": [
            "Epoch: 44, Train Loss: 1.6606, Train Accuracy: 51.32%, Test Loss: 2.4281, Test Accuracy: 0.49%\n"
          ]
        },
        {
          "output_type": "stream",
          "name": "stderr",
          "text": [
            "394it [00:54,  7.21it/s]\n"
          ]
        },
        {
          "output_type": "stream",
          "name": "stdout",
          "text": [
            "Epoch: 45, Train Loss: 1.6504, Train Accuracy: 51.88%, Test Loss: 2.5344, Test Accuracy: 0.48%\n"
          ]
        },
        {
          "output_type": "stream",
          "name": "stderr",
          "text": [
            "396it [00:55,  7.17it/s]\n"
          ]
        },
        {
          "output_type": "stream",
          "name": "stdout",
          "text": [
            "Epoch: 46, Train Loss: 1.6687, Train Accuracy: 51.47%, Test Loss: 2.5865, Test Accuracy: 0.48%\n"
          ]
        },
        {
          "output_type": "stream",
          "name": "stderr",
          "text": [
            "399it [00:54,  7.31it/s]\n"
          ]
        },
        {
          "output_type": "stream",
          "name": "stdout",
          "text": [
            "Epoch: 47, Train Loss: 1.6583, Train Accuracy: 51.52%, Test Loss: 2.3601, Test Accuracy: 0.50%\n"
          ]
        },
        {
          "output_type": "stream",
          "name": "stderr",
          "text": [
            "396it [00:55,  7.17it/s]\n"
          ]
        },
        {
          "output_type": "stream",
          "name": "stdout",
          "text": [
            "Epoch: 48, Train Loss: 1.6474, Train Accuracy: 51.71%, Test Loss: 2.7002, Test Accuracy: 0.47%\n"
          ]
        },
        {
          "output_type": "stream",
          "name": "stderr",
          "text": [
            "398it [00:55,  7.21it/s]\n"
          ]
        },
        {
          "output_type": "stream",
          "name": "stdout",
          "text": [
            "Epoch: 49, Train Loss: 1.6477, Train Accuracy: 51.78%, Test Loss: 2.3765, Test Accuracy: 0.50%\n"
          ]
        },
        {
          "output_type": "stream",
          "name": "stderr",
          "text": [
            "397it [00:54,  7.23it/s]\n"
          ]
        },
        {
          "output_type": "stream",
          "name": "stdout",
          "text": [
            "Epoch: 50, Train Loss: 1.6137, Train Accuracy: 52.59%, Test Loss: 2.4589, Test Accuracy: 0.49%\n",
            "Final epsilon after 50 epochs: 3.00\n"
          ]
        }
      ]
    },
    {
      "cell_type": "code",
      "source": [
        "top1_acc=test(model,test_loader, device)\n",
        "top1_acc"
      ],
      "metadata": {
        "colab": {
          "base_uri": "https://localhost:8080/"
        },
        "id": "XDVUeYFws_FL",
        "outputId": "6d048242-7fb8-4ae1-ced8-7c1f5c32173a"
      },
      "execution_count": 6,
      "outputs": [
        {
          "output_type": "execute_result",
          "data": {
            "text/plain": [
              "(2.4588874181111655, 0.4944308570704277)"
            ]
          },
          "metadata": {},
          "execution_count": 6
        }
      ]
    }
  ]
}

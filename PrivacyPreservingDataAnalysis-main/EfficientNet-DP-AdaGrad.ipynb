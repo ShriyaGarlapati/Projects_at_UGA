{
  "nbformat": 4,
  "nbformat_minor": 0,
  "metadata": {
    "colab": {
      "provenance": [],
      "machine_shape": "hm",
      "gpuType": "A100",
      "authorship_tag": "ABX9TyPim+3EZwiyUQh8n89XNd2S",
      "include_colab_link": true
    },
    "kernelspec": {
      "name": "python3",
      "display_name": "Python 3"
    },
    "language_info": {
      "name": "python"
    },
    "accelerator": "GPU"
  },
  "cells": [
    {
      "cell_type": "markdown",
      "metadata": {
        "id": "view-in-github",
        "colab_type": "text"
      },
      "source": [
        "<a href=\"https://colab.research.google.com/github/HARIPRIYA02/DPOptimizers---HS/blob/main/Untitled11.ipynb\" target=\"_parent\"><img src=\"https://colab.research.google.com/assets/colab-badge.svg\" alt=\"Open In Colab\"/></a>"
      ]
    },
    {
      "cell_type": "code",
      "execution_count": 1,
      "metadata": {
        "colab": {
          "base_uri": "https://localhost:8080/"
        },
        "id": "GXeIH8ubl5Zd",
        "outputId": "8a9282a6-4468-4cfa-ddbf-25d5ce50c334"
      },
      "outputs": [
        {
          "output_type": "stream",
          "name": "stdout",
          "text": [
            "Collecting opacus\n",
            "  Downloading opacus-1.5.2-py3-none-any.whl.metadata (7.9 kB)\n",
            "Requirement already satisfied: numpy<2.0,>=1.15 in /usr/local/lib/python3.10/dist-packages (from opacus) (1.26.4)\n",
            "Requirement already satisfied: torch>=2.0 in /usr/local/lib/python3.10/dist-packages (from opacus) (2.5.1+cu121)\n",
            "Requirement already satisfied: scipy>=1.2 in /usr/local/lib/python3.10/dist-packages (from opacus) (1.13.1)\n",
            "Requirement already satisfied: opt-einsum>=3.3.0 in /usr/local/lib/python3.10/dist-packages (from opacus) (3.4.0)\n",
            "Requirement already satisfied: filelock in /usr/local/lib/python3.10/dist-packages (from torch>=2.0->opacus) (3.16.1)\n",
            "Requirement already satisfied: typing-extensions>=4.8.0 in /usr/local/lib/python3.10/dist-packages (from torch>=2.0->opacus) (4.12.2)\n",
            "Requirement already satisfied: networkx in /usr/local/lib/python3.10/dist-packages (from torch>=2.0->opacus) (3.4.2)\n",
            "Requirement already satisfied: jinja2 in /usr/local/lib/python3.10/dist-packages (from torch>=2.0->opacus) (3.1.4)\n",
            "Requirement already satisfied: fsspec in /usr/local/lib/python3.10/dist-packages (from torch>=2.0->opacus) (2024.10.0)\n",
            "Requirement already satisfied: sympy==1.13.1 in /usr/local/lib/python3.10/dist-packages (from torch>=2.0->opacus) (1.13.1)\n",
            "Requirement already satisfied: mpmath<1.4,>=1.1.0 in /usr/local/lib/python3.10/dist-packages (from sympy==1.13.1->torch>=2.0->opacus) (1.3.0)\n",
            "Requirement already satisfied: MarkupSafe>=2.0 in /usr/local/lib/python3.10/dist-packages (from jinja2->torch>=2.0->opacus) (3.0.2)\n",
            "Downloading opacus-1.5.2-py3-none-any.whl (239 kB)\n",
            "\u001b[?25l   \u001b[90m━━━━━━━━━━━━━━━━━━━━━━━━━━━━━━━━━━━━━━━━\u001b[0m \u001b[32m0.0/239.9 kB\u001b[0m \u001b[31m?\u001b[0m eta \u001b[36m-:--:--\u001b[0m\r\u001b[2K   \u001b[91m━━━━━━━━━━━━━━━━━━━━━━━\u001b[0m\u001b[91m╸\u001b[0m\u001b[90m━━━━━━━━━━━━━━━━\u001b[0m \u001b[32m143.4/239.9 kB\u001b[0m \u001b[31m4.1 MB/s\u001b[0m eta \u001b[36m0:00:01\u001b[0m\r\u001b[2K   \u001b[90m━━━━━━━━━━━━━━━━━━━━━━━━━━━━━━━━━━━━━━━━\u001b[0m \u001b[32m239.9/239.9 kB\u001b[0m \u001b[31m4.2 MB/s\u001b[0m eta \u001b[36m0:00:00\u001b[0m\n",
            "\u001b[?25hInstalling collected packages: opacus\n",
            "Successfully installed opacus-1.5.2\n"
          ]
        }
      ],
      "source": [
        "!pip install opacus"
      ]
    },
    {
      "cell_type": "code",
      "source": [
        "import torch\n",
        "import torchvision\n",
        "import torchvision.transforms as transforms\n",
        "from torchvision.datasets import CIFAR10\n",
        "import torch.nn as nn\n",
        "import torch.optim as optim\n",
        "from opacus import PrivacyEngine\n",
        "from opacus.utils.batch_memory_manager import BatchMemoryManager\n",
        "from torchvision.transforms.functional import InterpolationMode\n",
        "from opacus.validators import ModuleValidator\n",
        "from tqdm import tqdm\n",
        "import numpy as np\n",
        "import argparse\n",
        "import matplotlib.pyplot as plt\n",
        "from torchvision.models import efficientnet_b0\n",
        "import warnings\n",
        "\n",
        "\n",
        "warnings.simplefilter(\"ignore\")\n",
        "\n",
        "# Hyperparameters\n",
        "MAX_GRAD_NORM = 1.5\n",
        "EPSILON = 3.0\n",
        "DELTA = 1e-5\n",
        "NOISE_MULTIPLIER = 1.1\n",
        "EPOCHS = 50\n",
        "LR = 8e-4\n",
        "BATCH_SIZE = 4096\n",
        "MAX_PHYSICAL_BATCH_SIZE = 128\n",
        "CIFAR10_MEAN = [0.4914, 0.4822, 0.4465]\n",
        "CIFAR10_STD_DEV = [0.2023, 0.1994, 0.2010]\n",
        "bound=1.0\n",
        "NUM_GROUPS = 40\n",
        "\n",
        "transform = transforms.Compose([\n",
        "    transforms.ToTensor(),\n",
        "    transforms.Normalize(CIFAR10_MEAN, CIFAR10_STD_DEV)\n",
        "\n",
        "])\n",
        "\n",
        "# Load datasets\n",
        "DATA_ROOT = \"~/.local/data\"\n",
        "train_dataset = CIFAR10(root=DATA_ROOT, train=True, download=True, transform=transform)\n",
        "test_dataset = CIFAR10(root=DATA_ROOT, train=False, download=True, transform=transform)\n",
        "\n",
        "train_loader = torch.utils.data.DataLoader(train_dataset, batch_size=BATCH_SIZE, shuffle=True)\n",
        "test_loader = torch.utils.data.DataLoader(test_dataset, batch_size=BATCH_SIZE, shuffle=False)\n",
        "\n",
        "# Define the weight-standardized convolutional layer\n",
        "class WSConv2d(nn.Conv2d):\n",
        "    def forward(self, x):\n",
        "        mean = self.weight.mean(dim=[1, 2, 3], keepdim=True)\n",
        "        std = self.weight.std(dim=[1, 2, 3], keepdim=True) + 1e-5\n",
        "        weight = (self.weight - mean) / std\n",
        "        return nn.functional.conv2d(x, weight, self.bias, self.stride, self.padding, self.dilation, self.groups)\n",
        "class EMA:\n",
        "    def __init__(self, model, decay=0.95):\n",
        "        self.decay = decay\n",
        "        self.shadow = {}\n",
        "        self.backup = {}\n",
        "        for name, param in model.named_parameters():\n",
        "            if param.requires_grad:\n",
        "                self.shadow[name] = param.data.clone()\n",
        "\n",
        "    def update(self, model):\n",
        "        for name, param in model.named_parameters():\n",
        "            if param.requires_grad:\n",
        "                assert name in self.shadow\n",
        "                new_average = self.decay * self.shadow[name] + (1.0 - self.decay) * param.data\n",
        "                self.shadow[name] = new_average.clone()\n",
        "\n",
        "    def apply_shadow(self, model):\n",
        "        for name, param in model.named_parameters():\n",
        "            if param.requires_grad:\n",
        "                assert name in self.shadow\n",
        "                self.backup[name] = param.data.clone()\n",
        "                param.data = self.shadow[name]\n",
        "\n",
        "    def restore(self, model):\n",
        "        for name, param in model.named_parameters():\n",
        "            if param.requires_grad:\n",
        "                assert name in self.backup\n",
        "                param.data = self.backup[name]\n",
        "        self.backup = {}\n",
        "\n",
        "# Define ResNet-20 with Group Normalization and Weight Standardization\n",
        "class BasicBlockGN(nn.Module):\n",
        "    def __init__(self, in_planes, planes, stride=1, num_groups=2):\n",
        "        super(BasicBlockGN, self).__init__()\n",
        "        self.conv1 = WSConv2d(in_planes, planes, kernel_size=3, stride=stride, padding=1, bias=False)\n",
        "        self.gn1 = nn.GroupNorm(num_groups, planes)\n",
        "        self.conv2 = WSConv2d(planes, planes, kernel_size=3, stride=1, padding=1, bias=False)\n",
        "        self.gn2 = nn.GroupNorm(num_groups, planes)\n",
        "        self.shortcut = nn.Sequential()\n",
        "        if stride != 1 or in_planes != planes:\n",
        "            self.shortcut = nn.Sequential(\n",
        "                WSConv2d(in_planes, planes, kernel_size=1, stride=stride, bias=False),\n",
        "                nn.GroupNorm(num_groups, planes)\n",
        "            )\n",
        "\n",
        "    def forward(self, x):\n",
        "        out = nn.SiLU()(self.gn1(self.conv1(x)))\n",
        "        out = self.gn2(self.conv2(out))\n",
        "        out += self.shortcut(x)\n",
        "        out = nn.SiLU()(out)\n",
        "        return out\n",
        "\n",
        "class ResNet20GN(nn.Module):\n",
        "    def __init__(self, num_classes=10, num_groups=2):\n",
        "        super(ResNet20GN, self).__init__()\n",
        "        self.in_planes = 16\n",
        "        self.conv1 = WSConv2d(3, 16, kernel_size=3, stride=1, padding=1, bias=False)\n",
        "        self.gn1 = nn.GroupNorm(num_groups, 16)\n",
        "\n",
        "        self.layer1 = self._make_layer(BasicBlockGN, 32, 3, stride=1, num_groups=num_groups)\n",
        "        self.layer2 = self._make_layer(BasicBlockGN, 64, 3, stride=2, num_groups=num_groups)\n",
        "        self.layer3 = self._make_layer(BasicBlockGN, 128, 3, stride=2, num_groups=num_groups)\n",
        "        self.linear = nn.Linear(128, num_classes)\n",
        "\n",
        "    def _make_layer(self, block, planes, num_blocks, stride, num_groups):\n",
        "        strides = [stride] + [1] * (num_blocks - 1)\n",
        "        layers = []\n",
        "        for stride in strides:\n",
        "            layers.append(block(self.in_planes, planes, stride, num_groups))\n",
        "            self.in_planes = planes\n",
        "        return nn.Sequential(*layers)\n",
        "\n",
        "    def forward(self, x):\n",
        "        out = nn.SiLU()(self.gn1(self.conv1(x)))\n",
        "        out = self.layer1(out)\n",
        "        out = self.layer2(out)\n",
        "        out = self.layer3(out)\n",
        "        out = nn.AvgPool2d(8)(out)\n",
        "        out = out.view(out.size(0), -1)\n",
        "        out = self.linear(out)\n",
        "        return out\n",
        "\n",
        "class WideBasicGN(nn.Module):\n",
        "    def __init__(self, in_planes, planes, dropout_rate, stride=1, num_groups=2):\n",
        "        super(WideBasicGN, self).__init__()\n",
        "        self.conv1 = WSConv2d(in_planes, planes, kernel_size=3, padding=1, bias=False)\n",
        "        self.gn1 = nn.GroupNorm(num_groups, planes)\n",
        "        self.dropout = nn.Dropout(p=dropout_rate)\n",
        "        self.conv2 = WSConv2d(planes, planes, kernel_size=3, stride=stride, padding=1, bias=False)\n",
        "        self.gn2 = nn.GroupNorm(num_groups, planes)\n",
        "        self.shortcut = nn.Sequential()\n",
        "        if stride != 1 or in_planes != planes:\n",
        "            self.shortcut = nn.Sequential(\n",
        "                WSConv2d(in_planes, planes, kernel_size=1, stride=stride, bias=False),\n",
        "                nn.GroupNorm(num_groups, planes)\n",
        "            )\n",
        "\n",
        "    def forward(self, x):\n",
        "        out = nn.SiLU()(self.gn1(self.conv1(x)))\n",
        "        out = self.dropout(out)\n",
        "        out = self.gn2(self.conv2(out))\n",
        "        out += self.shortcut(x)\n",
        "        out = nn.SiLU()(out)\n",
        "        return out\n",
        "class WRN16_4_GN(nn.Module):\n",
        "    def __init__(self, num_classes=10, dropout_rate=0.3, num_groups=2):\n",
        "        super(WRN16_4_GN, self).__init__()\n",
        "        self.in_planes = 16\n",
        "        self.conv1 = WSConv2d(3, 16, kernel_size=3, stride=1, padding=1, bias=False)\n",
        "        self.gn1 = nn.GroupNorm(num_groups, 16)\n",
        "        self.layer1 = self._make_layer(WideBasicGN, 64, 3, dropout_rate, stride=1, num_groups=num_groups)\n",
        "        self.layer2 = self._make_layer(WideBasicGN, 128, 3, dropout_rate, stride=2, num_groups=num_groups)\n",
        "        self.layer3 = self._make_layer(WideBasicGN, 256, 3, dropout_rate, stride=2, num_groups=num_groups)\n",
        "        self.linear = nn.Linear(256, num_classes)\n",
        "\n",
        "    def _make_layer(self, block, planes, num_blocks, dropout_rate, stride, num_groups):\n",
        "        strides = [stride] + [1] * (num_blocks - 1)\n",
        "        layers = []\n",
        "        for stride in strides:\n",
        "            layers.append(block(self.in_planes, planes, dropout_rate, stride, num_groups))\n",
        "            self.in_planes = planes\n",
        "        return nn.Sequential(*layers)\n",
        "\n",
        "    def forward(self, x):\n",
        "        out = nn.SiLU()(self.gn1(self.conv1(x)))\n",
        "        out = self.layer1(out)\n",
        "        out = self.layer2(out)\n",
        "        out = self.layer3(out)\n",
        "        out = nn.AvgPool2d(8)(out)\n",
        "        out = out.view(out.size(0), -1)\n",
        "        out = self.linear(out)\n",
        "        return out\n",
        "\n",
        "#model = ResNet20GN(num_classes=10)\n",
        "#model = WRN16_4_GN(num_classes=10)\n",
        "class EfficientNetForCIFAR10(nn.Module):\n",
        "    def __init__(self, num_classes=10):\n",
        "        super(EfficientNetForCIFAR10, self).__init__()\n",
        "        # Load EfficientNet B0 (or another variant)\n",
        "        self.efficient_net = efficientnet_b0(pretrained=True)\n",
        "        # Replace the classifier with a custom output layer\n",
        "        self.efficient_net.classifier[1] = nn.Linear(self.efficient_net.classifier[1].in_features, num_classes)\n",
        "\n",
        "    def forward(self, x):\n",
        "        return self.efficient_net(x)\n",
        "\n",
        "# Instantiate the model\n",
        "model = EfficientNetForCIFAR10(num_classes=10)\n",
        "device = torch.device(\"cuda\" if torch.cuda.is_available() else \"cpu\")\n",
        "model = ModuleValidator.fix(model)\n",
        "model = model.to(device)\n",
        "optimizer = optim.Adagrad(model.parameters(), lr=LR, weight_decay=1e-4)\n",
        "ModuleValidator.validate(model, strict=False)\n",
        "\n",
        "privacy_engine = PrivacyEngine()\n",
        "model, optimizer, train_loader = privacy_engine.make_private_with_epsilon(\n",
        "    module=model,\n",
        "    optimizer=optimizer,\n",
        "    data_loader=train_loader,\n",
        "    epochs=EPOCHS,\n",
        "    target_epsilon=EPSILON,\n",
        "    target_delta=DELTA,\n",
        "    max_grad_norm=MAX_GRAD_NORM\n",
        ")\n",
        "\n",
        "ema = EMA(model, decay=0.95)\n",
        "# Adaptiv\n",
        "print(f\"Using sigma={optimizer.noise_multiplier} \")\n",
        "# Loss function\n",
        "criterion = nn.CrossEntropyLoss()\n",
        "\n",
        "\n",
        "# Grouped Gradient Clipping Function\n",
        "def GroupedGradClip(gradients, bound, groups):\n",
        "    # Flatten gradients before splitting\n",
        "    flat_grad = gradients.view(gradients.size(0), -1)  # Flatten to process gradients as a 2D tensor\n",
        "    grouped_grads = torch.chunk(flat_grad, groups, dim=1)  # Chunk along the feature dimension\n",
        "    clipped_grads = []\n",
        "\n",
        "    # Compute the norm for each group and clip\n",
        "    for g in grouped_grads:\n",
        "        grad_norm = torch.norm(g, dim=1, keepdim=True)\n",
        "        clip_coef = torch.clamp(bound / (grad_norm + 1e-6), max=1.0)  # Clip the gradient norm\n",
        "        clipped_grads.append(g * clip_coef)\n",
        "\n",
        "    # Concatenate back the clipped gradients and reshape to original\n",
        "    clipped_flat_grad = torch.cat(clipped_grads, dim=1)\n",
        "\n",
        "    # Reshape back to original gradient shape\n",
        "    return clipped_flat_grad.view_as(gradients)\n",
        "\n",
        "\n",
        "L=256\n",
        "# Training and testing functions\n",
        "\n",
        "def train(model, train_loader, optimizer, epoch, device):\n",
        "    model.train()\n",
        "    losses = []\n",
        "    top1_acc = []\n",
        "\n",
        "    with BatchMemoryManager(data_loader=train_loader, max_physical_batch_size=MAX_PHYSICAL_BATCH_SIZE, optimizer=optimizer) as memory_safe_data_loader:\n",
        "        for batch_idx, (data, target) in tqdm(enumerate(memory_safe_data_loader), total=len(memory_safe_data_loader)):\n",
        "            data, target = data.to(device), target.to(device)\n",
        "            optimizer.zero_grad()\n",
        "            output = model(data)\n",
        "            loss = criterion(output, target)\n",
        "            loss.backward()\n",
        "\n",
        "            # Apply grouped gradient clipping\n",
        "            for l,p in enumerate(model.parameters()):\n",
        "                  if p.grad is not None:\n",
        "                      p.grad = GroupedGradClip(p.grad, bound, NUM_GROUPS)\n",
        "\n",
        "                      noise = torch.normal(mean=0, std=NOISE_MULTIPLIER * bound, size=p.grad.shape, device=device)\n",
        "                      p.grad = (p.grad + noise) / L  # Normalize by group size\n",
        "\n",
        "\n",
        "\n",
        "            optimizer.step()\n",
        "            losses.append(loss.item())\n",
        "            _, predicted = torch.max(output.data, 1)\n",
        "            correct = predicted.eq(target).sum().item()\n",
        "            top1_acc.append(correct / target.size(0))\n",
        "            ema.update(model)\n",
        "            if (batch_idx + 1) % 200 == 0:\n",
        "                epsilon = privacy_engine.get_epsilon(DELTA)\n",
        "                print(\n",
        "                    f\"(e = {epsilon:.2f}, d = {DELTA})\"\n",
        "                )\n",
        "\n",
        "\n",
        "    avg_loss = np.mean(losses)\n",
        "    avg_acc = np.mean(top1_acc) * 100\n",
        "    return avg_loss, avg_acc,epsilon\n",
        "\n",
        "def test_with_ema(model, test_loader, device, ema):\n",
        "    ema.apply_shadow(model)  # Apply EMA parameters\n",
        "    test_loss, test_accuracy = test(model, test_loader, device)\n",
        "    ema.restore(model)  # Restore original parameters\n",
        "    return test_loss, test_accuracy\n",
        "\n",
        "def test(model, test_loader, device):\n",
        "    model.eval()\n",
        "    losses = []\n",
        "    top1_acc = []\n",
        "\n",
        "    with torch.no_grad():\n",
        "        for data, target in test_loader:\n",
        "            data, target = data.to(device), target.to(device)\n",
        "            output = model(data)\n",
        "            loss = criterion(output, target)\n",
        "            preds = np.argmax(output.detach().cpu().numpy(), axis=1)\n",
        "            labels = target.detach().cpu().numpy()\n",
        "\n",
        "            # Calculate accuracy\n",
        "            acc = np.mean(preds == labels)\n",
        "\n",
        "\n",
        "            losses.append(loss.item())\n",
        "            top1_acc.append(acc)\n",
        "\n",
        "\n",
        "    avg_loss = np.mean(losses)\n",
        "    avg_accuracy = np.mean(top1_acc)*100\n",
        "    return avg_loss, avg_accuracy\n",
        "\n",
        "train_accuracies = []\n",
        "test_accuracies = []\n",
        "epsilons = []\n",
        "train_losses = []\n",
        "test_losses = []\n",
        "epochs = []\n",
        "\n",
        "# Run training loop with logging\n",
        "for epoch in range(1, EPOCHS + 1):\n",
        "    train_loss, train_acc, epsilonv = train(model, train_loader, optimizer, epoch, device)\n",
        "    test_loss, test_accuracy = test_with_ema(model, test_loader, device, ema)\n",
        "    print(f\"Epoch {epoch}: Train Loss={train_loss:.4f}, Train Acc={train_acc:.2f}%, \"\n",
        "          f\"Test Loss={test_loss:.4f}, Test Acc={test_accuracy:.2f}%, Epsilon={epsilonv:.2f}\")\n",
        "\n",
        "\n",
        "    # Log metrics for plotting\n",
        "    train_accuracies.append(train_acc)\n",
        "    test_accuracies.append(test_accuracy)\n",
        "    epsilons.append(epsilonv)\n",
        "    train_losses.append(train_loss)\n",
        "    test_losses.append(test_loss)\n",
        "    epochs.append(epoch)\n",
        "\n",
        "\n",
        "\n",
        "# Plot 1: Test Accuracy vs Epsilon\n",
        "plt.figure(figsize=(10, 6))\n",
        "plt.plot(epsilons, test_accuracies, marker='o', label=\"Test Accuracy\")\n",
        "plt.xlabel(\"Epsilon\")\n",
        "plt.ylabel(\"Test Accuracy (%)\")\n",
        "plt.title(\"Test Accuracy vs Epsilon\")\n",
        "plt.grid(True)\n",
        "plt.legend()\n",
        "plt.show()\n",
        "\n",
        "# Plot 2: Train and Test Accuracy vs Epochs\n",
        "plt.figure(figsize=(10, 6))\n",
        "plt.plot(epochs, train_accuracies, label=\"Train Accuracy\", marker='o')\n",
        "plt.plot(epochs, test_accuracies, label=\"Test Accuracy\", marker='s')\n",
        "plt.xlabel(\"Epochs\")\n",
        "plt.ylabel(\"Accuracy (%)\")\n",
        "plt.title(\"Train and Test Accuracy vs Epochs\")\n",
        "plt.grid(True)\n",
        "plt.legend()\n",
        "plt.show()\n",
        "import pandas as pd\n",
        "# Save metrics to a DataFrame for further analysis\n",
        "metrics_data = {\n",
        "    \"Epoch\": epochs,\n",
        "    \"Train Accuracy\": train_accuracies,\n",
        "    \"Test Accuracy\": test_accuracies,\n",
        "    \"Epsilon\": epsilons,\n",
        "    \"Train Loss\": train_losses,\n",
        "    \"Test Loss\": test_losses\n",
        "}\n",
        "metrics_df = pd.DataFrame(metrics_data)\n",
        "\n",
        "# Save the DataFrame to an Excel file\n",
        "output_file = \"metrics_dataadaeff.xlsx\"\n",
        "metrics_df.to_excel(output_file, index=False)\n",
        "\n",
        "print(f\"Metrics data successfully saved to {output_file}.\")\n",
        "\n",
        "# Print final epsilon after training\n",
        "final_epsilon = privacy_engine.get_epsilon(DELTA)\n",
        "print(f\"Final epsilon after {EPOCHS} epochs: {final_epsilon:.2f}\")"
      ],
      "metadata": {
        "colab": {
          "base_uri": "https://localhost:8080/",
          "height": 1000
        },
        "id": "BXRsEK41mBbg",
        "outputId": "faa8f77d-f611-4243-852b-589c59d69643"
      },
      "execution_count": 2,
      "outputs": [
        {
          "output_type": "stream",
          "name": "stdout",
          "text": [
            "Downloading https://www.cs.toronto.edu/~kriz/cifar-10-python.tar.gz to /root/.local/data/cifar-10-python.tar.gz\n"
          ]
        },
        {
          "output_type": "stream",
          "name": "stderr",
          "text": [
            "100%|██████████| 170M/170M [00:01<00:00, 104MB/s]\n"
          ]
        },
        {
          "output_type": "stream",
          "name": "stdout",
          "text": [
            "Extracting /root/.local/data/cifar-10-python.tar.gz to /root/.local/data\n",
            "Files already downloaded and verified\n"
          ]
        },
        {
          "output_type": "stream",
          "name": "stderr",
          "text": [
            "Downloading: \"https://download.pytorch.org/models/efficientnet_b0_rwightman-7f5810bc.pth\" to /root/.cache/torch/hub/checkpoints/efficientnet_b0_rwightman-7f5810bc.pth\n",
            "100%|██████████| 20.5M/20.5M [00:00<00:00, 99.7MB/s]\n"
          ]
        },
        {
          "output_type": "stream",
          "name": "stdout",
          "text": [
            "Using sigma=2.880859375 \n"
          ]
        },
        {
          "output_type": "stream",
          "name": "stderr",
          "text": [
            " 51%|█████     | 200/391 [01:28<01:24,  2.26it/s]"
          ]
        },
        {
          "output_type": "stream",
          "name": "stdout",
          "text": [
            "(e = 0.29, d = 1e-05)\n"
          ]
        },
        {
          "output_type": "stream",
          "name": "stderr",
          "text": [
            "397it [02:53,  2.29it/s]\n"
          ]
        },
        {
          "output_type": "stream",
          "name": "stdout",
          "text": [
            "Epoch 1: Train Loss=2.3476, Train Acc=10.42%, Test Loss=2.3161, Test Acc=10.46%, Epsilon=0.29\n"
          ]
        },
        {
          "output_type": "stream",
          "name": "stderr",
          "text": [
            " 51%|█████     | 200/391 [01:25<01:26,  2.21it/s]"
          ]
        },
        {
          "output_type": "stream",
          "name": "stdout",
          "text": [
            "(e = 0.49, d = 1e-05)\n"
          ]
        },
        {
          "output_type": "stream",
          "name": "stderr",
          "text": [
            "393it [02:48,  2.33it/s]\n"
          ]
        },
        {
          "output_type": "stream",
          "name": "stdout",
          "text": [
            "Epoch 2: Train Loss=2.3333, Train Acc=10.79%, Test Loss=2.3067, Test Acc=11.25%, Epsilon=0.49\n"
          ]
        },
        {
          "output_type": "stream",
          "name": "stderr",
          "text": [
            " 51%|█████     | 200/391 [01:25<01:25,  2.23it/s]"
          ]
        },
        {
          "output_type": "stream",
          "name": "stdout",
          "text": [
            "(e = 0.63, d = 1e-05)\n"
          ]
        },
        {
          "output_type": "stream",
          "name": "stderr",
          "text": [
            "400it [02:50,  2.34it/s]"
          ]
        },
        {
          "output_type": "stream",
          "name": "stdout",
          "text": [
            "(e = 0.69, d = 1e-05)\n"
          ]
        },
        {
          "output_type": "stream",
          "name": "stderr",
          "text": [
            "\n"
          ]
        },
        {
          "output_type": "stream",
          "name": "stdout",
          "text": [
            "Epoch 3: Train Loss=2.3269, Train Acc=11.14%, Test Loss=2.2999, Test Acc=11.62%, Epsilon=0.69\n"
          ]
        },
        {
          "output_type": "stream",
          "name": "stderr",
          "text": [
            " 51%|█████     | 200/391 [01:25<01:25,  2.23it/s]"
          ]
        },
        {
          "output_type": "stream",
          "name": "stdout",
          "text": [
            "(e = 0.74, d = 1e-05)\n"
          ]
        },
        {
          "output_type": "stream",
          "name": "stderr",
          "text": [
            "400it [02:51,  2.34it/s]"
          ]
        },
        {
          "output_type": "stream",
          "name": "stdout",
          "text": [
            "(e = 0.79, d = 1e-05)\n"
          ]
        },
        {
          "output_type": "stream",
          "name": "stderr",
          "text": [
            "\n"
          ]
        },
        {
          "output_type": "stream",
          "name": "stdout",
          "text": [
            "Epoch 4: Train Loss=2.3225, Train Acc=10.89%, Test Loss=2.2940, Test Acc=12.15%, Epsilon=0.79\n"
          ]
        },
        {
          "output_type": "stream",
          "name": "stderr",
          "text": [
            " 51%|█████     | 200/391 [01:25<01:25,  2.24it/s]"
          ]
        },
        {
          "output_type": "stream",
          "name": "stdout",
          "text": [
            "(e = 0.84, d = 1e-05)\n"
          ]
        },
        {
          "output_type": "stream",
          "name": "stderr",
          "text": [
            "400it [02:51,  2.34it/s]"
          ]
        },
        {
          "output_type": "stream",
          "name": "stdout",
          "text": [
            "(e = 0.89, d = 1e-05)\n"
          ]
        },
        {
          "output_type": "stream",
          "name": "stderr",
          "text": [
            "\n"
          ]
        },
        {
          "output_type": "stream",
          "name": "stdout",
          "text": [
            "Epoch 5: Train Loss=2.3187, Train Acc=11.27%, Test Loss=2.2881, Test Acc=12.71%, Epsilon=0.89\n"
          ]
        },
        {
          "output_type": "stream",
          "name": "stderr",
          "text": [
            " 51%|█████     | 200/391 [01:25<01:25,  2.23it/s]"
          ]
        },
        {
          "output_type": "stream",
          "name": "stdout",
          "text": [
            "(e = 0.93, d = 1e-05)\n"
          ]
        },
        {
          "output_type": "stream",
          "name": "stderr",
          "text": [
            "396it [02:49,  2.34it/s]\n"
          ]
        },
        {
          "output_type": "stream",
          "name": "stdout",
          "text": [
            "Epoch 6: Train Loss=2.3114, Train Acc=11.72%, Test Loss=2.2823, Test Acc=13.44%, Epsilon=0.93\n"
          ]
        },
        {
          "output_type": "stream",
          "name": "stderr",
          "text": [
            " 51%|█████     | 200/391 [01:25<01:27,  2.18it/s]"
          ]
        },
        {
          "output_type": "stream",
          "name": "stdout",
          "text": [
            "(e = 1.01, d = 1e-05)\n"
          ]
        },
        {
          "output_type": "stream",
          "name": "stderr",
          "text": [
            "394it [02:48,  2.34it/s]\n"
          ]
        },
        {
          "output_type": "stream",
          "name": "stdout",
          "text": [
            "Epoch 7: Train Loss=2.3082, Train Acc=11.90%, Test Loss=2.2770, Test Acc=13.97%, Epsilon=1.01\n"
          ]
        },
        {
          "output_type": "stream",
          "name": "stderr",
          "text": [
            " 51%|█████     | 200/391 [01:25<01:26,  2.21it/s]"
          ]
        },
        {
          "output_type": "stream",
          "name": "stdout",
          "text": [
            "(e = 1.09, d = 1e-05)\n"
          ]
        },
        {
          "output_type": "stream",
          "name": "stderr",
          "text": [
            "396it [02:49,  2.34it/s]\n"
          ]
        },
        {
          "output_type": "stream",
          "name": "stdout",
          "text": [
            "Epoch 8: Train Loss=2.3045, Train Acc=12.28%, Test Loss=2.2723, Test Acc=14.26%, Epsilon=1.09\n"
          ]
        },
        {
          "output_type": "stream",
          "name": "stderr",
          "text": [
            " 51%|█████     | 200/391 [01:25<01:26,  2.21it/s]"
          ]
        },
        {
          "output_type": "stream",
          "name": "stdout",
          "text": [
            "(e = 1.16, d = 1e-05)\n"
          ]
        },
        {
          "output_type": "stream",
          "name": "stderr",
          "text": [
            "399it [02:50,  2.34it/s]\n"
          ]
        },
        {
          "output_type": "stream",
          "name": "stdout",
          "text": [
            "Epoch 9: Train Loss=2.3029, Train Acc=12.23%, Test Loss=2.2673, Test Acc=14.51%, Epsilon=1.16\n"
          ]
        },
        {
          "output_type": "stream",
          "name": "stderr",
          "text": [
            " 51%|█████     | 200/391 [01:25<01:29,  2.13it/s]"
          ]
        },
        {
          "output_type": "stream",
          "name": "stdout",
          "text": [
            "(e = 1.23, d = 1e-05)\n"
          ]
        },
        {
          "output_type": "stream",
          "name": "stderr",
          "text": [
            "399it [02:50,  2.34it/s]\n"
          ]
        },
        {
          "output_type": "stream",
          "name": "stdout",
          "text": [
            "Epoch 10: Train Loss=2.2966, Train Acc=12.42%, Test Loss=2.2624, Test Acc=14.93%, Epsilon=1.23\n"
          ]
        },
        {
          "output_type": "stream",
          "name": "stderr",
          "text": [
            " 51%|█████     | 200/391 [01:25<01:27,  2.19it/s]"
          ]
        },
        {
          "output_type": "stream",
          "name": "stdout",
          "text": [
            "(e = 1.30, d = 1e-05)\n"
          ]
        },
        {
          "output_type": "stream",
          "name": "stderr",
          "text": [
            "395it [02:48,  2.34it/s]\n"
          ]
        },
        {
          "output_type": "stream",
          "name": "stdout",
          "text": [
            "Epoch 11: Train Loss=2.2949, Train Acc=12.90%, Test Loss=2.2577, Test Acc=15.17%, Epsilon=1.30\n"
          ]
        },
        {
          "output_type": "stream",
          "name": "stderr",
          "text": [
            " 51%|█████     | 200/391 [01:25<01:25,  2.22it/s]"
          ]
        },
        {
          "output_type": "stream",
          "name": "stdout",
          "text": [
            "(e = 1.36, d = 1e-05)\n"
          ]
        },
        {
          "output_type": "stream",
          "name": "stderr",
          "text": [
            "396it [02:49,  2.34it/s]\n"
          ]
        },
        {
          "output_type": "stream",
          "name": "stdout",
          "text": [
            "Epoch 12: Train Loss=2.2915, Train Acc=12.96%, Test Loss=2.2528, Test Acc=15.78%, Epsilon=1.36\n"
          ]
        },
        {
          "output_type": "stream",
          "name": "stderr",
          "text": [
            " 51%|█████     | 200/391 [01:25<01:26,  2.21it/s]"
          ]
        },
        {
          "output_type": "stream",
          "name": "stdout",
          "text": [
            "(e = 1.42, d = 1e-05)\n"
          ]
        },
        {
          "output_type": "stream",
          "name": "stderr",
          "text": [
            "400it [02:51,  2.21it/s]"
          ]
        },
        {
          "output_type": "stream",
          "name": "stdout",
          "text": [
            "(e = 1.45, d = 1e-05)\n"
          ]
        },
        {
          "output_type": "stream",
          "name": "stderr",
          "text": [
            "402it [02:52,  2.33it/s]\n"
          ]
        },
        {
          "output_type": "stream",
          "name": "stdout",
          "text": [
            "Epoch 13: Train Loss=2.2877, Train Acc=13.24%, Test Loss=2.2483, Test Acc=15.95%, Epsilon=1.45\n"
          ]
        },
        {
          "output_type": "stream",
          "name": "stderr",
          "text": [
            " 51%|█████     | 200/391 [01:25<01:26,  2.20it/s]"
          ]
        },
        {
          "output_type": "stream",
          "name": "stdout",
          "text": [
            "(e = 1.48, d = 1e-05)\n"
          ]
        },
        {
          "output_type": "stream",
          "name": "stderr",
          "text": [
            "397it [02:49,  2.34it/s]\n"
          ]
        },
        {
          "output_type": "stream",
          "name": "stdout",
          "text": [
            "Epoch 14: Train Loss=2.2808, Train Acc=13.61%, Test Loss=2.2433, Test Acc=16.32%, Epsilon=1.48\n"
          ]
        },
        {
          "output_type": "stream",
          "name": "stderr",
          "text": [
            " 51%|█████     | 200/391 [01:25<01:27,  2.18it/s]"
          ]
        },
        {
          "output_type": "stream",
          "name": "stdout",
          "text": [
            "(e = 1.53, d = 1e-05)\n"
          ]
        },
        {
          "output_type": "stream",
          "name": "stderr",
          "text": [
            "395it [02:49,  2.33it/s]\n"
          ]
        },
        {
          "output_type": "stream",
          "name": "stdout",
          "text": [
            "Epoch 15: Train Loss=2.2783, Train Acc=13.79%, Test Loss=2.2394, Test Acc=16.36%, Epsilon=1.53\n"
          ]
        },
        {
          "output_type": "stream",
          "name": "stderr",
          "text": [
            " 51%|█████     | 200/391 [01:25<01:27,  2.18it/s]"
          ]
        },
        {
          "output_type": "stream",
          "name": "stdout",
          "text": [
            "(e = 1.59, d = 1e-05)\n"
          ]
        },
        {
          "output_type": "stream",
          "name": "stderr",
          "text": [
            "396it [02:49,  2.34it/s]\n"
          ]
        },
        {
          "output_type": "stream",
          "name": "stdout",
          "text": [
            "Epoch 16: Train Loss=2.2790, Train Acc=13.73%, Test Loss=2.2351, Test Acc=16.60%, Epsilon=1.59\n"
          ]
        },
        {
          "output_type": "stream",
          "name": "stderr",
          "text": [
            " 51%|█████     | 200/391 [01:25<01:25,  2.23it/s]"
          ]
        },
        {
          "output_type": "stream",
          "name": "stdout",
          "text": [
            "(e = 1.64, d = 1e-05)\n"
          ]
        },
        {
          "output_type": "stream",
          "name": "stderr",
          "text": [
            "397it [02:49,  2.34it/s]\n"
          ]
        },
        {
          "output_type": "stream",
          "name": "stdout",
          "text": [
            "Epoch 17: Train Loss=2.2748, Train Acc=13.89%, Test Loss=2.2301, Test Acc=16.97%, Epsilon=1.64\n"
          ]
        },
        {
          "output_type": "stream",
          "name": "stderr",
          "text": [
            " 51%|█████     | 200/391 [01:25<01:26,  2.20it/s]"
          ]
        },
        {
          "output_type": "stream",
          "name": "stdout",
          "text": [
            "(e = 1.70, d = 1e-05)\n"
          ]
        },
        {
          "output_type": "stream",
          "name": "stderr",
          "text": [
            "397it [02:49,  2.34it/s]\n"
          ]
        },
        {
          "output_type": "stream",
          "name": "stdout",
          "text": [
            "Epoch 18: Train Loss=2.2690, Train Acc=14.13%, Test Loss=2.2262, Test Acc=17.01%, Epsilon=1.70\n"
          ]
        },
        {
          "output_type": "stream",
          "name": "stderr",
          "text": [
            " 51%|█████     | 200/391 [01:25<01:26,  2.21it/s]"
          ]
        },
        {
          "output_type": "stream",
          "name": "stdout",
          "text": [
            "(e = 1.75, d = 1e-05)\n"
          ]
        },
        {
          "output_type": "stream",
          "name": "stderr",
          "text": [
            "396it [02:49,  2.34it/s]\n"
          ]
        },
        {
          "output_type": "stream",
          "name": "stdout",
          "text": [
            "Epoch 19: Train Loss=2.2699, Train Acc=14.00%, Test Loss=2.2221, Test Acc=17.30%, Epsilon=1.75\n"
          ]
        },
        {
          "output_type": "stream",
          "name": "stderr",
          "text": [
            " 51%|█████     | 200/391 [01:25<01:27,  2.17it/s]"
          ]
        },
        {
          "output_type": "stream",
          "name": "stdout",
          "text": [
            "(e = 1.80, d = 1e-05)\n"
          ]
        },
        {
          "output_type": "stream",
          "name": "stderr",
          "text": [
            "398it [02:50,  2.34it/s]\n"
          ]
        },
        {
          "output_type": "stream",
          "name": "stdout",
          "text": [
            "Epoch 20: Train Loss=2.2644, Train Acc=14.32%, Test Loss=2.2177, Test Acc=17.51%, Epsilon=1.80\n"
          ]
        },
        {
          "output_type": "stream",
          "name": "stderr",
          "text": [
            " 51%|█████     | 200/391 [01:25<01:26,  2.22it/s]"
          ]
        },
        {
          "output_type": "stream",
          "name": "stdout",
          "text": [
            "(e = 1.85, d = 1e-05)\n"
          ]
        },
        {
          "output_type": "stream",
          "name": "stderr",
          "text": [
            "398it [02:49,  2.34it/s]\n"
          ]
        },
        {
          "output_type": "stream",
          "name": "stdout",
          "text": [
            "Epoch 21: Train Loss=2.2630, Train Acc=14.35%, Test Loss=2.2134, Test Acc=17.81%, Epsilon=1.85\n"
          ]
        },
        {
          "output_type": "stream",
          "name": "stderr",
          "text": [
            " 51%|█████     | 200/391 [01:25<01:26,  2.21it/s]"
          ]
        },
        {
          "output_type": "stream",
          "name": "stdout",
          "text": [
            "(e = 1.89, d = 1e-05)\n"
          ]
        },
        {
          "output_type": "stream",
          "name": "stderr",
          "text": [
            "398it [02:49,  2.34it/s]\n"
          ]
        },
        {
          "output_type": "stream",
          "name": "stdout",
          "text": [
            "Epoch 22: Train Loss=2.2576, Train Acc=14.65%, Test Loss=2.2097, Test Acc=17.87%, Epsilon=1.89\n"
          ]
        },
        {
          "output_type": "stream",
          "name": "stderr",
          "text": [
            " 51%|█████     | 200/391 [01:25<01:27,  2.18it/s]"
          ]
        },
        {
          "output_type": "stream",
          "name": "stdout",
          "text": [
            "(e = 1.94, d = 1e-05)\n"
          ]
        },
        {
          "output_type": "stream",
          "name": "stderr",
          "text": [
            "397it [02:49,  2.34it/s]\n"
          ]
        },
        {
          "output_type": "stream",
          "name": "stdout",
          "text": [
            "Epoch 23: Train Loss=2.2574, Train Acc=14.53%, Test Loss=2.2064, Test Acc=17.87%, Epsilon=1.94\n"
          ]
        },
        {
          "output_type": "stream",
          "name": "stderr",
          "text": [
            " 51%|█████     | 200/391 [01:25<01:26,  2.22it/s]"
          ]
        },
        {
          "output_type": "stream",
          "name": "stdout",
          "text": [
            "(e = 1.99, d = 1e-05)\n"
          ]
        },
        {
          "output_type": "stream",
          "name": "stderr",
          "text": [
            "394it [02:48,  2.34it/s]\n"
          ]
        },
        {
          "output_type": "stream",
          "name": "stdout",
          "text": [
            "Epoch 24: Train Loss=2.2515, Train Acc=15.03%, Test Loss=2.2024, Test Acc=17.99%, Epsilon=1.99\n"
          ]
        },
        {
          "output_type": "stream",
          "name": "stderr",
          "text": [
            " 51%|█████     | 200/391 [01:25<01:28,  2.17it/s]"
          ]
        },
        {
          "output_type": "stream",
          "name": "stdout",
          "text": [
            "(e = 2.03, d = 1e-05)\n"
          ]
        },
        {
          "output_type": "stream",
          "name": "stderr",
          "text": [
            "397it [02:49,  2.34it/s]\n"
          ]
        },
        {
          "output_type": "stream",
          "name": "stdout",
          "text": [
            "Epoch 25: Train Loss=2.2493, Train Acc=14.99%, Test Loss=2.1986, Test Acc=18.14%, Epsilon=2.03\n"
          ]
        },
        {
          "output_type": "stream",
          "name": "stderr",
          "text": [
            " 51%|█████     | 200/391 [01:25<01:27,  2.19it/s]"
          ]
        },
        {
          "output_type": "stream",
          "name": "stdout",
          "text": [
            "(e = 2.07, d = 1e-05)\n"
          ]
        },
        {
          "output_type": "stream",
          "name": "stderr",
          "text": [
            "398it [02:49,  2.34it/s]\n"
          ]
        },
        {
          "output_type": "stream",
          "name": "stdout",
          "text": [
            "Epoch 26: Train Loss=2.2444, Train Acc=15.40%, Test Loss=2.1956, Test Acc=18.33%, Epsilon=2.07\n"
          ]
        },
        {
          "output_type": "stream",
          "name": "stderr",
          "text": [
            " 51%|█████     | 200/391 [01:25<01:26,  2.21it/s]"
          ]
        },
        {
          "output_type": "stream",
          "name": "stdout",
          "text": [
            "(e = 2.12, d = 1e-05)\n"
          ]
        },
        {
          "output_type": "stream",
          "name": "stderr",
          "text": [
            "395it [02:48,  2.34it/s]\n"
          ]
        },
        {
          "output_type": "stream",
          "name": "stdout",
          "text": [
            "Epoch 27: Train Loss=2.2419, Train Acc=15.37%, Test Loss=2.1928, Test Acc=18.47%, Epsilon=2.12\n"
          ]
        },
        {
          "output_type": "stream",
          "name": "stderr",
          "text": [
            " 51%|█████     | 200/391 [01:25<01:28,  2.16it/s]"
          ]
        },
        {
          "output_type": "stream",
          "name": "stdout",
          "text": [
            "(e = 2.16, d = 1e-05)\n"
          ]
        },
        {
          "output_type": "stream",
          "name": "stderr",
          "text": [
            "397it [02:49,  2.34it/s]\n"
          ]
        },
        {
          "output_type": "stream",
          "name": "stdout",
          "text": [
            "Epoch 28: Train Loss=2.2407, Train Acc=15.56%, Test Loss=2.1899, Test Acc=18.61%, Epsilon=2.16\n"
          ]
        },
        {
          "output_type": "stream",
          "name": "stderr",
          "text": [
            " 51%|█████     | 200/391 [01:25<01:27,  2.18it/s]"
          ]
        },
        {
          "output_type": "stream",
          "name": "stdout",
          "text": [
            "(e = 2.20, d = 1e-05)\n"
          ]
        },
        {
          "output_type": "stream",
          "name": "stderr",
          "text": [
            "400it [02:51,  2.34it/s]"
          ]
        },
        {
          "output_type": "stream",
          "name": "stdout",
          "text": [
            "(e = 2.23, d = 1e-05)\n"
          ]
        },
        {
          "output_type": "stream",
          "name": "stderr",
          "text": [
            "\n"
          ]
        },
        {
          "output_type": "stream",
          "name": "stdout",
          "text": [
            "Epoch 29: Train Loss=2.2374, Train Acc=15.52%, Test Loss=2.1867, Test Acc=18.73%, Epsilon=2.23\n"
          ]
        },
        {
          "output_type": "stream",
          "name": "stderr",
          "text": [
            " 51%|█████     | 200/391 [01:25<01:28,  2.17it/s]"
          ]
        },
        {
          "output_type": "stream",
          "name": "stdout",
          "text": [
            "(e = 2.24, d = 1e-05)\n"
          ]
        },
        {
          "output_type": "stream",
          "name": "stderr",
          "text": [
            "395it [02:48,  2.34it/s]\n"
          ]
        },
        {
          "output_type": "stream",
          "name": "stdout",
          "text": [
            "Epoch 30: Train Loss=2.2345, Train Acc=15.78%, Test Loss=2.1840, Test Acc=18.65%, Epsilon=2.24\n"
          ]
        },
        {
          "output_type": "stream",
          "name": "stderr",
          "text": [
            " 51%|█████     | 200/391 [01:25<01:28,  2.17it/s]"
          ]
        },
        {
          "output_type": "stream",
          "name": "stdout",
          "text": [
            "(e = 2.29, d = 1e-05)\n"
          ]
        },
        {
          "output_type": "stream",
          "name": "stderr",
          "text": [
            "396it [02:49,  2.34it/s]\n"
          ]
        },
        {
          "output_type": "stream",
          "name": "stdout",
          "text": [
            "Epoch 31: Train Loss=2.2302, Train Acc=16.01%, Test Loss=2.1816, Test Acc=18.61%, Epsilon=2.29\n"
          ]
        },
        {
          "output_type": "stream",
          "name": "stderr",
          "text": [
            " 51%|█████     | 200/391 [01:25<01:26,  2.21it/s]"
          ]
        },
        {
          "output_type": "stream",
          "name": "stdout",
          "text": [
            "(e = 2.33, d = 1e-05)\n"
          ]
        },
        {
          "output_type": "stream",
          "name": "stderr",
          "text": [
            "399it [02:50,  2.34it/s]\n"
          ]
        },
        {
          "output_type": "stream",
          "name": "stdout",
          "text": [
            "Epoch 32: Train Loss=2.2306, Train Acc=15.84%, Test Loss=2.1789, Test Acc=18.52%, Epsilon=2.33\n"
          ]
        },
        {
          "output_type": "stream",
          "name": "stderr",
          "text": [
            " 51%|█████     | 200/391 [01:25<01:28,  2.16it/s]"
          ]
        },
        {
          "output_type": "stream",
          "name": "stdout",
          "text": [
            "(e = 2.37, d = 1e-05)\n"
          ]
        },
        {
          "output_type": "stream",
          "name": "stderr",
          "text": [
            "399it [02:50,  2.34it/s]\n"
          ]
        },
        {
          "output_type": "stream",
          "name": "stdout",
          "text": [
            "Epoch 33: Train Loss=2.2280, Train Acc=15.93%, Test Loss=2.1762, Test Acc=18.40%, Epsilon=2.37\n"
          ]
        },
        {
          "output_type": "stream",
          "name": "stderr",
          "text": [
            " 51%|█████     | 200/391 [01:25<01:27,  2.19it/s]"
          ]
        },
        {
          "output_type": "stream",
          "name": "stdout",
          "text": [
            "(e = 2.40, d = 1e-05)\n"
          ]
        },
        {
          "output_type": "stream",
          "name": "stderr",
          "text": [
            "396it [02:49,  2.34it/s]\n"
          ]
        },
        {
          "output_type": "stream",
          "name": "stdout",
          "text": [
            "Epoch 34: Train Loss=2.2258, Train Acc=16.08%, Test Loss=2.1742, Test Acc=18.60%, Epsilon=2.40\n"
          ]
        },
        {
          "output_type": "stream",
          "name": "stderr",
          "text": [
            " 51%|█████     | 200/391 [01:25<01:27,  2.19it/s]"
          ]
        },
        {
          "output_type": "stream",
          "name": "stdout",
          "text": [
            "(e = 2.44, d = 1e-05)\n"
          ]
        },
        {
          "output_type": "stream",
          "name": "stderr",
          "text": [
            "396it [02:49,  2.34it/s]\n"
          ]
        },
        {
          "output_type": "stream",
          "name": "stdout",
          "text": [
            "Epoch 35: Train Loss=2.2226, Train Acc=16.44%, Test Loss=2.1719, Test Acc=18.66%, Epsilon=2.44\n"
          ]
        },
        {
          "output_type": "stream",
          "name": "stderr",
          "text": [
            " 51%|█████     | 200/391 [01:25<01:28,  2.17it/s]"
          ]
        },
        {
          "output_type": "stream",
          "name": "stdout",
          "text": [
            "(e = 2.48, d = 1e-05)\n"
          ]
        },
        {
          "output_type": "stream",
          "name": "stderr",
          "text": [
            "396it [02:49,  2.34it/s]\n"
          ]
        },
        {
          "output_type": "stream",
          "name": "stdout",
          "text": [
            "Epoch 36: Train Loss=2.2214, Train Acc=16.43%, Test Loss=2.1698, Test Acc=18.83%, Epsilon=2.48\n"
          ]
        },
        {
          "output_type": "stream",
          "name": "stderr",
          "text": [
            " 51%|█████     | 200/391 [01:25<01:30,  2.12it/s]"
          ]
        },
        {
          "output_type": "stream",
          "name": "stdout",
          "text": [
            "(e = 2.52, d = 1e-05)\n"
          ]
        },
        {
          "output_type": "stream",
          "name": "stderr",
          "text": [
            "399it [02:50,  2.34it/s]\n"
          ]
        },
        {
          "output_type": "stream",
          "name": "stdout",
          "text": [
            "Epoch 37: Train Loss=2.2215, Train Acc=16.09%, Test Loss=2.1681, Test Acc=18.82%, Epsilon=2.52\n"
          ]
        },
        {
          "output_type": "stream",
          "name": "stderr",
          "text": [
            " 51%|█████     | 200/391 [01:25<01:29,  2.14it/s]"
          ]
        },
        {
          "output_type": "stream",
          "name": "stdout",
          "text": [
            "(e = 2.56, d = 1e-05)\n"
          ]
        },
        {
          "output_type": "stream",
          "name": "stderr",
          "text": [
            "398it [02:50,  2.34it/s]\n"
          ]
        },
        {
          "output_type": "stream",
          "name": "stdout",
          "text": [
            "Epoch 38: Train Loss=2.2202, Train Acc=16.19%, Test Loss=2.1665, Test Acc=18.86%, Epsilon=2.56\n"
          ]
        },
        {
          "output_type": "stream",
          "name": "stderr",
          "text": [
            " 51%|█████     | 200/391 [01:25<01:29,  2.14it/s]"
          ]
        },
        {
          "output_type": "stream",
          "name": "stdout",
          "text": [
            "(e = 2.59, d = 1e-05)\n"
          ]
        },
        {
          "output_type": "stream",
          "name": "stderr",
          "text": [
            "396it [02:49,  2.34it/s]\n"
          ]
        },
        {
          "output_type": "stream",
          "name": "stdout",
          "text": [
            "Epoch 39: Train Loss=2.2158, Train Acc=16.55%, Test Loss=2.1650, Test Acc=18.86%, Epsilon=2.59\n"
          ]
        },
        {
          "output_type": "stream",
          "name": "stderr",
          "text": [
            " 51%|█████     | 200/391 [01:25<01:27,  2.18it/s]"
          ]
        },
        {
          "output_type": "stream",
          "name": "stdout",
          "text": [
            "(e = 2.63, d = 1e-05)\n"
          ]
        },
        {
          "output_type": "stream",
          "name": "stderr",
          "text": [
            "397it [02:49,  2.34it/s]\n"
          ]
        },
        {
          "output_type": "stream",
          "name": "stdout",
          "text": [
            "Epoch 40: Train Loss=2.2123, Train Acc=16.65%, Test Loss=2.1626, Test Acc=19.01%, Epsilon=2.63\n"
          ]
        },
        {
          "output_type": "stream",
          "name": "stderr",
          "text": [
            " 51%|█████     | 200/391 [01:25<01:29,  2.13it/s]"
          ]
        },
        {
          "output_type": "stream",
          "name": "stdout",
          "text": [
            "(e = 2.67, d = 1e-05)\n"
          ]
        },
        {
          "output_type": "stream",
          "name": "stderr",
          "text": [
            "394it [02:48,  2.34it/s]\n"
          ]
        },
        {
          "output_type": "stream",
          "name": "stdout",
          "text": [
            "Epoch 41: Train Loss=2.2147, Train Acc=16.37%, Test Loss=2.1610, Test Acc=19.22%, Epsilon=2.67\n"
          ]
        },
        {
          "output_type": "stream",
          "name": "stderr",
          "text": [
            " 51%|█████     | 200/391 [01:25<01:29,  2.14it/s]"
          ]
        },
        {
          "output_type": "stream",
          "name": "stdout",
          "text": [
            "(e = 2.70, d = 1e-05)\n"
          ]
        },
        {
          "output_type": "stream",
          "name": "stderr",
          "text": [
            "397it [02:49,  2.34it/s]\n"
          ]
        },
        {
          "output_type": "stream",
          "name": "stdout",
          "text": [
            "Epoch 42: Train Loss=2.2096, Train Acc=16.64%, Test Loss=2.1597, Test Acc=19.24%, Epsilon=2.70\n"
          ]
        },
        {
          "output_type": "stream",
          "name": "stderr",
          "text": [
            " 51%|█████     | 200/391 [01:25<01:28,  2.15it/s]"
          ]
        },
        {
          "output_type": "stream",
          "name": "stdout",
          "text": [
            "(e = 2.74, d = 1e-05)\n"
          ]
        },
        {
          "output_type": "stream",
          "name": "stderr",
          "text": [
            "396it [02:49,  2.34it/s]\n"
          ]
        },
        {
          "output_type": "stream",
          "name": "stdout",
          "text": [
            "Epoch 43: Train Loss=2.2080, Train Acc=17.04%, Test Loss=2.1578, Test Acc=19.36%, Epsilon=2.74\n"
          ]
        },
        {
          "output_type": "stream",
          "name": "stderr",
          "text": [
            " 51%|█████     | 200/391 [01:25<01:29,  2.14it/s]"
          ]
        },
        {
          "output_type": "stream",
          "name": "stdout",
          "text": [
            "(e = 2.77, d = 1e-05)\n"
          ]
        },
        {
          "output_type": "stream",
          "name": "stderr",
          "text": [
            "400it [02:50,  2.34it/s]"
          ]
        },
        {
          "output_type": "stream",
          "name": "stdout",
          "text": [
            "(e = 2.79, d = 1e-05)\n"
          ]
        },
        {
          "output_type": "stream",
          "name": "stderr",
          "text": [
            "\n"
          ]
        },
        {
          "output_type": "stream",
          "name": "stdout",
          "text": [
            "Epoch 44: Train Loss=2.2045, Train Acc=16.86%, Test Loss=2.1563, Test Acc=19.50%, Epsilon=2.79\n"
          ]
        },
        {
          "output_type": "stream",
          "name": "stderr",
          "text": [
            " 51%|█████     | 200/391 [01:25<01:27,  2.19it/s]"
          ]
        },
        {
          "output_type": "stream",
          "name": "stdout",
          "text": [
            "(e = 2.81, d = 1e-05)\n"
          ]
        },
        {
          "output_type": "stream",
          "name": "stderr",
          "text": [
            "395it [02:49,  2.33it/s]\n"
          ]
        },
        {
          "output_type": "stream",
          "name": "stdout",
          "text": [
            "Epoch 45: Train Loss=2.2035, Train Acc=16.92%, Test Loss=2.1550, Test Acc=19.39%, Epsilon=2.81\n"
          ]
        },
        {
          "output_type": "stream",
          "name": "stderr",
          "text": [
            " 51%|█████     | 200/391 [01:25<01:29,  2.13it/s]"
          ]
        },
        {
          "output_type": "stream",
          "name": "stdout",
          "text": [
            "(e = 2.84, d = 1e-05)\n"
          ]
        },
        {
          "output_type": "stream",
          "name": "stderr",
          "text": [
            "396it [02:49,  2.34it/s]\n"
          ]
        },
        {
          "output_type": "stream",
          "name": "stdout",
          "text": [
            "Epoch 46: Train Loss=2.2054, Train Acc=17.06%, Test Loss=2.1541, Test Acc=19.44%, Epsilon=2.84\n"
          ]
        },
        {
          "output_type": "stream",
          "name": "stderr",
          "text": [
            " 51%|█████     | 200/391 [01:25<01:29,  2.13it/s]"
          ]
        },
        {
          "output_type": "stream",
          "name": "stdout",
          "text": [
            "(e = 2.88, d = 1e-05)\n"
          ]
        },
        {
          "output_type": "stream",
          "name": "stderr",
          "text": [
            "397it [02:49,  2.34it/s]\n"
          ]
        },
        {
          "output_type": "stream",
          "name": "stdout",
          "text": [
            "Epoch 47: Train Loss=2.2034, Train Acc=17.05%, Test Loss=2.1527, Test Acc=19.57%, Epsilon=2.88\n"
          ]
        },
        {
          "output_type": "stream",
          "name": "stderr",
          "text": [
            " 51%|█████     | 200/391 [01:25<01:26,  2.20it/s]"
          ]
        },
        {
          "output_type": "stream",
          "name": "stdout",
          "text": [
            "(e = 2.91, d = 1e-05)\n"
          ]
        },
        {
          "output_type": "stream",
          "name": "stderr",
          "text": [
            "399it [02:50,  2.34it/s]\n"
          ]
        },
        {
          "output_type": "stream",
          "name": "stdout",
          "text": [
            "Epoch 48: Train Loss=2.1980, Train Acc=17.13%, Test Loss=2.1513, Test Acc=19.69%, Epsilon=2.91\n"
          ]
        },
        {
          "output_type": "stream",
          "name": "stderr",
          "text": [
            " 51%|█████     | 200/391 [01:25<01:29,  2.13it/s]"
          ]
        },
        {
          "output_type": "stream",
          "name": "stdout",
          "text": [
            "(e = 2.95, d = 1e-05)\n"
          ]
        },
        {
          "output_type": "stream",
          "name": "stderr",
          "text": [
            "395it [02:49,  2.33it/s]\n"
          ]
        },
        {
          "output_type": "stream",
          "name": "stdout",
          "text": [
            "Epoch 49: Train Loss=2.2020, Train Acc=17.39%, Test Loss=2.1502, Test Acc=19.46%, Epsilon=2.95\n"
          ]
        },
        {
          "output_type": "stream",
          "name": "stderr",
          "text": [
            " 51%|█████     | 200/391 [01:25<01:30,  2.12it/s]"
          ]
        },
        {
          "output_type": "stream",
          "name": "stdout",
          "text": [
            "(e = 2.98, d = 1e-05)\n"
          ]
        },
        {
          "output_type": "stream",
          "name": "stderr",
          "text": [
            "395it [02:49,  2.33it/s]\n"
          ]
        },
        {
          "output_type": "stream",
          "name": "stdout",
          "text": [
            "Epoch 50: Train Loss=2.1982, Train Acc=17.20%, Test Loss=2.1491, Test Acc=19.46%, Epsilon=2.98\n"
          ]
        },
        {
          "output_type": "display_data",
          "data": {
            "text/plain": [
              "<Figure size 1000x600 with 1 Axes>"
            ],
            "image/png": "[encoded data removed]"
          },
          "metadata": {}
        },
        {
          "output_type": "display_data",
          "data": {
            "text/plain": [
              "<Figure size 1000x600 with 1 Axes>"
            ],
            "image/png": "[encoded data removed]"
          },
          "metadata": {}
        },
        {
          "output_type": "stream",
          "name": "stdout",
          "text": [
            "Metrics data successfully saved to metrics_dataadaeff.xlsx.\n",
            "Final epsilon after 50 epochs: 3.00\n"
          ]
        }
      ]
    }
  ]
}

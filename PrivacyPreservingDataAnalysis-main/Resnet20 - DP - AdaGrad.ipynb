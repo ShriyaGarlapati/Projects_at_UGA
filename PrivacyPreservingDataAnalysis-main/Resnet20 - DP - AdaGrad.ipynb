{
  "nbformat": 4,
  "nbformat_minor": 0,
  "metadata": {
    "colab": {
      "provenance": [],
      "machine_shape": "hm",
      "gpuType": "A100",
      "authorship_tag": "ABX9TyMHXWM68mPv6f92dQgc3/ms",
      "include_colab_link": true
    },
    "kernelspec": {
      "name": "python3",
      "display_name": "Python 3"
    },
    "language_info": {
      "name": "python"
    },
    "accelerator": "GPU"
  },
  "cells": [
    {
      "cell_type": "markdown",
      "metadata": {
        "id": "view-in-github",
        "colab_type": "text"
      },
      "source": [
        "<a href=\"https://colab.research.google.com/github/HARIPRIYA02/DPOptimizers---HS/blob/main/Untitled34.ipynb\" target=\"_parent\"><img src=\"https://colab.research.google.com/assets/colab-badge.svg\" alt=\"Open In Colab\"/></a>"
      ]
    },
    {
      "cell_type": "code",
      "execution_count": 1,
      "metadata": {
        "colab": {
          "base_uri": "https://localhost:8080/"
        },
        "id": "3JjKVbYv6K-q",
        "outputId": "2bfae261-f806-4720-95bc-0faf55cfd6ae"
      },
      "outputs": [
        {
          "output_type": "stream",
          "name": "stdout",
          "text": [
            "Collecting opacus\n",
            "  Downloading opacus-1.5.2-py3-none-any.whl.metadata (7.9 kB)\n",
            "Requirement already satisfied: numpy<2.0,>=1.15 in /usr/local/lib/python3.10/dist-packages (from opacus) (1.26.4)\n",
            "Requirement already satisfied: torch>=2.0 in /usr/local/lib/python3.10/dist-packages (from opacus) (2.5.1+cu121)\n",
            "Requirement already satisfied: scipy>=1.2 in /usr/local/lib/python3.10/dist-packages (from opacus) (1.13.1)\n",
            "Requirement already satisfied: opt-einsum>=3.3.0 in /usr/local/lib/python3.10/dist-packages (from opacus) (3.4.0)\n",
            "Requirement already satisfied: filelock in /usr/local/lib/python3.10/dist-packages (from torch>=2.0->opacus) (3.16.1)\n",
            "Requirement already satisfied: typing-extensions>=4.8.0 in /usr/local/lib/python3.10/dist-packages (from torch>=2.0->opacus) (4.12.2)\n",
            "Requirement already satisfied: networkx in /usr/local/lib/python3.10/dist-packages (from torch>=2.0->opacus) (3.4.2)\n",
            "Requirement already satisfied: jinja2 in /usr/local/lib/python3.10/dist-packages (from torch>=2.0->opacus) (3.1.4)\n",
            "Requirement already satisfied: fsspec in /usr/local/lib/python3.10/dist-packages (from torch>=2.0->opacus) (2024.10.0)\n",
            "Requirement already satisfied: sympy==1.13.1 in /usr/local/lib/python3.10/dist-packages (from torch>=2.0->opacus) (1.13.1)\n",
            "Requirement already satisfied: mpmath<1.4,>=1.1.0 in /usr/local/lib/python3.10/dist-packages (from sympy==1.13.1->torch>=2.0->opacus) (1.3.0)\n",
            "Requirement already satisfied: MarkupSafe>=2.0 in /usr/local/lib/python3.10/dist-packages (from jinja2->torch>=2.0->opacus) (3.0.2)\n",
            "Downloading opacus-1.5.2-py3-none-any.whl (239 kB)\n",
            "\u001b[?25l   \u001b[90m━━━━━━━━━━━━━━━━━━━━━━━━━━━━━━━━━━━━━━━━\u001b[0m \u001b[32m0.0/239.9 kB\u001b[0m \u001b[31m?\u001b[0m eta \u001b[36m-:--:--\u001b[0m\r\u001b[2K   \u001b[91m━━━━━━━━━━━━━━━━━━━━━━━━━\u001b[0m\u001b[91m╸\u001b[0m\u001b[90m━━━━━━━━━━━━━━\u001b[0m \u001b[32m153.6/239.9 kB\u001b[0m \u001b[31m4.3 MB/s\u001b[0m eta \u001b[36m0:00:01\u001b[0m\r\u001b[2K   \u001b[90m━━━━━━━━━━━━━━━━━━━━━━━━━━━━━━━━━━━━━━━━\u001b[0m \u001b[32m239.9/239.9 kB\u001b[0m \u001b[31m4.2 MB/s\u001b[0m eta \u001b[36m0:00:00\u001b[0m\n",
            "\u001b[?25hInstalling collected packages: opacus\n",
            "Successfully installed opacus-1.5.2\n"
          ]
        }
      ],
      "source": [
        "!pip install opacus"
      ]
    },
    {
      "cell_type": "code",
      "source": [
        "import torch\n",
        "import torchvision\n",
        "import torchvision.transforms as transforms\n",
        "from torchvision.datasets import CIFAR10\n",
        "import torch.nn as nn\n",
        "import torch.optim as optim\n",
        "from opacus import PrivacyEngine\n",
        "from opacus.utils.batch_memory_manager import BatchMemoryManager\n",
        "from torchvision.transforms.functional import InterpolationMode\n",
        "from opacus.validators import ModuleValidator\n",
        "from tqdm import tqdm\n",
        "import numpy as np\n",
        "import argparse\n",
        "import matplotlib.pyplot as plt\n",
        "import warnings\n",
        "warnings.simplefilter(\"ignore\")\n",
        "\n",
        "# Hyperparameters\n",
        "MAX_GRAD_NORM = 1.5\n",
        "EPSILON = 3.0\n",
        "DELTA = 1e-5\n",
        "NOISE_MULTIPLIER = 1.1\n",
        "EPOCHS = 50\n",
        "LR = 8e-4\n",
        "BATCH_SIZE = 4096\n",
        "MAX_PHYSICAL_BATCH_SIZE = 128\n",
        "CIFAR10_MEAN = [0.4914, 0.4822, 0.4465]\n",
        "CIFAR10_STD_DEV = [0.2023, 0.1994, 0.2010]\n",
        "bound=1.0\n",
        "NUM_GROUPS = 40\n",
        "\n",
        "transform = transforms.Compose([\n",
        "    transforms.ToTensor(),\n",
        "    transforms.Normalize(CIFAR10_MEAN, CIFAR10_STD_DEV)\n",
        "\n",
        "])\n",
        "\n",
        "# Load datasets\n",
        "DATA_ROOT = \"~/.local/data\"\n",
        "train_dataset = CIFAR10(root=DATA_ROOT, train=True, download=True, transform=transform)\n",
        "test_dataset = CIFAR10(root=DATA_ROOT, train=False, download=True, transform=transform)\n",
        "\n",
        "train_loader = torch.utils.data.DataLoader(train_dataset, batch_size=BATCH_SIZE, shuffle=True)\n",
        "test_loader = torch.utils.data.DataLoader(test_dataset, batch_size=BATCH_SIZE, shuffle=False)\n",
        "\n",
        "# Define the weight-standardized convolutional layer\n",
        "class WSConv2d(nn.Conv2d):\n",
        "    def forward(self, x):\n",
        "        mean = self.weight.mean(dim=[1, 2, 3], keepdim=True)\n",
        "        std = self.weight.std(dim=[1, 2, 3], keepdim=True) + 1e-5\n",
        "        weight = (self.weight - mean) / std\n",
        "        return nn.functional.conv2d(x, weight, self.bias, self.stride, self.padding, self.dilation, self.groups)\n",
        "class EMA:\n",
        "    def __init__(self, model, decay=0.95):\n",
        "        self.decay = decay\n",
        "        self.shadow = {}\n",
        "        self.backup = {}\n",
        "        for name, param in model.named_parameters():\n",
        "            if param.requires_grad:\n",
        "                self.shadow[name] = param.data.clone()\n",
        "\n",
        "    def update(self, model):\n",
        "        for name, param in model.named_parameters():\n",
        "            if param.requires_grad:\n",
        "                assert name in self.shadow\n",
        "                new_average = self.decay * self.shadow[name] + (1.0 - self.decay) * param.data\n",
        "                self.shadow[name] = new_average.clone()\n",
        "\n",
        "    def apply_shadow(self, model):\n",
        "        for name, param in model.named_parameters():\n",
        "            if param.requires_grad:\n",
        "                assert name in self.shadow\n",
        "                self.backup[name] = param.data.clone()\n",
        "                param.data = self.shadow[name]\n",
        "\n",
        "    def restore(self, model):\n",
        "        for name, param in model.named_parameters():\n",
        "            if param.requires_grad:\n",
        "                assert name in self.backup\n",
        "                param.data = self.backup[name]\n",
        "        self.backup = {}\n",
        "\n",
        "# Define ResNet-20 with Group Normalization and Weight Standardization\n",
        "class BasicBlockGN(nn.Module):\n",
        "    def __init__(self, in_planes, planes, stride=1, num_groups=2):\n",
        "        super(BasicBlockGN, self).__init__()\n",
        "        self.conv1 = WSConv2d(in_planes, planes, kernel_size=3, stride=stride, padding=1, bias=False)\n",
        "        self.gn1 = nn.GroupNorm(num_groups, planes)\n",
        "        self.conv2 = WSConv2d(planes, planes, kernel_size=3, stride=1, padding=1, bias=False)\n",
        "        self.gn2 = nn.GroupNorm(num_groups, planes)\n",
        "        self.shortcut = nn.Sequential()\n",
        "        if stride != 1 or in_planes != planes:\n",
        "            self.shortcut = nn.Sequential(\n",
        "                WSConv2d(in_planes, planes, kernel_size=1, stride=stride, bias=False),\n",
        "                nn.GroupNorm(num_groups, planes)\n",
        "            )\n",
        "\n",
        "    def forward(self, x):\n",
        "        out = nn.SiLU()(self.gn1(self.conv1(x)))\n",
        "        out = self.gn2(self.conv2(out))\n",
        "        out += self.shortcut(x)\n",
        "        out = nn.SiLU()(out)\n",
        "        return out\n",
        "\n",
        "class ResNet20GN(nn.Module):\n",
        "    def __init__(self, num_classes=10, num_groups=2):\n",
        "        super(ResNet20GN, self).__init__()\n",
        "        self.in_planes = 16\n",
        "        self.conv1 = WSConv2d(3, 16, kernel_size=3, stride=1, padding=1, bias=False)\n",
        "        self.gn1 = nn.GroupNorm(num_groups, 16)\n",
        "\n",
        "        self.layer1 = self._make_layer(BasicBlockGN, 32, 3, stride=1, num_groups=num_groups)\n",
        "        self.layer2 = self._make_layer(BasicBlockGN, 64, 3, stride=2, num_groups=num_groups)\n",
        "        self.layer3 = self._make_layer(BasicBlockGN, 128, 3, stride=2, num_groups=num_groups)\n",
        "        self.linear = nn.Linear(128, num_classes)\n",
        "\n",
        "    def _make_layer(self, block, planes, num_blocks, stride, num_groups):\n",
        "        strides = [stride] + [1] * (num_blocks - 1)\n",
        "        layers = []\n",
        "        for stride in strides:\n",
        "            layers.append(block(self.in_planes, planes, stride, num_groups))\n",
        "            self.in_planes = planes\n",
        "        return nn.Sequential(*layers)\n",
        "\n",
        "    def forward(self, x):\n",
        "        out = nn.SiLU()(self.gn1(self.conv1(x)))\n",
        "        out = self.layer1(out)\n",
        "        out = self.layer2(out)\n",
        "        out = self.layer3(out)\n",
        "        out = nn.AvgPool2d(8)(out)\n",
        "        out = out.view(out.size(0), -1)\n",
        "        out = self.linear(out)\n",
        "        return out\n",
        "\n",
        "class WideBasicGN(nn.Module):\n",
        "    def __init__(self, in_planes, planes, dropout_rate, stride=1, num_groups=2):\n",
        "        super(WideBasicGN, self).__init__()\n",
        "        self.conv1 = WSConv2d(in_planes, planes, kernel_size=3, padding=1, bias=False)\n",
        "        self.gn1 = nn.GroupNorm(num_groups, planes)\n",
        "        self.dropout = nn.Dropout(p=dropout_rate)\n",
        "        self.conv2 = WSConv2d(planes, planes, kernel_size=3, stride=stride, padding=1, bias=False)\n",
        "        self.gn2 = nn.GroupNorm(num_groups, planes)\n",
        "        self.shortcut = nn.Sequential()\n",
        "        if stride != 1 or in_planes != planes:\n",
        "            self.shortcut = nn.Sequential(\n",
        "                WSConv2d(in_planes, planes, kernel_size=1, stride=stride, bias=False),\n",
        "                nn.GroupNorm(num_groups, planes)\n",
        "            )\n",
        "\n",
        "    def forward(self, x):\n",
        "        out = nn.SiLU()(self.gn1(self.conv1(x)))\n",
        "        out = self.dropout(out)\n",
        "        out = self.gn2(self.conv2(out))\n",
        "        out += self.shortcut(x)\n",
        "        out = nn.SiLU()(out)\n",
        "        return out\n",
        "class WRN16_4_GN(nn.Module):\n",
        "    def __init__(self, num_classes=10, dropout_rate=0.3, num_groups=2):\n",
        "        super(WRN16_4_GN, self).__init__()\n",
        "        self.in_planes = 16\n",
        "        self.conv1 = WSConv2d(3, 16, kernel_size=3, stride=1, padding=1, bias=False)\n",
        "        self.gn1 = nn.GroupNorm(num_groups, 16)\n",
        "        self.layer1 = self._make_layer(WideBasicGN, 64, 3, dropout_rate, stride=1, num_groups=num_groups)\n",
        "        self.layer2 = self._make_layer(WideBasicGN, 128, 3, dropout_rate, stride=2, num_groups=num_groups)\n",
        "        self.layer3 = self._make_layer(WideBasicGN, 256, 3, dropout_rate, stride=2, num_groups=num_groups)\n",
        "        self.linear = nn.Linear(256, num_classes)\n",
        "\n",
        "    def _make_layer(self, block, planes, num_blocks, dropout_rate, stride, num_groups):\n",
        "        strides = [stride] + [1] * (num_blocks - 1)\n",
        "        layers = []\n",
        "        for stride in strides:\n",
        "            layers.append(block(self.in_planes, planes, dropout_rate, stride, num_groups))\n",
        "            self.in_planes = planes\n",
        "        return nn.Sequential(*layers)\n",
        "\n",
        "    def forward(self, x):\n",
        "        out = nn.SiLU()(self.gn1(self.conv1(x)))\n",
        "        out = self.layer1(out)\n",
        "        out = self.layer2(out)\n",
        "        out = self.layer3(out)\n",
        "        out = nn.AvgPool2d(8)(out)\n",
        "        out = out.view(out.size(0), -1)\n",
        "        out = self.linear(out)\n",
        "        return out\n",
        "\n",
        "model = ResNet20GN(num_classes=10)\n",
        "#model = WRN16_4_GN(num_classes=10)\n",
        "device = torch.device(\"cuda\" if torch.cuda.is_available() else \"cpu\")\n",
        "model = ModuleValidator.fix(model)\n",
        "model = model.to(device)\n",
        "optimizer = optim.Adagrad(model.parameters(), lr=LR, weight_decay=1e-4)\n",
        "ModuleValidator.validate(model, strict=False)\n",
        "\n",
        "privacy_engine = PrivacyEngine()\n",
        "model, optimizer, train_loader = privacy_engine.make_private_with_epsilon(\n",
        "    module=model,\n",
        "    optimizer=optimizer,\n",
        "    data_loader=train_loader,\n",
        "    epochs=EPOCHS,\n",
        "    target_epsilon=EPSILON,\n",
        "    target_delta=DELTA,\n",
        "    max_grad_norm=MAX_GRAD_NORM\n",
        ")\n",
        "\n",
        "ema = EMA(model, decay=0.95)\n",
        "# Adaptiv\n",
        "print(f\"Using sigma={optimizer.noise_multiplier} \")\n",
        "# Loss function\n",
        "criterion = nn.CrossEntropyLoss()\n",
        "\n",
        "\n",
        "# Grouped Gradient Clipping Function\n",
        "def GroupedGradClip(gradients, bound, groups):\n",
        "    # Flatten gradients before splitting\n",
        "    flat_grad = gradients.view(gradients.size(0), -1)  # Flatten to process gradients as a 2D tensor\n",
        "    grouped_grads = torch.chunk(flat_grad, groups, dim=1)  # Chunk along the feature dimension\n",
        "    clipped_grads = []\n",
        "\n",
        "    # Compute the norm for each group and clip\n",
        "    for g in grouped_grads:\n",
        "        grad_norm = torch.norm(g, dim=1, keepdim=True)\n",
        "        clip_coef = torch.clamp(bound / (grad_norm + 1e-6), max=1.0)  # Clip the gradient norm\n",
        "        clipped_grads.append(g * clip_coef)\n",
        "\n",
        "    # Concatenate back the clipped gradients and reshape to original\n",
        "    clipped_flat_grad = torch.cat(clipped_grads, dim=1)\n",
        "\n",
        "    # Reshape back to original gradient shape\n",
        "    return clipped_flat_grad.view_as(gradients)\n",
        "\n",
        "\n",
        "L=256\n",
        "# Training and testing functions\n",
        "\n",
        "def train(model, train_loader, optimizer, epoch, device):\n",
        "    model.train()\n",
        "    losses = []\n",
        "    top1_acc = []\n",
        "\n",
        "    with BatchMemoryManager(data_loader=train_loader, max_physical_batch_size=MAX_PHYSICAL_BATCH_SIZE, optimizer=optimizer) as memory_safe_data_loader:\n",
        "        for batch_idx, (data, target) in tqdm(enumerate(memory_safe_data_loader), total=len(memory_safe_data_loader)):\n",
        "            data, target = data.to(device), target.to(device)\n",
        "            optimizer.zero_grad()\n",
        "            output = model(data)\n",
        "            loss = criterion(output, target)\n",
        "            loss.backward()\n",
        "\n",
        "            # Apply grouped gradient clipping\n",
        "            for l,p in enumerate(model.parameters()):\n",
        "                  if p.grad is not None:\n",
        "                      p.grad = GroupedGradClip(p.grad, bound, NUM_GROUPS)\n",
        "\n",
        "                      noise = torch.normal(mean=0, std=NOISE_MULTIPLIER * bound, size=p.grad.shape, device=device)\n",
        "                      p.grad = (p.grad + noise) / L  # Normalize by group size\n",
        "\n",
        "\n",
        "\n",
        "            optimizer.step()\n",
        "            losses.append(loss.item())\n",
        "            _, predicted = torch.max(output.data, 1)\n",
        "            correct = predicted.eq(target).sum().item()\n",
        "            top1_acc.append(correct / target.size(0))\n",
        "            ema.update(model)\n",
        "            if (batch_idx + 1) % 200 == 0:\n",
        "                epsilon = privacy_engine.get_epsilon(DELTA)\n",
        "                print(\n",
        "                    f\"(e = {epsilon:.2f}, d = {DELTA})\"\n",
        "                )\n",
        "\n",
        "\n",
        "    avg_loss = np.mean(losses)\n",
        "    avg_acc = np.mean(top1_acc) * 100\n",
        "    return avg_loss, avg_acc,epsilon\n",
        "\n",
        "def test_with_ema(model, test_loader, device, ema):\n",
        "    ema.apply_shadow(model)  # Apply EMA parameters\n",
        "    test_loss, test_accuracy = test(model, test_loader, device)\n",
        "    ema.restore(model)  # Restore original parameters\n",
        "    return test_loss, test_accuracy\n",
        "\n",
        "def test(model, test_loader, device):\n",
        "    model.eval()\n",
        "    losses = []\n",
        "    top1_acc = []\n",
        "\n",
        "    with torch.no_grad():\n",
        "        for data, target in test_loader:\n",
        "            data, target = data.to(device), target.to(device)\n",
        "            output = model(data)\n",
        "            loss = criterion(output, target)\n",
        "            preds = np.argmax(output.detach().cpu().numpy(), axis=1)\n",
        "            labels = target.detach().cpu().numpy()\n",
        "\n",
        "            # Calculate accuracy\n",
        "            acc = np.mean(preds == labels)\n",
        "\n",
        "\n",
        "            losses.append(loss.item())\n",
        "            top1_acc.append(acc)\n",
        "\n",
        "\n",
        "    avg_loss = np.mean(losses)\n",
        "    avg_accuracy = np.mean(top1_acc)*100\n",
        "    return avg_loss, avg_accuracy\n",
        "\n",
        "train_accuracies = []\n",
        "test_accuracies = []\n",
        "epsilons = []\n",
        "train_losses = []\n",
        "test_losses = []\n",
        "epochs = []\n",
        "\n",
        "# Run training loop with logging\n",
        "for epoch in range(1, EPOCHS + 1):\n",
        "    train_loss, train_acc, epsilonv = train(model, train_loader, optimizer, epoch, device)\n",
        "    test_loss, test_accuracy = test_with_ema(model, test_loader, device, ema)\n",
        "    print(f\"Epoch {epoch}: Train Loss={train_loss:.4f}, Train Acc={train_acc:.2f}%, \"\n",
        "          f\"Test Loss={test_loss:.4f}, Test Acc={test_accuracy:.2f}%, Epsilon={epsilonv:.2f}\")\n",
        "\n",
        "\n",
        "    # Log metrics for plotting\n",
        "    train_accuracies.append(train_acc)\n",
        "    test_accuracies.append(test_accuracy)\n",
        "    epsilons.append(epsilonv)\n",
        "    train_losses.append(train_loss)\n",
        "    test_losses.append(test_loss)\n",
        "    epochs.append(epoch)\n",
        "\n",
        "\n",
        "\n",
        "# Plot 1: Test Accuracy vs Epsilon\n",
        "plt.figure(figsize=(10, 6))\n",
        "plt.plot(epsilons, test_accuracies, marker='o', label=\"Test Accuracy\")\n",
        "plt.xlabel(\"Epsilon\")\n",
        "plt.ylabel(\"Test Accuracy (%)\")\n",
        "plt.title(\"Test Accuracy vs Epsilon\")\n",
        "plt.grid(True)\n",
        "plt.legend()\n",
        "plt.show()\n",
        "\n",
        "# Plot 2: Train and Test Accuracy vs Epochs\n",
        "plt.figure(figsize=(10, 6))\n",
        "plt.plot(epochs, train_accuracies, label=\"Train Accuracy\", marker='o')\n",
        "plt.plot(epochs, test_accuracies, label=\"Test Accuracy\", marker='s')\n",
        "plt.xlabel(\"Epochs\")\n",
        "plt.ylabel(\"Accuracy (%)\")\n",
        "plt.title(\"Train and Test Accuracy vs Epochs\")\n",
        "plt.grid(True)\n",
        "plt.legend()\n",
        "plt.show()\n",
        "import pandas as pd\n",
        "# Save metrics to a DataFrame for further analysis\n",
        "metrics_data = {\n",
        "    \"Epoch\": epochs,\n",
        "    \"Train Accuracy\": train_accuracies,\n",
        "    \"Test Accuracy\": test_accuracies,\n",
        "    \"Epsilon\": epsilons,\n",
        "    \"Train Loss\": train_losses,\n",
        "    \"Test Loss\": test_losses\n",
        "}\n",
        "metrics_df = pd.DataFrame(metrics_data)\n",
        "\n",
        "# Save the DataFrame to an Excel file\n",
        "output_file = \"metrics_data.xlsx\"\n",
        "metrics_df.to_excel(output_file, index=False)\n",
        "\n",
        "print(f\"Metrics data successfully saved to {output_file}.\")\n",
        "\n",
        "# Print final epsilon after training\n",
        "final_epsilon = privacy_engine.get_epsilon(DELTA)\n"
      ],
      "metadata": {
        "colab": {
          "base_uri": "https://localhost:8080/",
          "height": 1000
        },
        "id": "E_oUexqt6hP1",
        "outputId": "b2f832d3-534a-4735-daf6-fff07bb8dfbb"
      },
      "execution_count": 18,
      "outputs": [
        {
          "output_type": "stream",
          "name": "stdout",
          "text": [
            "Files already downloaded and verified\n",
            "Files already downloaded and verified\n",
            "Using sigma=2.880859375 \n"
          ]
        },
        {
          "output_type": "stream",
          "name": "stderr",
          "text": [
            " 51%|█████     | 200/391 [00:42<00:44,  4.29it/s]"
          ]
        },
        {
          "output_type": "stream",
          "name": "stdout",
          "text": [
            "(e = 0.29, d = 1e-05)\n"
          ]
        },
        {
          "output_type": "stream",
          "name": "stderr",
          "text": [
            "398it [01:23,  4.74it/s]\n"
          ]
        },
        {
          "output_type": "stream",
          "name": "stdout",
          "text": [
            "Epoch 1: Train Loss=2.1821, Train Acc=18.33%, Test Loss=2.0952, Test Acc=21.25%, Epsilon=0.29\n"
          ]
        },
        {
          "output_type": "stream",
          "name": "stderr",
          "text": [
            " 51%|█████     | 200/391 [00:42<00:45,  4.23it/s]"
          ]
        },
        {
          "output_type": "stream",
          "name": "stdout",
          "text": [
            "(e = 0.49, d = 1e-05)\n"
          ]
        },
        {
          "output_type": "stream",
          "name": "stderr",
          "text": [
            "398it [01:24,  4.74it/s]\n"
          ]
        },
        {
          "output_type": "stream",
          "name": "stdout",
          "text": [
            "Epoch 2: Train Loss=2.0587, Train Acc=22.13%, Test Loss=2.0364, Test Acc=21.61%, Epsilon=0.49\n"
          ]
        },
        {
          "output_type": "stream",
          "name": "stderr",
          "text": [
            " 51%|█████     | 200/391 [00:42<00:45,  4.22it/s]"
          ]
        },
        {
          "output_type": "stream",
          "name": "stdout",
          "text": [
            "(e = 0.63, d = 1e-05)\n"
          ]
        },
        {
          "output_type": "stream",
          "name": "stderr",
          "text": [
            "397it [01:23,  4.75it/s]\n"
          ]
        },
        {
          "output_type": "stream",
          "name": "stdout",
          "text": [
            "Epoch 3: Train Loss=2.0099, Train Acc=23.42%, Test Loss=1.9903, Test Acc=23.51%, Epsilon=0.63\n"
          ]
        },
        {
          "output_type": "stream",
          "name": "stderr",
          "text": [
            " 51%|█████     | 200/391 [00:42<00:44,  4.26it/s]"
          ]
        },
        {
          "output_type": "stream",
          "name": "stdout",
          "text": [
            "(e = 0.74, d = 1e-05)\n"
          ]
        },
        {
          "output_type": "stream",
          "name": "stderr",
          "text": [
            "397it [01:24,  4.72it/s]\n"
          ]
        },
        {
          "output_type": "stream",
          "name": "stdout",
          "text": [
            "Epoch 4: Train Loss=1.9683, Train Acc=25.39%, Test Loss=1.9459, Test Acc=26.45%, Epsilon=0.74\n"
          ]
        },
        {
          "output_type": "stream",
          "name": "stderr",
          "text": [
            " 51%|█████     | 200/391 [00:42<00:46,  4.11it/s]"
          ]
        },
        {
          "output_type": "stream",
          "name": "stdout",
          "text": [
            "(e = 0.84, d = 1e-05)\n"
          ]
        },
        {
          "output_type": "stream",
          "name": "stderr",
          "text": [
            "397it [01:24,  4.71it/s]\n"
          ]
        },
        {
          "output_type": "stream",
          "name": "stdout",
          "text": [
            "Epoch 5: Train Loss=1.9326, Train Acc=26.55%, Test Loss=1.9158, Test Acc=28.06%, Epsilon=0.84\n"
          ]
        },
        {
          "output_type": "stream",
          "name": "stderr",
          "text": [
            " 51%|█████     | 200/391 [00:42<00:45,  4.24it/s]"
          ]
        },
        {
          "output_type": "stream",
          "name": "stdout",
          "text": [
            "(e = 0.93, d = 1e-05)\n"
          ]
        },
        {
          "output_type": "stream",
          "name": "stderr",
          "text": [
            "400it [01:25,  4.70it/s]"
          ]
        },
        {
          "output_type": "stream",
          "name": "stdout",
          "text": [
            "(e = 0.97, d = 1e-05)\n"
          ]
        },
        {
          "output_type": "stream",
          "name": "stderr",
          "text": [
            "\n"
          ]
        },
        {
          "output_type": "stream",
          "name": "stdout",
          "text": [
            "Epoch 6: Train Loss=1.9070, Train Acc=27.79%, Test Loss=1.8931, Test Acc=28.22%, Epsilon=0.97\n"
          ]
        },
        {
          "output_type": "stream",
          "name": "stderr",
          "text": [
            " 51%|█████     | 200/391 [00:42<00:46,  4.15it/s]"
          ]
        },
        {
          "output_type": "stream",
          "name": "stdout",
          "text": [
            "(e = 1.01, d = 1e-05)\n"
          ]
        },
        {
          "output_type": "stream",
          "name": "stderr",
          "text": [
            "400it [01:25,  4.27it/s]"
          ]
        },
        {
          "output_type": "stream",
          "name": "stdout",
          "text": [
            "(e = 1.05, d = 1e-05)\n"
          ]
        },
        {
          "output_type": "stream",
          "name": "stderr",
          "text": [
            "401it [01:25,  4.69it/s]\n"
          ]
        },
        {
          "output_type": "stream",
          "name": "stdout",
          "text": [
            "Epoch 7: Train Loss=1.8900, Train Acc=28.40%, Test Loss=1.8756, Test Acc=29.59%, Epsilon=1.05\n"
          ]
        },
        {
          "output_type": "stream",
          "name": "stderr",
          "text": [
            " 51%|█████     | 200/391 [00:42<00:44,  4.29it/s]"
          ]
        },
        {
          "output_type": "stream",
          "name": "stdout",
          "text": [
            "(e = 1.09, d = 1e-05)\n"
          ]
        },
        {
          "output_type": "stream",
          "name": "stderr",
          "text": [
            "397it [01:24,  4.69it/s]\n"
          ]
        },
        {
          "output_type": "stream",
          "name": "stdout",
          "text": [
            "Epoch 8: Train Loss=1.8681, Train Acc=29.53%, Test Loss=1.8616, Test Acc=30.23%, Epsilon=1.09\n"
          ]
        },
        {
          "output_type": "stream",
          "name": "stderr",
          "text": [
            " 51%|█████     | 200/391 [00:42<00:46,  4.13it/s]"
          ]
        },
        {
          "output_type": "stream",
          "name": "stdout",
          "text": [
            "(e = 1.16, d = 1e-05)\n"
          ]
        },
        {
          "output_type": "stream",
          "name": "stderr",
          "text": [
            "400it [01:25,  4.69it/s]"
          ]
        },
        {
          "output_type": "stream",
          "name": "stdout",
          "text": [
            "(e = 1.20, d = 1e-05)\n"
          ]
        },
        {
          "output_type": "stream",
          "name": "stderr",
          "text": [
            "\n"
          ]
        },
        {
          "output_type": "stream",
          "name": "stdout",
          "text": [
            "Epoch 9: Train Loss=1.8569, Train Acc=30.22%, Test Loss=1.8536, Test Acc=31.01%, Epsilon=1.20\n"
          ]
        },
        {
          "output_type": "stream",
          "name": "stderr",
          "text": [
            " 51%|█████     | 200/391 [00:42<00:45,  4.21it/s]"
          ]
        },
        {
          "output_type": "stream",
          "name": "stdout",
          "text": [
            "(e = 1.23, d = 1e-05)\n"
          ]
        },
        {
          "output_type": "stream",
          "name": "stderr",
          "text": [
            "396it [01:24,  4.68it/s]\n"
          ]
        },
        {
          "output_type": "stream",
          "name": "stdout",
          "text": [
            "Epoch 10: Train Loss=1.8505, Train Acc=30.50%, Test Loss=1.8400, Test Acc=31.23%, Epsilon=1.23\n"
          ]
        },
        {
          "output_type": "stream",
          "name": "stderr",
          "text": [
            " 51%|█████     | 200/391 [00:42<00:45,  4.22it/s]"
          ]
        },
        {
          "output_type": "stream",
          "name": "stdout",
          "text": [
            "(e = 1.30, d = 1e-05)\n"
          ]
        },
        {
          "output_type": "stream",
          "name": "stderr",
          "text": [
            "399it [01:24,  4.70it/s]\n"
          ]
        },
        {
          "output_type": "stream",
          "name": "stdout",
          "text": [
            "Epoch 11: Train Loss=1.8382, Train Acc=30.90%, Test Loss=1.8362, Test Acc=31.48%, Epsilon=1.30\n"
          ]
        },
        {
          "output_type": "stream",
          "name": "stderr",
          "text": [
            " 51%|█████     | 200/391 [00:42<00:44,  4.28it/s]"
          ]
        },
        {
          "output_type": "stream",
          "name": "stdout",
          "text": [
            "(e = 1.36, d = 1e-05)\n"
          ]
        },
        {
          "output_type": "stream",
          "name": "stderr",
          "text": [
            "397it [01:24,  4.71it/s]\n"
          ]
        },
        {
          "output_type": "stream",
          "name": "stdout",
          "text": [
            "Epoch 12: Train Loss=1.8322, Train Acc=31.11%, Test Loss=1.8278, Test Acc=31.95%, Epsilon=1.36\n"
          ]
        },
        {
          "output_type": "stream",
          "name": "stderr",
          "text": [
            " 51%|█████     | 200/391 [00:42<00:45,  4.18it/s]"
          ]
        },
        {
          "output_type": "stream",
          "name": "stdout",
          "text": [
            "(e = 1.42, d = 1e-05)\n"
          ]
        },
        {
          "output_type": "stream",
          "name": "stderr",
          "text": [
            "394it [01:24,  4.67it/s]\n"
          ]
        },
        {
          "output_type": "stream",
          "name": "stdout",
          "text": [
            "Epoch 13: Train Loss=1.8229, Train Acc=31.39%, Test Loss=1.8208, Test Acc=32.01%, Epsilon=1.42\n"
          ]
        },
        {
          "output_type": "stream",
          "name": "stderr",
          "text": [
            " 51%|█████     | 200/391 [00:42<00:45,  4.17it/s]"
          ]
        },
        {
          "output_type": "stream",
          "name": "stdout",
          "text": [
            "(e = 1.48, d = 1e-05)\n"
          ]
        },
        {
          "output_type": "stream",
          "name": "stderr",
          "text": [
            "394it [01:23,  4.71it/s]\n"
          ]
        },
        {
          "output_type": "stream",
          "name": "stdout",
          "text": [
            "Epoch 14: Train Loss=1.8154, Train Acc=31.69%, Test Loss=1.8127, Test Acc=32.27%, Epsilon=1.48\n"
          ]
        },
        {
          "output_type": "stream",
          "name": "stderr",
          "text": [
            " 51%|█████     | 200/391 [00:42<00:46,  4.13it/s]"
          ]
        },
        {
          "output_type": "stream",
          "name": "stdout",
          "text": [
            "(e = 1.53, d = 1e-05)\n"
          ]
        },
        {
          "output_type": "stream",
          "name": "stderr",
          "text": [
            "397it [01:24,  4.70it/s]\n"
          ]
        },
        {
          "output_type": "stream",
          "name": "stdout",
          "text": [
            "Epoch 15: Train Loss=1.8096, Train Acc=32.19%, Test Loss=1.8053, Test Acc=32.42%, Epsilon=1.53\n"
          ]
        },
        {
          "output_type": "stream",
          "name": "stderr",
          "text": [
            " 51%|█████     | 200/391 [00:42<00:45,  4.17it/s]"
          ]
        },
        {
          "output_type": "stream",
          "name": "stdout",
          "text": [
            "(e = 1.59, d = 1e-05)\n"
          ]
        },
        {
          "output_type": "stream",
          "name": "stderr",
          "text": [
            "396it [01:24,  4.69it/s]\n"
          ]
        },
        {
          "output_type": "stream",
          "name": "stdout",
          "text": [
            "Epoch 16: Train Loss=1.8016, Train Acc=32.19%, Test Loss=1.8003, Test Acc=32.59%, Epsilon=1.59\n"
          ]
        },
        {
          "output_type": "stream",
          "name": "stderr",
          "text": [
            " 51%|█████     | 200/391 [00:42<00:45,  4.22it/s]"
          ]
        },
        {
          "output_type": "stream",
          "name": "stdout",
          "text": [
            "(e = 1.64, d = 1e-05)\n"
          ]
        },
        {
          "output_type": "stream",
          "name": "stderr",
          "text": [
            "399it [01:25,  4.69it/s]\n"
          ]
        },
        {
          "output_type": "stream",
          "name": "stdout",
          "text": [
            "Epoch 17: Train Loss=1.7957, Train Acc=32.57%, Test Loss=1.7941, Test Acc=32.74%, Epsilon=1.64\n"
          ]
        },
        {
          "output_type": "stream",
          "name": "stderr",
          "text": [
            " 51%|█████     | 200/391 [00:42<00:46,  4.08it/s]"
          ]
        },
        {
          "output_type": "stream",
          "name": "stdout",
          "text": [
            "(e = 1.70, d = 1e-05)\n"
          ]
        },
        {
          "output_type": "stream",
          "name": "stderr",
          "text": [
            "397it [01:24,  4.69it/s]\n"
          ]
        },
        {
          "output_type": "stream",
          "name": "stdout",
          "text": [
            "Epoch 18: Train Loss=1.7946, Train Acc=32.43%, Test Loss=1.7905, Test Acc=32.84%, Epsilon=1.70\n"
          ]
        },
        {
          "output_type": "stream",
          "name": "stderr",
          "text": [
            " 51%|█████     | 200/391 [00:42<00:46,  4.15it/s]"
          ]
        },
        {
          "output_type": "stream",
          "name": "stdout",
          "text": [
            "(e = 1.75, d = 1e-05)\n"
          ]
        },
        {
          "output_type": "stream",
          "name": "stderr",
          "text": [
            "398it [01:24,  4.69it/s]\n"
          ]
        },
        {
          "output_type": "stream",
          "name": "stdout",
          "text": [
            "Epoch 19: Train Loss=1.7866, Train Acc=32.59%, Test Loss=1.7821, Test Acc=32.86%, Epsilon=1.75\n"
          ]
        },
        {
          "output_type": "stream",
          "name": "stderr",
          "text": [
            " 51%|█████     | 200/391 [00:42<00:46,  4.11it/s]"
          ]
        },
        {
          "output_type": "stream",
          "name": "stdout",
          "text": [
            "(e = 1.80, d = 1e-05)\n"
          ]
        },
        {
          "output_type": "stream",
          "name": "stderr",
          "text": [
            "399it [01:25,  4.69it/s]\n"
          ]
        },
        {
          "output_type": "stream",
          "name": "stdout",
          "text": [
            "Epoch 20: Train Loss=1.7847, Train Acc=32.69%, Test Loss=1.7796, Test Acc=33.22%, Epsilon=1.80\n"
          ]
        },
        {
          "output_type": "stream",
          "name": "stderr",
          "text": [
            " 51%|█████     | 200/391 [00:42<00:45,  4.20it/s]"
          ]
        },
        {
          "output_type": "stream",
          "name": "stdout",
          "text": [
            "(e = 1.85, d = 1e-05)\n"
          ]
        },
        {
          "output_type": "stream",
          "name": "stderr",
          "text": [
            "397it [01:24,  4.69it/s]\n"
          ]
        },
        {
          "output_type": "stream",
          "name": "stdout",
          "text": [
            "Epoch 21: Train Loss=1.7776, Train Acc=32.81%, Test Loss=1.7759, Test Acc=33.43%, Epsilon=1.85\n"
          ]
        },
        {
          "output_type": "stream",
          "name": "stderr",
          "text": [
            " 51%|█████     | 200/391 [00:42<00:46,  4.15it/s]"
          ]
        },
        {
          "output_type": "stream",
          "name": "stdout",
          "text": [
            "(e = 1.89, d = 1e-05)\n"
          ]
        },
        {
          "output_type": "stream",
          "name": "stderr",
          "text": [
            "399it [01:25,  4.68it/s]\n"
          ]
        },
        {
          "output_type": "stream",
          "name": "stdout",
          "text": [
            "Epoch 22: Train Loss=1.7704, Train Acc=33.30%, Test Loss=1.7734, Test Acc=33.63%, Epsilon=1.89\n"
          ]
        },
        {
          "output_type": "stream",
          "name": "stderr",
          "text": [
            " 51%|█████     | 200/391 [00:42<00:46,  4.07it/s]"
          ]
        },
        {
          "output_type": "stream",
          "name": "stdout",
          "text": [
            "(e = 1.94, d = 1e-05)\n"
          ]
        },
        {
          "output_type": "stream",
          "name": "stderr",
          "text": [
            "399it [01:25,  4.68it/s]\n"
          ]
        },
        {
          "output_type": "stream",
          "name": "stdout",
          "text": [
            "Epoch 23: Train Loss=1.7707, Train Acc=33.14%, Test Loss=1.7687, Test Acc=33.68%, Epsilon=1.94\n"
          ]
        },
        {
          "output_type": "stream",
          "name": "stderr",
          "text": [
            " 51%|█████     | 200/391 [00:42<00:45,  4.15it/s]"
          ]
        },
        {
          "output_type": "stream",
          "name": "stdout",
          "text": [
            "(e = 1.99, d = 1e-05)\n"
          ]
        },
        {
          "output_type": "stream",
          "name": "stderr",
          "text": [
            "397it [01:25,  4.67it/s]\n"
          ]
        },
        {
          "output_type": "stream",
          "name": "stdout",
          "text": [
            "Epoch 24: Train Loss=1.7698, Train Acc=33.18%, Test Loss=1.7666, Test Acc=33.96%, Epsilon=1.99\n"
          ]
        },
        {
          "output_type": "stream",
          "name": "stderr",
          "text": [
            " 51%|█████     | 200/391 [00:42<00:47,  4.05it/s]"
          ]
        },
        {
          "output_type": "stream",
          "name": "stdout",
          "text": [
            "(e = 2.03, d = 1e-05)\n"
          ]
        },
        {
          "output_type": "stream",
          "name": "stderr",
          "text": [
            "399it [01:25,  4.69it/s]\n"
          ]
        },
        {
          "output_type": "stream",
          "name": "stdout",
          "text": [
            "Epoch 25: Train Loss=1.7648, Train Acc=33.66%, Test Loss=1.7635, Test Acc=34.38%, Epsilon=2.03\n"
          ]
        },
        {
          "output_type": "stream",
          "name": "stderr",
          "text": [
            " 51%|█████     | 200/391 [00:42<00:46,  4.12it/s]"
          ]
        },
        {
          "output_type": "stream",
          "name": "stdout",
          "text": [
            "(e = 2.07, d = 1e-05)\n"
          ]
        },
        {
          "output_type": "stream",
          "name": "stderr",
          "text": [
            "399it [01:24,  4.70it/s]\n"
          ]
        },
        {
          "output_type": "stream",
          "name": "stdout",
          "text": [
            "Epoch 26: Train Loss=1.7604, Train Acc=34.01%, Test Loss=1.7591, Test Acc=34.35%, Epsilon=2.07\n"
          ]
        },
        {
          "output_type": "stream",
          "name": "stderr",
          "text": [
            " 51%|█████     | 200/391 [00:42<00:45,  4.16it/s]"
          ]
        },
        {
          "output_type": "stream",
          "name": "stdout",
          "text": [
            "(e = 2.12, d = 1e-05)\n"
          ]
        },
        {
          "output_type": "stream",
          "name": "stderr",
          "text": [
            "395it [01:24,  4.69it/s]\n"
          ]
        },
        {
          "output_type": "stream",
          "name": "stdout",
          "text": [
            "Epoch 27: Train Loss=1.7548, Train Acc=34.11%, Test Loss=1.7536, Test Acc=34.52%, Epsilon=2.12\n"
          ]
        },
        {
          "output_type": "stream",
          "name": "stderr",
          "text": [
            " 51%|█████     | 200/391 [00:42<00:48,  3.97it/s]"
          ]
        },
        {
          "output_type": "stream",
          "name": "stdout",
          "text": [
            "(e = 2.16, d = 1e-05)\n"
          ]
        },
        {
          "output_type": "stream",
          "name": "stderr",
          "text": [
            "400it [01:25,  4.68it/s]"
          ]
        },
        {
          "output_type": "stream",
          "name": "stdout",
          "text": [
            "(e = 2.18, d = 1e-05)\n"
          ]
        },
        {
          "output_type": "stream",
          "name": "stderr",
          "text": [
            "\n"
          ]
        },
        {
          "output_type": "stream",
          "name": "stdout",
          "text": [
            "Epoch 28: Train Loss=1.7617, Train Acc=33.86%, Test Loss=1.7510, Test Acc=34.48%, Epsilon=2.18\n"
          ]
        },
        {
          "output_type": "stream",
          "name": "stderr",
          "text": [
            " 51%|█████     | 200/391 [00:42<00:46,  4.07it/s]"
          ]
        },
        {
          "output_type": "stream",
          "name": "stdout",
          "text": [
            "(e = 2.20, d = 1e-05)\n"
          ]
        },
        {
          "output_type": "stream",
          "name": "stderr",
          "text": [
            "395it [01:24,  4.70it/s]\n"
          ]
        },
        {
          "output_type": "stream",
          "name": "stdout",
          "text": [
            "Epoch 29: Train Loss=1.7532, Train Acc=34.41%, Test Loss=1.7474, Test Acc=34.70%, Epsilon=2.20\n"
          ]
        },
        {
          "output_type": "stream",
          "name": "stderr",
          "text": [
            " 51%|█████     | 200/391 [00:42<00:47,  4.02it/s]"
          ]
        },
        {
          "output_type": "stream",
          "name": "stdout",
          "text": [
            "(e = 2.24, d = 1e-05)\n"
          ]
        },
        {
          "output_type": "stream",
          "name": "stderr",
          "text": [
            "393it [01:23,  4.68it/s]\n"
          ]
        },
        {
          "output_type": "stream",
          "name": "stdout",
          "text": [
            "Epoch 30: Train Loss=1.7546, Train Acc=33.79%, Test Loss=1.7462, Test Acc=34.68%, Epsilon=2.24\n"
          ]
        },
        {
          "output_type": "stream",
          "name": "stderr",
          "text": [
            " 51%|█████     | 200/391 [00:42<00:46,  4.09it/s]"
          ]
        },
        {
          "output_type": "stream",
          "name": "stdout",
          "text": [
            "(e = 2.29, d = 1e-05)\n"
          ]
        },
        {
          "output_type": "stream",
          "name": "stderr",
          "text": [
            "397it [01:24,  4.70it/s]\n"
          ]
        },
        {
          "output_type": "stream",
          "name": "stdout",
          "text": [
            "Epoch 31: Train Loss=1.7435, Train Acc=34.36%, Test Loss=1.7423, Test Acc=34.93%, Epsilon=2.29\n"
          ]
        },
        {
          "output_type": "stream",
          "name": "stderr",
          "text": [
            " 51%|█████     | 200/391 [00:42<00:47,  4.05it/s]"
          ]
        },
        {
          "output_type": "stream",
          "name": "stdout",
          "text": [
            "(e = 2.33, d = 1e-05)\n"
          ]
        },
        {
          "output_type": "stream",
          "name": "stderr",
          "text": [
            "397it [01:24,  4.69it/s]\n"
          ]
        },
        {
          "output_type": "stream",
          "name": "stdout",
          "text": [
            "Epoch 32: Train Loss=1.7418, Train Acc=34.59%, Test Loss=1.7402, Test Acc=35.07%, Epsilon=2.33\n"
          ]
        },
        {
          "output_type": "stream",
          "name": "stderr",
          "text": [
            " 51%|█████     | 200/391 [00:42<00:47,  4.02it/s]"
          ]
        },
        {
          "output_type": "stream",
          "name": "stdout",
          "text": [
            "(e = 2.37, d = 1e-05)\n"
          ]
        },
        {
          "output_type": "stream",
          "name": "stderr",
          "text": [
            "399it [01:24,  4.71it/s]\n"
          ]
        },
        {
          "output_type": "stream",
          "name": "stdout",
          "text": [
            "Epoch 33: Train Loss=1.7390, Train Acc=34.68%, Test Loss=1.7363, Test Acc=35.32%, Epsilon=2.37\n"
          ]
        },
        {
          "output_type": "stream",
          "name": "stderr",
          "text": [
            " 51%|█████     | 200/391 [00:42<00:46,  4.10it/s]"
          ]
        },
        {
          "output_type": "stream",
          "name": "stdout",
          "text": [
            "(e = 2.40, d = 1e-05)\n"
          ]
        },
        {
          "output_type": "stream",
          "name": "stderr",
          "text": [
            "396it [01:24,  4.69it/s]\n"
          ]
        },
        {
          "output_type": "stream",
          "name": "stdout",
          "text": [
            "Epoch 34: Train Loss=1.7364, Train Acc=34.97%, Test Loss=1.7338, Test Acc=35.30%, Epsilon=2.40\n"
          ]
        },
        {
          "output_type": "stream",
          "name": "stderr",
          "text": [
            " 51%|█████     | 200/391 [00:42<00:45,  4.16it/s]"
          ]
        },
        {
          "output_type": "stream",
          "name": "stdout",
          "text": [
            "(e = 2.44, d = 1e-05)\n"
          ]
        },
        {
          "output_type": "stream",
          "name": "stderr",
          "text": [
            "399it [01:24,  4.71it/s]\n"
          ]
        },
        {
          "output_type": "stream",
          "name": "stdout",
          "text": [
            "Epoch 35: Train Loss=1.7378, Train Acc=35.03%, Test Loss=1.7326, Test Acc=35.40%, Epsilon=2.44\n"
          ]
        },
        {
          "output_type": "stream",
          "name": "stderr",
          "text": [
            " 51%|█████     | 200/391 [00:42<00:45,  4.18it/s]"
          ]
        },
        {
          "output_type": "stream",
          "name": "stdout",
          "text": [
            "(e = 2.48, d = 1e-05)\n"
          ]
        },
        {
          "output_type": "stream",
          "name": "stderr",
          "text": [
            "399it [01:25,  4.69it/s]\n"
          ]
        },
        {
          "output_type": "stream",
          "name": "stdout",
          "text": [
            "Epoch 36: Train Loss=1.7286, Train Acc=34.86%, Test Loss=1.7293, Test Acc=35.58%, Epsilon=2.48\n"
          ]
        },
        {
          "output_type": "stream",
          "name": "stderr",
          "text": [
            " 51%|█████     | 200/391 [00:42<00:48,  3.91it/s]"
          ]
        },
        {
          "output_type": "stream",
          "name": "stdout",
          "text": [
            "(e = 2.52, d = 1e-05)\n"
          ]
        },
        {
          "output_type": "stream",
          "name": "stderr",
          "text": [
            "398it [01:24,  4.69it/s]\n"
          ]
        },
        {
          "output_type": "stream",
          "name": "stdout",
          "text": [
            "Epoch 37: Train Loss=1.7289, Train Acc=35.19%, Test Loss=1.7284, Test Acc=35.59%, Epsilon=2.52\n"
          ]
        },
        {
          "output_type": "stream",
          "name": "stderr",
          "text": [
            " 51%|█████     | 200/391 [00:42<00:48,  3.92it/s]"
          ]
        },
        {
          "output_type": "stream",
          "name": "stdout",
          "text": [
            "(e = 2.56, d = 1e-05)\n"
          ]
        },
        {
          "output_type": "stream",
          "name": "stderr",
          "text": [
            "397it [01:24,  4.72it/s]\n"
          ]
        },
        {
          "output_type": "stream",
          "name": "stdout",
          "text": [
            "Epoch 38: Train Loss=1.7218, Train Acc=35.37%, Test Loss=1.7271, Test Acc=35.69%, Epsilon=2.56\n"
          ]
        },
        {
          "output_type": "stream",
          "name": "stderr",
          "text": [
            " 51%|█████     | 200/391 [00:42<00:47,  4.00it/s]"
          ]
        },
        {
          "output_type": "stream",
          "name": "stdout",
          "text": [
            "(e = 2.59, d = 1e-05)\n"
          ]
        },
        {
          "output_type": "stream",
          "name": "stderr",
          "text": [
            "394it [01:23,  4.70it/s]\n"
          ]
        },
        {
          "output_type": "stream",
          "name": "stdout",
          "text": [
            "Epoch 39: Train Loss=1.7165, Train Acc=35.83%, Test Loss=1.7235, Test Acc=35.78%, Epsilon=2.59\n"
          ]
        },
        {
          "output_type": "stream",
          "name": "stderr",
          "text": [
            " 51%|█████     | 200/391 [00:43<00:47,  4.06it/s]"
          ]
        },
        {
          "output_type": "stream",
          "name": "stdout",
          "text": [
            "(e = 2.63, d = 1e-05)\n"
          ]
        },
        {
          "output_type": "stream",
          "name": "stderr",
          "text": [
            "400it [01:25,  4.09it/s]"
          ]
        },
        {
          "output_type": "stream",
          "name": "stdout",
          "text": [
            "(e = 2.65, d = 1e-05)\n"
          ]
        },
        {
          "output_type": "stream",
          "name": "stderr",
          "text": [
            "401it [01:26,  4.65it/s]\n"
          ]
        },
        {
          "output_type": "stream",
          "name": "stdout",
          "text": [
            "Epoch 40: Train Loss=1.7198, Train Acc=35.87%, Test Loss=1.7191, Test Acc=36.13%, Epsilon=2.65\n"
          ]
        },
        {
          "output_type": "stream",
          "name": "stderr",
          "text": [
            " 51%|█████     | 200/391 [00:42<00:48,  3.93it/s]"
          ]
        },
        {
          "output_type": "stream",
          "name": "stdout",
          "text": [
            "(e = 2.67, d = 1e-05)\n"
          ]
        },
        {
          "output_type": "stream",
          "name": "stderr",
          "text": [
            "396it [01:24,  4.71it/s]\n"
          ]
        },
        {
          "output_type": "stream",
          "name": "stdout",
          "text": [
            "Epoch 41: Train Loss=1.7183, Train Acc=35.88%, Test Loss=1.7187, Test Acc=36.03%, Epsilon=2.67\n"
          ]
        },
        {
          "output_type": "stream",
          "name": "stderr",
          "text": [
            " 51%|█████     | 200/391 [00:42<00:50,  3.75it/s]"
          ]
        },
        {
          "output_type": "stream",
          "name": "stdout",
          "text": [
            "(e = 2.70, d = 1e-05)\n"
          ]
        },
        {
          "output_type": "stream",
          "name": "stderr",
          "text": [
            "395it [01:24,  4.69it/s]\n"
          ]
        },
        {
          "output_type": "stream",
          "name": "stdout",
          "text": [
            "Epoch 42: Train Loss=1.7260, Train Acc=35.09%, Test Loss=1.7170, Test Acc=36.30%, Epsilon=2.70\n"
          ]
        },
        {
          "output_type": "stream",
          "name": "stderr",
          "text": [
            " 51%|█████     | 200/391 [00:42<00:47,  4.06it/s]"
          ]
        },
        {
          "output_type": "stream",
          "name": "stdout",
          "text": [
            "(e = 2.74, d = 1e-05)\n"
          ]
        },
        {
          "output_type": "stream",
          "name": "stderr",
          "text": [
            "393it [01:23,  4.69it/s]\n"
          ]
        },
        {
          "output_type": "stream",
          "name": "stdout",
          "text": [
            "Epoch 43: Train Loss=1.7115, Train Acc=35.88%, Test Loss=1.7124, Test Acc=36.36%, Epsilon=2.74\n"
          ]
        },
        {
          "output_type": "stream",
          "name": "stderr",
          "text": [
            " 51%|█████     | 200/391 [00:42<00:49,  3.90it/s]"
          ]
        },
        {
          "output_type": "stream",
          "name": "stdout",
          "text": [
            "(e = 2.77, d = 1e-05)\n"
          ]
        },
        {
          "output_type": "stream",
          "name": "stderr",
          "text": [
            "396it [01:24,  4.70it/s]\n"
          ]
        },
        {
          "output_type": "stream",
          "name": "stdout",
          "text": [
            "Epoch 44: Train Loss=1.7175, Train Acc=35.84%, Test Loss=1.7126, Test Acc=36.63%, Epsilon=2.77\n"
          ]
        },
        {
          "output_type": "stream",
          "name": "stderr",
          "text": [
            " 51%|█████     | 200/391 [00:42<00:46,  4.10it/s]"
          ]
        },
        {
          "output_type": "stream",
          "name": "stdout",
          "text": [
            "(e = 2.81, d = 1e-05)\n"
          ]
        },
        {
          "output_type": "stream",
          "name": "stderr",
          "text": [
            "396it [01:24,  4.69it/s]\n"
          ]
        },
        {
          "output_type": "stream",
          "name": "stdout",
          "text": [
            "Epoch 45: Train Loss=1.7066, Train Acc=36.22%, Test Loss=1.7094, Test Acc=36.57%, Epsilon=2.81\n"
          ]
        },
        {
          "output_type": "stream",
          "name": "stderr",
          "text": [
            " 51%|█████     | 200/391 [00:42<00:48,  3.94it/s]"
          ]
        },
        {
          "output_type": "stream",
          "name": "stdout",
          "text": [
            "(e = 2.84, d = 1e-05)\n"
          ]
        },
        {
          "output_type": "stream",
          "name": "stderr",
          "text": [
            "395it [01:24,  4.70it/s]\n"
          ]
        },
        {
          "output_type": "stream",
          "name": "stdout",
          "text": [
            "Epoch 46: Train Loss=1.7086, Train Acc=36.28%, Test Loss=1.7064, Test Acc=36.89%, Epsilon=2.84\n"
          ]
        },
        {
          "output_type": "stream",
          "name": "stderr",
          "text": [
            " 51%|█████     | 200/391 [00:42<00:48,  3.94it/s]"
          ]
        },
        {
          "output_type": "stream",
          "name": "stdout",
          "text": [
            "(e = 2.88, d = 1e-05)\n"
          ]
        },
        {
          "output_type": "stream",
          "name": "stderr",
          "text": [
            "395it [01:24,  4.67it/s]\n"
          ]
        },
        {
          "output_type": "stream",
          "name": "stdout",
          "text": [
            "Epoch 47: Train Loss=1.7050, Train Acc=36.32%, Test Loss=1.7049, Test Acc=36.88%, Epsilon=2.88\n"
          ]
        },
        {
          "output_type": "stream",
          "name": "stderr",
          "text": [
            " 51%|█████     | 200/391 [00:42<00:47,  4.06it/s]"
          ]
        },
        {
          "output_type": "stream",
          "name": "stdout",
          "text": [
            "(e = 2.91, d = 1e-05)\n"
          ]
        },
        {
          "output_type": "stream",
          "name": "stderr",
          "text": [
            "398it [01:24,  4.71it/s]\n"
          ]
        },
        {
          "output_type": "stream",
          "name": "stdout",
          "text": [
            "Epoch 48: Train Loss=1.7091, Train Acc=35.97%, Test Loss=1.7021, Test Acc=37.11%, Epsilon=2.91\n"
          ]
        },
        {
          "output_type": "stream",
          "name": "stderr",
          "text": [
            " 51%|█████     | 200/391 [00:42<00:48,  3.95it/s]"
          ]
        },
        {
          "output_type": "stream",
          "name": "stdout",
          "text": [
            "(e = 2.95, d = 1e-05)\n"
          ]
        },
        {
          "output_type": "stream",
          "name": "stderr",
          "text": [
            "398it [01:24,  4.70it/s]\n"
          ]
        },
        {
          "output_type": "stream",
          "name": "stdout",
          "text": [
            "Epoch 49: Train Loss=1.7018, Train Acc=36.57%, Test Loss=1.6993, Test Acc=37.27%, Epsilon=2.95\n"
          ]
        },
        {
          "output_type": "stream",
          "name": "stderr",
          "text": [
            " 51%|█████     | 200/391 [00:42<00:48,  3.95it/s]"
          ]
        },
        {
          "output_type": "stream",
          "name": "stdout",
          "text": [
            "(e = 2.98, d = 1e-05)\n"
          ]
        },
        {
          "output_type": "stream",
          "name": "stderr",
          "text": [
            "398it [01:24,  4.70it/s]\n"
          ]
        },
        {
          "output_type": "stream",
          "name": "stdout",
          "text": [
            "Epoch 50: Train Loss=1.6907, Train Acc=37.25%, Test Loss=1.6983, Test Acc=37.33%, Epsilon=2.98\n"
          ]
        },
        {
          "output_type": "display_data",
          "data": {
            "text/plain": [
              "<Figure size 1000x600 with 1 Axes>"
            ],
            "image/png": "[encoded data removed]"
          },
          "metadata": {}
        },
        {
          "output_type": "display_data",
          "data": {
            "text/plain": [
              "<Figure size 1000x600 with 1 Axes>"
            ],
            "image/png": "[encoded data removed]"
          },
          "metadata": {}
        },
        {
          "output_type": "stream",
          "name": "stdout",
          "text": [
            "Metrics data successfully saved to metrics_data.xlsx.\n"
          ]
        }
      ]
    }
  ]
}

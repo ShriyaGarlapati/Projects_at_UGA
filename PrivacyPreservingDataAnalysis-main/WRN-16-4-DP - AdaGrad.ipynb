{
  "nbformat": 4,
  "nbformat_minor": 0,
  "metadata": {
    "colab": {
      "provenance": [],
      "machine_shape": "hm",
      "gpuType": "A100",
      "authorship_tag": "ABX9TyNDPkhD99pJqt/DD+g8Y9X7",
      "include_colab_link": true
    },
    "kernelspec": {
      "name": "python3",
      "display_name": "Python 3"
    },
    "language_info": {
      "name": "python"
    },
    "accelerator": "GPU"
  },
  "cells": [
    {
      "cell_type": "markdown",
      "metadata": {
        "id": "view-in-github",
        "colab_type": "text"
      },
      "source": [
        "<a href=\"https://colab.research.google.com/github/HARIPRIYA02/DPOptimizers---HS/blob/main/Untitled34.ipynb\" target=\"_parent\"><img src=\"https://colab.research.google.com/assets/colab-badge.svg\" alt=\"Open In Colab\"/></a>"
      ]
    },
    {
      "cell_type": "code",
      "execution_count": 1,
      "metadata": {
        "colab": {
          "base_uri": "https://localhost:8080/"
        },
        "id": "3JjKVbYv6K-q",
        "outputId": "2bfae261-f806-4720-95bc-0faf55cfd6ae"
      },
      "outputs": [
        {
          "output_type": "stream",
          "name": "stdout",
          "text": [
            "Collecting opacus\n",
            "  Downloading opacus-1.5.2-py3-none-any.whl.metadata (7.9 kB)\n",
            "Requirement already satisfied: numpy<2.0,>=1.15 in /usr/local/lib/python3.10/dist-packages (from opacus) (1.26.4)\n",
            "Requirement already satisfied: torch>=2.0 in /usr/local/lib/python3.10/dist-packages (from opacus) (2.5.1+cu121)\n",
            "Requirement already satisfied: scipy>=1.2 in /usr/local/lib/python3.10/dist-packages (from opacus) (1.13.1)\n",
            "Requirement already satisfied: opt-einsum>=3.3.0 in /usr/local/lib/python3.10/dist-packages (from opacus) (3.4.0)\n",
            "Requirement already satisfied: filelock in /usr/local/lib/python3.10/dist-packages (from torch>=2.0->opacus) (3.16.1)\n",
            "Requirement already satisfied: typing-extensions>=4.8.0 in /usr/local/lib/python3.10/dist-packages (from torch>=2.0->opacus) (4.12.2)\n",
            "Requirement already satisfied: networkx in /usr/local/lib/python3.10/dist-packages (from torch>=2.0->opacus) (3.4.2)\n",
            "Requirement already satisfied: jinja2 in /usr/local/lib/python3.10/dist-packages (from torch>=2.0->opacus) (3.1.4)\n",
            "Requirement already satisfied: fsspec in /usr/local/lib/python3.10/dist-packages (from torch>=2.0->opacus) (2024.10.0)\n",
            "Requirement already satisfied: sympy==1.13.1 in /usr/local/lib/python3.10/dist-packages (from torch>=2.0->opacus) (1.13.1)\n",
            "Requirement already satisfied: mpmath<1.4,>=1.1.0 in /usr/local/lib/python3.10/dist-packages (from sympy==1.13.1->torch>=2.0->opacus) (1.3.0)\n",
            "Requirement already satisfied: MarkupSafe>=2.0 in /usr/local/lib/python3.10/dist-packages (from jinja2->torch>=2.0->opacus) (3.0.2)\n",
            "Downloading opacus-1.5.2-py3-none-any.whl (239 kB)\n",
            "\u001b[?25l   \u001b[90m━━━━━━━━━━━━━━━━━━━━━━━━━━━━━━━━━━━━━━━━\u001b[0m \u001b[32m0.0/239.9 kB\u001b[0m \u001b[31m?\u001b[0m eta \u001b[36m-:--:--\u001b[0m\r\u001b[2K   \u001b[91m━━━━━━━━━━━━━━━━━━━━━━━━━\u001b[0m\u001b[91m╸\u001b[0m\u001b[90m━━━━━━━━━━━━━━\u001b[0m \u001b[32m153.6/239.9 kB\u001b[0m \u001b[31m4.3 MB/s\u001b[0m eta \u001b[36m0:00:01\u001b[0m\r\u001b[2K   \u001b[90m━━━━━━━━━━━━━━━━━━━━━━━━━━━━━━━━━━━━━━━━\u001b[0m \u001b[32m239.9/239.9 kB\u001b[0m \u001b[31m4.2 MB/s\u001b[0m eta \u001b[36m0:00:00\u001b[0m\n",
            "\u001b[?25hInstalling collected packages: opacus\n",
            "Successfully installed opacus-1.5.2\n"
          ]
        }
      ],
      "source": [
        "!pip install opacus"
      ]
    },
    {
      "cell_type": "code",
      "source": [
        "import torch\n",
        "import torchvision\n",
        "import torchvision.transforms as transforms\n",
        "from torchvision.datasets import CIFAR10\n",
        "import torch.nn as nn\n",
        "import torch.optim as optim\n",
        "from opacus import PrivacyEngine\n",
        "from opacus.utils.batch_memory_manager import BatchMemoryManager\n",
        "from torchvision.transforms.functional import InterpolationMode\n",
        "from opacus.validators import ModuleValidator\n",
        "from tqdm import tqdm\n",
        "import numpy as np\n",
        "import argparse\n",
        "import matplotlib.pyplot as plt\n",
        "import warnings\n",
        "warnings.simplefilter(\"ignore\")\n",
        "\n",
        "# Hyperparameters\n",
        "MAX_GRAD_NORM = 1.5\n",
        "EPSILON = 3.0\n",
        "DELTA = 1e-5\n",
        "NOISE_MULTIPLIER = 1.1\n",
        "EPOCHS = 50\n",
        "LR = 8e-4\n",
        "BATCH_SIZE = 4096\n",
        "MAX_PHYSICAL_BATCH_SIZE = 128\n",
        "CIFAR10_MEAN = [0.4914, 0.4822, 0.4465]\n",
        "CIFAR10_STD_DEV = [0.2023, 0.1994, 0.2010]\n",
        "bound=1.0\n",
        "NUM_GROUPS = 40\n",
        "\n",
        "transform = transforms.Compose([\n",
        "    transforms.ToTensor(),\n",
        "    transforms.Normalize(CIFAR10_MEAN, CIFAR10_STD_DEV)\n",
        "\n",
        "])\n",
        "\n",
        "# Load datasets\n",
        "DATA_ROOT = \"~/.local/data\"\n",
        "train_dataset = CIFAR10(root=DATA_ROOT, train=True, download=True, transform=transform)\n",
        "test_dataset = CIFAR10(root=DATA_ROOT, train=False, download=True, transform=transform)\n",
        "\n",
        "train_loader = torch.utils.data.DataLoader(train_dataset, batch_size=BATCH_SIZE, shuffle=True)\n",
        "test_loader = torch.utils.data.DataLoader(test_dataset, batch_size=BATCH_SIZE, shuffle=False)\n",
        "\n",
        "# Define the weight-standardized convolutional layer\n",
        "class WSConv2d(nn.Conv2d):\n",
        "    def forward(self, x):\n",
        "        mean = self.weight.mean(dim=[1, 2, 3], keepdim=True)\n",
        "        std = self.weight.std(dim=[1, 2, 3], keepdim=True) + 1e-5\n",
        "        weight = (self.weight - mean) / std\n",
        "        return nn.functional.conv2d(x, weight, self.bias, self.stride, self.padding, self.dilation, self.groups)\n",
        "class EMA:\n",
        "    def __init__(self, model, decay=0.95):\n",
        "        self.decay = decay\n",
        "        self.shadow = {}\n",
        "        self.backup = {}\n",
        "        for name, param in model.named_parameters():\n",
        "            if param.requires_grad:\n",
        "                self.shadow[name] = param.data.clone()\n",
        "\n",
        "    def update(self, model):\n",
        "        for name, param in model.named_parameters():\n",
        "            if param.requires_grad:\n",
        "                assert name in self.shadow\n",
        "                new_average = self.decay * self.shadow[name] + (1.0 - self.decay) * param.data\n",
        "                self.shadow[name] = new_average.clone()\n",
        "\n",
        "    def apply_shadow(self, model):\n",
        "        for name, param in model.named_parameters():\n",
        "            if param.requires_grad:\n",
        "                assert name in self.shadow\n",
        "                self.backup[name] = param.data.clone()\n",
        "                param.data = self.shadow[name]\n",
        "\n",
        "    def restore(self, model):\n",
        "        for name, param in model.named_parameters():\n",
        "            if param.requires_grad:\n",
        "                assert name in self.backup\n",
        "                param.data = self.backup[name]\n",
        "        self.backup = {}\n",
        "\n",
        "# Define ResNet-20 with Group Normalization and Weight Standardization\n",
        "class BasicBlockGN(nn.Module):\n",
        "    def __init__(self, in_planes, planes, stride=1, num_groups=2):\n",
        "        super(BasicBlockGN, self).__init__()\n",
        "        self.conv1 = WSConv2d(in_planes, planes, kernel_size=3, stride=stride, padding=1, bias=False)\n",
        "        self.gn1 = nn.GroupNorm(num_groups, planes)\n",
        "        self.conv2 = WSConv2d(planes, planes, kernel_size=3, stride=1, padding=1, bias=False)\n",
        "        self.gn2 = nn.GroupNorm(num_groups, planes)\n",
        "        self.shortcut = nn.Sequential()\n",
        "        if stride != 1 or in_planes != planes:\n",
        "            self.shortcut = nn.Sequential(\n",
        "                WSConv2d(in_planes, planes, kernel_size=1, stride=stride, bias=False),\n",
        "                nn.GroupNorm(num_groups, planes)\n",
        "            )\n",
        "\n",
        "    def forward(self, x):\n",
        "        out = nn.SiLU()(self.gn1(self.conv1(x)))\n",
        "        out = self.gn2(self.conv2(out))\n",
        "        out += self.shortcut(x)\n",
        "        out = nn.SiLU()(out)\n",
        "        return out\n",
        "\n",
        "class ResNet20GN(nn.Module):\n",
        "    def __init__(self, num_classes=10, num_groups=2):\n",
        "        super(ResNet20GN, self).__init__()\n",
        "        self.in_planes = 16\n",
        "        self.conv1 = WSConv2d(3, 16, kernel_size=3, stride=1, padding=1, bias=False)\n",
        "        self.gn1 = nn.GroupNorm(num_groups, 16)\n",
        "\n",
        "        self.layer1 = self._make_layer(BasicBlockGN, 32, 3, stride=1, num_groups=num_groups)\n",
        "        self.layer2 = self._make_layer(BasicBlockGN, 64, 3, stride=2, num_groups=num_groups)\n",
        "        self.layer3 = self._make_layer(BasicBlockGN, 128, 3, stride=2, num_groups=num_groups)\n",
        "        self.linear = nn.Linear(128, num_classes)\n",
        "\n",
        "    def _make_layer(self, block, planes, num_blocks, stride, num_groups):\n",
        "        strides = [stride] + [1] * (num_blocks - 1)\n",
        "        layers = []\n",
        "        for stride in strides:\n",
        "            layers.append(block(self.in_planes, planes, stride, num_groups))\n",
        "            self.in_planes = planes\n",
        "        return nn.Sequential(*layers)\n",
        "\n",
        "    def forward(self, x):\n",
        "        out = nn.SiLU()(self.gn1(self.conv1(x)))\n",
        "        out = self.layer1(out)\n",
        "        out = self.layer2(out)\n",
        "        out = self.layer3(out)\n",
        "        out = nn.AvgPool2d(8)(out)\n",
        "        out = out.view(out.size(0), -1)\n",
        "        out = self.linear(out)\n",
        "        return out\n",
        "\n",
        "class WideBasicGN(nn.Module):\n",
        "    def __init__(self, in_planes, planes, dropout_rate, stride=1, num_groups=2):\n",
        "        super(WideBasicGN, self).__init__()\n",
        "        self.conv1 = WSConv2d(in_planes, planes, kernel_size=3, padding=1, bias=False)\n",
        "        self.gn1 = nn.GroupNorm(num_groups, planes)\n",
        "        self.dropout = nn.Dropout(p=dropout_rate)\n",
        "        self.conv2 = WSConv2d(planes, planes, kernel_size=3, stride=stride, padding=1, bias=False)\n",
        "        self.gn2 = nn.GroupNorm(num_groups, planes)\n",
        "        self.shortcut = nn.Sequential()\n",
        "        if stride != 1 or in_planes != planes:\n",
        "            self.shortcut = nn.Sequential(\n",
        "                WSConv2d(in_planes, planes, kernel_size=1, stride=stride, bias=False),\n",
        "                nn.GroupNorm(num_groups, planes)\n",
        "            )\n",
        "\n",
        "    def forward(self, x):\n",
        "        out = nn.SiLU()(self.gn1(self.conv1(x)))\n",
        "        out = self.dropout(out)\n",
        "        out = self.gn2(self.conv2(out))\n",
        "        out += self.shortcut(x)\n",
        "        out = nn.SiLU()(out)\n",
        "        return out\n",
        "class WRN16_4_GN(nn.Module):\n",
        "    def __init__(self, num_classes=10, dropout_rate=0.3, num_groups=2):\n",
        "        super(WRN16_4_GN, self).__init__()\n",
        "        self.in_planes = 16\n",
        "        self.conv1 = WSConv2d(3, 16, kernel_size=3, stride=1, padding=1, bias=False)\n",
        "        self.gn1 = nn.GroupNorm(num_groups, 16)\n",
        "        self.layer1 = self._make_layer(WideBasicGN, 64, 3, dropout_rate, stride=1, num_groups=num_groups)\n",
        "        self.layer2 = self._make_layer(WideBasicGN, 128, 3, dropout_rate, stride=2, num_groups=num_groups)\n",
        "        self.layer3 = self._make_layer(WideBasicGN, 256, 3, dropout_rate, stride=2, num_groups=num_groups)\n",
        "        self.linear = nn.Linear(256, num_classes)\n",
        "\n",
        "    def _make_layer(self, block, planes, num_blocks, dropout_rate, stride, num_groups):\n",
        "        strides = [stride] + [1] * (num_blocks - 1)\n",
        "        layers = []\n",
        "        for stride in strides:\n",
        "            layers.append(block(self.in_planes, planes, dropout_rate, stride, num_groups))\n",
        "            self.in_planes = planes\n",
        "        return nn.Sequential(*layers)\n",
        "\n",
        "    def forward(self, x):\n",
        "        out = nn.SiLU()(self.gn1(self.conv1(x)))\n",
        "        out = self.layer1(out)\n",
        "        out = self.layer2(out)\n",
        "        out = self.layer3(out)\n",
        "        out = nn.AvgPool2d(8)(out)\n",
        "        out = out.view(out.size(0), -1)\n",
        "        out = self.linear(out)\n",
        "        return out\n",
        "\n",
        "#model = ResNet20GN(num_classes=10)\n",
        "model = WRN16_4_GN(num_classes=10)\n",
        "device = torch.device(\"cuda\" if torch.cuda.is_available() else \"cpu\")\n",
        "model = ModuleValidator.fix(model)\n",
        "model = model.to(device)\n",
        "optimizer = optim.Adagrad(model.parameters(), lr=LR, weight_decay=1e-4)\n",
        "ModuleValidator.validate(model, strict=False)\n",
        "\n",
        "privacy_engine = PrivacyEngine()\n",
        "model, optimizer, train_loader = privacy_engine.make_private_with_epsilon(\n",
        "    module=model,\n",
        "    optimizer=optimizer,\n",
        "    data_loader=train_loader,\n",
        "    epochs=EPOCHS,\n",
        "    target_epsilon=EPSILON,\n",
        "    target_delta=DELTA,\n",
        "    max_grad_norm=MAX_GRAD_NORM\n",
        ")\n",
        "\n",
        "ema = EMA(model, decay=0.95)\n",
        "# Adaptiv\n",
        "print(f\"Using sigma={optimizer.noise_multiplier} \")\n",
        "# Loss function\n",
        "criterion = nn.CrossEntropyLoss()\n",
        "\n",
        "\n",
        "# Grouped Gradient Clipping Function\n",
        "def GroupedGradClip(gradients, bound, groups):\n",
        "    # Flatten gradients before splitting\n",
        "    flat_grad = gradients.view(gradients.size(0), -1)  # Flatten to process gradients as a 2D tensor\n",
        "    grouped_grads = torch.chunk(flat_grad, groups, dim=1)  # Chunk along the feature dimension\n",
        "    clipped_grads = []\n",
        "\n",
        "    # Compute the norm for each group and clip\n",
        "    for g in grouped_grads:\n",
        "        grad_norm = torch.norm(g, dim=1, keepdim=True)\n",
        "        clip_coef = torch.clamp(bound / (grad_norm + 1e-6), max=1.0)  # Clip the gradient norm\n",
        "        clipped_grads.append(g * clip_coef)\n",
        "\n",
        "    # Concatenate back the clipped gradients and reshape to original\n",
        "    clipped_flat_grad = torch.cat(clipped_grads, dim=1)\n",
        "\n",
        "    # Reshape back to original gradient shape\n",
        "    return clipped_flat_grad.view_as(gradients)\n",
        "\n",
        "\n",
        "L=256\n",
        "# Training and testing functions\n",
        "\n",
        "def train(model, train_loader, optimizer, epoch, device):\n",
        "    model.train()\n",
        "    losses = []\n",
        "    top1_acc = []\n",
        "\n",
        "    with BatchMemoryManager(data_loader=train_loader, max_physical_batch_size=MAX_PHYSICAL_BATCH_SIZE, optimizer=optimizer) as memory_safe_data_loader:\n",
        "        for batch_idx, (data, target) in tqdm(enumerate(memory_safe_data_loader), total=len(memory_safe_data_loader)):\n",
        "            data, target = data.to(device), target.to(device)\n",
        "            optimizer.zero_grad()\n",
        "            output = model(data)\n",
        "            loss = criterion(output, target)\n",
        "            loss.backward()\n",
        "\n",
        "            # Apply grouped gradient clipping\n",
        "            for l,p in enumerate(model.parameters()):\n",
        "                  if p.grad is not None:\n",
        "                      p.grad = GroupedGradClip(p.grad, bound, NUM_GROUPS)\n",
        "\n",
        "                      noise = torch.normal(mean=0, std=NOISE_MULTIPLIER * bound, size=p.grad.shape, device=device)\n",
        "                      p.grad = (p.grad + noise) / L  # Normalize by group size\n",
        "\n",
        "\n",
        "\n",
        "            optimizer.step()\n",
        "            losses.append(loss.item())\n",
        "            _, predicted = torch.max(output.data, 1)\n",
        "            correct = predicted.eq(target).sum().item()\n",
        "            top1_acc.append(correct / target.size(0))\n",
        "            ema.update(model)\n",
        "            if (batch_idx + 1) % 200 == 0:\n",
        "                epsilon = privacy_engine.get_epsilon(DELTA)\n",
        "                print(\n",
        "                    f\"(e = {epsilon:.2f}, d = {DELTA})\"\n",
        "                )\n",
        "\n",
        "\n",
        "    avg_loss = np.mean(losses)\n",
        "    avg_acc = np.mean(top1_acc) * 100\n",
        "    return avg_loss, avg_acc,epsilon\n",
        "\n",
        "def test_with_ema(model, test_loader, device, ema):\n",
        "    ema.apply_shadow(model)  # Apply EMA parameters\n",
        "    test_loss, test_accuracy = test(model, test_loader, device)\n",
        "    ema.restore(model)  # Restore original parameters\n",
        "    return test_loss, test_accuracy\n",
        "\n",
        "def test(model, test_loader, device):\n",
        "    model.eval()\n",
        "    losses = []\n",
        "    top1_acc = []\n",
        "\n",
        "    with torch.no_grad():\n",
        "        for data, target in test_loader:\n",
        "            data, target = data.to(device), target.to(device)\n",
        "            output = model(data)\n",
        "            loss = criterion(output, target)\n",
        "            preds = np.argmax(output.detach().cpu().numpy(), axis=1)\n",
        "            labels = target.detach().cpu().numpy()\n",
        "\n",
        "            # Calculate accuracy\n",
        "            acc = np.mean(preds == labels)\n",
        "\n",
        "\n",
        "            losses.append(loss.item())\n",
        "            top1_acc.append(acc)\n",
        "\n",
        "\n",
        "    avg_loss = np.mean(losses)\n",
        "    avg_accuracy = np.mean(top1_acc)*100\n",
        "    return avg_loss, avg_accuracy\n",
        "\n",
        "train_accuracies = []\n",
        "test_accuracies = []\n",
        "epsilons = []\n",
        "train_losses = []\n",
        "test_losses = []\n",
        "epochs = []\n",
        "\n",
        "# Run training loop with logging\n",
        "for epoch in range(1, EPOCHS + 1):\n",
        "    train_loss, train_acc, epsilonv = train(model, train_loader, optimizer, epoch, device)\n",
        "    test_loss, test_accuracy = test_with_ema(model, test_loader, device, ema)\n",
        "    print(f\"Epoch {epoch}: Train Loss={train_loss:.4f}, Train Acc={train_acc:.2f}%, \"\n",
        "          f\"Test Loss={test_loss:.4f}, Test Acc={test_accuracy:.2f}%, Epsilon={epsilonv:.2f}\")\n",
        "\n",
        "\n",
        "    # Log metrics for plotting\n",
        "    train_accuracies.append(train_acc)\n",
        "    test_accuracies.append(test_accuracy)\n",
        "    epsilons.append(epsilonv)\n",
        "    train_losses.append(train_loss)\n",
        "    test_losses.append(test_loss)\n",
        "    epochs.append(epoch)\n",
        "\n",
        "\n",
        "\n",
        "# Plot 1: Test Accuracy vs Epsilon\n",
        "plt.figure(figsize=(10, 6))\n",
        "plt.plot(epsilons, test_accuracies, marker='o', label=\"Test Accuracy\")\n",
        "plt.xlabel(\"Epsilon\")\n",
        "plt.ylabel(\"Test Accuracy (%)\")\n",
        "plt.title(\"Test Accuracy vs Epsilon\")\n",
        "plt.grid(True)\n",
        "plt.legend()\n",
        "plt.show()\n",
        "\n",
        "# Plot 2: Train and Test Accuracy vs Epochs\n",
        "plt.figure(figsize=(10, 6))\n",
        "plt.plot(epochs, train_accuracies, label=\"Train Accuracy\", marker='o')\n",
        "plt.plot(epochs, test_accuracies, label=\"Test Accuracy\", marker='s')\n",
        "plt.xlabel(\"Epochs\")\n",
        "plt.ylabel(\"Accuracy (%)\")\n",
        "plt.title(\"Train and Test Accuracy vs Epochs\")\n",
        "plt.grid(True)\n",
        "plt.legend()\n",
        "plt.show()\n",
        "import pandas as pd\n",
        "# Save metrics to a DataFrame for further analysis\n",
        "metrics_data = {\n",
        "    \"Epoch\": epochs,\n",
        "    \"Train Accuracy\": train_accuracies,\n",
        "    \"Test Accuracy\": test_accuracies,\n",
        "    \"Epsilon\": epsilons,\n",
        "    \"Train Loss\": train_losses,\n",
        "    \"Test Loss\": test_losses\n",
        "}\n",
        "metrics_df = pd.DataFrame(metrics_data)\n",
        "\n",
        "# Save the DataFrame to an Excel file\n",
        "output_file = \"metrics_dataadawran.xlsx\"\n",
        "metrics_df.to_excel(output_file, index=False)\n",
        "\n",
        "print(f\"Metrics data successfully saved to {output_file}.\")\n",
        "\n",
        "# Print final epsilon after training\n",
        "final_epsilon = privacy_engine.get_epsilon(DELTA)\n"
      ],
      "metadata": {
        "colab": {
          "base_uri": "https://localhost:8080/",
          "height": 1000
        },
        "id": "E_oUexqt6hP1",
        "outputId": "fcf5127c-4b76-40bf-c1a4-0d5a0d6004a2"
      },
      "execution_count": 19,
      "outputs": [
        {
          "output_type": "stream",
          "name": "stdout",
          "text": [
            "Files already downloaded and verified\n",
            "Files already downloaded and verified\n",
            "Using sigma=2.880859375 \n"
          ]
        },
        {
          "output_type": "stream",
          "name": "stderr",
          "text": [
            " 51%|█████     | 200/391 [00:45<00:46,  4.10it/s]"
          ]
        },
        {
          "output_type": "stream",
          "name": "stdout",
          "text": [
            "(e = 0.29, d = 1e-05)\n"
          ]
        },
        {
          "output_type": "stream",
          "name": "stderr",
          "text": [
            "399it [01:30,  4.40it/s]\n"
          ]
        },
        {
          "output_type": "stream",
          "name": "stdout",
          "text": [
            "Epoch 1: Train Loss=2.3141, Train Acc=10.33%, Test Loss=2.2469, Test Acc=16.87%, Epsilon=0.29\n"
          ]
        },
        {
          "output_type": "stream",
          "name": "stderr",
          "text": [
            " 51%|█████     | 200/391 [00:45<00:48,  3.91it/s]"
          ]
        },
        {
          "output_type": "stream",
          "name": "stdout",
          "text": [
            "(e = 0.49, d = 1e-05)\n"
          ]
        },
        {
          "output_type": "stream",
          "name": "stderr",
          "text": [
            "398it [01:29,  4.42it/s]\n"
          ]
        },
        {
          "output_type": "stream",
          "name": "stdout",
          "text": [
            "Epoch 2: Train Loss=2.2510, Train Acc=15.82%, Test Loss=2.1533, Test Acc=19.41%, Epsilon=0.49\n"
          ]
        },
        {
          "output_type": "stream",
          "name": "stderr",
          "text": [
            " 51%|█████     | 200/391 [00:45<00:48,  3.98it/s]"
          ]
        },
        {
          "output_type": "stream",
          "name": "stdout",
          "text": [
            "(e = 0.63, d = 1e-05)\n"
          ]
        },
        {
          "output_type": "stream",
          "name": "stderr",
          "text": [
            "398it [01:29,  4.43it/s]\n"
          ]
        },
        {
          "output_type": "stream",
          "name": "stdout",
          "text": [
            "Epoch 3: Train Loss=2.1686, Train Acc=20.01%, Test Loss=2.1204, Test Acc=18.96%, Epsilon=0.63\n"
          ]
        },
        {
          "output_type": "stream",
          "name": "stderr",
          "text": [
            " 51%|█████     | 200/391 [00:45<00:47,  4.00it/s]"
          ]
        },
        {
          "output_type": "stream",
          "name": "stdout",
          "text": [
            "(e = 0.74, d = 1e-05)\n"
          ]
        },
        {
          "output_type": "stream",
          "name": "stderr",
          "text": [
            "396it [01:30,  4.39it/s]\n"
          ]
        },
        {
          "output_type": "stream",
          "name": "stdout",
          "text": [
            "Epoch 4: Train Loss=2.0982, Train Acc=20.85%, Test Loss=2.1187, Test Acc=19.44%, Epsilon=0.74\n"
          ]
        },
        {
          "output_type": "stream",
          "name": "stderr",
          "text": [
            " 51%|█████     | 200/391 [00:45<00:47,  3.99it/s]"
          ]
        },
        {
          "output_type": "stream",
          "name": "stdout",
          "text": [
            "(e = 0.84, d = 1e-05)\n"
          ]
        },
        {
          "output_type": "stream",
          "name": "stderr",
          "text": [
            "396it [01:29,  4.40it/s]\n"
          ]
        },
        {
          "output_type": "stream",
          "name": "stdout",
          "text": [
            "Epoch 5: Train Loss=2.0622, Train Acc=21.88%, Test Loss=2.1122, Test Acc=19.97%, Epsilon=0.84\n"
          ]
        },
        {
          "output_type": "stream",
          "name": "stderr",
          "text": [
            " 51%|█████     | 200/391 [00:45<00:47,  3.98it/s]"
          ]
        },
        {
          "output_type": "stream",
          "name": "stdout",
          "text": [
            "(e = 0.93, d = 1e-05)\n"
          ]
        },
        {
          "output_type": "stream",
          "name": "stderr",
          "text": [
            "398it [01:30,  4.38it/s]\n"
          ]
        },
        {
          "output_type": "stream",
          "name": "stdout",
          "text": [
            "Epoch 6: Train Loss=2.0355, Train Acc=22.72%, Test Loss=2.0921, Test Acc=20.67%, Epsilon=0.93\n"
          ]
        },
        {
          "output_type": "stream",
          "name": "stderr",
          "text": [
            " 51%|█████     | 200/391 [00:45<00:47,  3.98it/s]"
          ]
        },
        {
          "output_type": "stream",
          "name": "stdout",
          "text": [
            "(e = 1.01, d = 1e-05)\n"
          ]
        },
        {
          "output_type": "stream",
          "name": "stderr",
          "text": [
            "398it [01:30,  4.38it/s]\n"
          ]
        },
        {
          "output_type": "stream",
          "name": "stdout",
          "text": [
            "Epoch 7: Train Loss=2.0195, Train Acc=23.48%, Test Loss=2.0661, Test Acc=21.29%, Epsilon=1.01\n"
          ]
        },
        {
          "output_type": "stream",
          "name": "stderr",
          "text": [
            " 51%|█████     | 200/391 [00:45<00:48,  3.94it/s]"
          ]
        },
        {
          "output_type": "stream",
          "name": "stdout",
          "text": [
            "(e = 1.09, d = 1e-05)\n"
          ]
        },
        {
          "output_type": "stream",
          "name": "stderr",
          "text": [
            "392it [01:29,  4.40it/s]\n"
          ]
        },
        {
          "output_type": "stream",
          "name": "stdout",
          "text": [
            "Epoch 8: Train Loss=2.0005, Train Acc=24.42%, Test Loss=2.0462, Test Acc=21.62%, Epsilon=1.09\n"
          ]
        },
        {
          "output_type": "stream",
          "name": "stderr",
          "text": [
            " 51%|█████     | 200/391 [00:45<00:48,  3.94it/s]"
          ]
        },
        {
          "output_type": "stream",
          "name": "stdout",
          "text": [
            "(e = 1.16, d = 1e-05)\n"
          ]
        },
        {
          "output_type": "stream",
          "name": "stderr",
          "text": [
            "395it [01:30,  4.38it/s]\n"
          ]
        },
        {
          "output_type": "stream",
          "name": "stdout",
          "text": [
            "Epoch 9: Train Loss=1.9766, Train Acc=25.09%, Test Loss=2.0308, Test Acc=21.80%, Epsilon=1.16\n"
          ]
        },
        {
          "output_type": "stream",
          "name": "stderr",
          "text": [
            " 51%|█████     | 200/391 [00:45<00:48,  3.96it/s]"
          ]
        },
        {
          "output_type": "stream",
          "name": "stdout",
          "text": [
            "(e = 1.23, d = 1e-05)\n"
          ]
        },
        {
          "output_type": "stream",
          "name": "stderr",
          "text": [
            "397it [01:31,  4.36it/s]\n"
          ]
        },
        {
          "output_type": "stream",
          "name": "stdout",
          "text": [
            "Epoch 10: Train Loss=1.9670, Train Acc=25.63%, Test Loss=2.0178, Test Acc=22.11%, Epsilon=1.23\n"
          ]
        },
        {
          "output_type": "stream",
          "name": "stderr",
          "text": [
            " 51%|█████     | 200/391 [00:45<00:49,  3.89it/s]"
          ]
        },
        {
          "output_type": "stream",
          "name": "stdout",
          "text": [
            "(e = 1.30, d = 1e-05)\n"
          ]
        },
        {
          "output_type": "stream",
          "name": "stderr",
          "text": [
            "395it [01:30,  4.37it/s]\n"
          ]
        },
        {
          "output_type": "stream",
          "name": "stdout",
          "text": [
            "Epoch 11: Train Loss=1.9497, Train Acc=26.18%, Test Loss=2.0000, Test Acc=22.61%, Epsilon=1.30\n"
          ]
        },
        {
          "output_type": "stream",
          "name": "stderr",
          "text": [
            " 51%|█████     | 200/391 [00:45<00:48,  3.98it/s]"
          ]
        },
        {
          "output_type": "stream",
          "name": "stdout",
          "text": [
            "(e = 1.36, d = 1e-05)\n"
          ]
        },
        {
          "output_type": "stream",
          "name": "stderr",
          "text": [
            "396it [01:30,  4.39it/s]\n"
          ]
        },
        {
          "output_type": "stream",
          "name": "stdout",
          "text": [
            "Epoch 12: Train Loss=1.9393, Train Acc=26.76%, Test Loss=1.9925, Test Acc=23.31%, Epsilon=1.36\n"
          ]
        },
        {
          "output_type": "stream",
          "name": "stderr",
          "text": [
            " 51%|█████     | 200/391 [00:45<00:48,  3.97it/s]"
          ]
        },
        {
          "output_type": "stream",
          "name": "stdout",
          "text": [
            "(e = 1.42, d = 1e-05)\n"
          ]
        },
        {
          "output_type": "stream",
          "name": "stderr",
          "text": [
            "400it [01:31,  4.39it/s]"
          ]
        },
        {
          "output_type": "stream",
          "name": "stdout",
          "text": [
            "(e = 1.45, d = 1e-05)\n"
          ]
        },
        {
          "output_type": "stream",
          "name": "stderr",
          "text": [
            "\n"
          ]
        },
        {
          "output_type": "stream",
          "name": "stdout",
          "text": [
            "Epoch 13: Train Loss=1.9229, Train Acc=27.34%, Test Loss=1.9870, Test Acc=23.15%, Epsilon=1.45\n"
          ]
        },
        {
          "output_type": "stream",
          "name": "stderr",
          "text": [
            " 51%|█████     | 200/391 [00:45<00:48,  3.92it/s]"
          ]
        },
        {
          "output_type": "stream",
          "name": "stdout",
          "text": [
            "(e = 1.48, d = 1e-05)\n"
          ]
        },
        {
          "output_type": "stream",
          "name": "stderr",
          "text": [
            "392it [01:29,  4.38it/s]\n"
          ]
        },
        {
          "output_type": "stream",
          "name": "stdout",
          "text": [
            "Epoch 14: Train Loss=1.9188, Train Acc=27.18%, Test Loss=1.9783, Test Acc=23.50%, Epsilon=1.48\n"
          ]
        },
        {
          "output_type": "stream",
          "name": "stderr",
          "text": [
            " 51%|█████     | 200/391 [00:45<00:48,  3.93it/s]"
          ]
        },
        {
          "output_type": "stream",
          "name": "stdout",
          "text": [
            "(e = 1.53, d = 1e-05)\n"
          ]
        },
        {
          "output_type": "stream",
          "name": "stderr",
          "text": [
            "396it [01:30,  4.39it/s]\n"
          ]
        },
        {
          "output_type": "stream",
          "name": "stdout",
          "text": [
            "Epoch 15: Train Loss=1.9076, Train Acc=27.51%, Test Loss=1.9659, Test Acc=24.59%, Epsilon=1.53\n"
          ]
        },
        {
          "output_type": "stream",
          "name": "stderr",
          "text": [
            " 51%|█████     | 200/391 [00:45<00:49,  3.85it/s]"
          ]
        },
        {
          "output_type": "stream",
          "name": "stdout",
          "text": [
            "(e = 1.59, d = 1e-05)\n"
          ]
        },
        {
          "output_type": "stream",
          "name": "stderr",
          "text": [
            "399it [01:30,  4.40it/s]\n"
          ]
        },
        {
          "output_type": "stream",
          "name": "stdout",
          "text": [
            "Epoch 16: Train Loss=1.8978, Train Acc=27.76%, Test Loss=1.9566, Test Acc=25.47%, Epsilon=1.59\n"
          ]
        },
        {
          "output_type": "stream",
          "name": "stderr",
          "text": [
            " 51%|█████     | 200/391 [00:45<00:48,  3.94it/s]"
          ]
        },
        {
          "output_type": "stream",
          "name": "stdout",
          "text": [
            "(e = 1.64, d = 1e-05)\n"
          ]
        },
        {
          "output_type": "stream",
          "name": "stderr",
          "text": [
            "397it [01:30,  4.40it/s]\n"
          ]
        },
        {
          "output_type": "stream",
          "name": "stdout",
          "text": [
            "Epoch 17: Train Loss=1.8933, Train Acc=28.23%, Test Loss=1.9488, Test Acc=26.00%, Epsilon=1.64\n"
          ]
        },
        {
          "output_type": "stream",
          "name": "stderr",
          "text": [
            " 51%|█████     | 200/391 [00:45<00:50,  3.75it/s]"
          ]
        },
        {
          "output_type": "stream",
          "name": "stdout",
          "text": [
            "(e = 1.70, d = 1e-05)\n"
          ]
        },
        {
          "output_type": "stream",
          "name": "stderr",
          "text": [
            "395it [01:29,  4.40it/s]\n"
          ]
        },
        {
          "output_type": "stream",
          "name": "stdout",
          "text": [
            "Epoch 18: Train Loss=1.8866, Train Acc=28.53%, Test Loss=1.9419, Test Acc=26.58%, Epsilon=1.70\n"
          ]
        },
        {
          "output_type": "stream",
          "name": "stderr",
          "text": [
            " 51%|█████     | 200/391 [00:45<00:50,  3.81it/s]"
          ]
        },
        {
          "output_type": "stream",
          "name": "stdout",
          "text": [
            "(e = 1.75, d = 1e-05)\n"
          ]
        },
        {
          "output_type": "stream",
          "name": "stderr",
          "text": [
            "397it [01:30,  4.39it/s]\n"
          ]
        },
        {
          "output_type": "stream",
          "name": "stdout",
          "text": [
            "Epoch 19: Train Loss=1.8834, Train Acc=29.09%, Test Loss=1.9332, Test Acc=27.19%, Epsilon=1.75\n"
          ]
        },
        {
          "output_type": "stream",
          "name": "stderr",
          "text": [
            " 51%|█████     | 200/391 [00:45<00:50,  3.82it/s]"
          ]
        },
        {
          "output_type": "stream",
          "name": "stdout",
          "text": [
            "(e = 1.80, d = 1e-05)\n"
          ]
        },
        {
          "output_type": "stream",
          "name": "stderr",
          "text": [
            "400it [01:31,  4.39it/s]"
          ]
        },
        {
          "output_type": "stream",
          "name": "stdout",
          "text": [
            "(e = 1.82, d = 1e-05)\n"
          ]
        },
        {
          "output_type": "stream",
          "name": "stderr",
          "text": [
            "\n"
          ]
        },
        {
          "output_type": "stream",
          "name": "stdout",
          "text": [
            "Epoch 20: Train Loss=1.8706, Train Acc=29.25%, Test Loss=1.9285, Test Acc=27.66%, Epsilon=1.82\n"
          ]
        },
        {
          "output_type": "stream",
          "name": "stderr",
          "text": [
            " 51%|█████     | 200/391 [00:45<00:47,  3.99it/s]"
          ]
        },
        {
          "output_type": "stream",
          "name": "stdout",
          "text": [
            "(e = 1.85, d = 1e-05)\n"
          ]
        },
        {
          "output_type": "stream",
          "name": "stderr",
          "text": [
            "396it [01:30,  4.38it/s]\n"
          ]
        },
        {
          "output_type": "stream",
          "name": "stdout",
          "text": [
            "Epoch 21: Train Loss=1.8688, Train Acc=29.37%, Test Loss=1.9250, Test Acc=27.73%, Epsilon=1.85\n"
          ]
        },
        {
          "output_type": "stream",
          "name": "stderr",
          "text": [
            " 51%|█████     | 200/391 [00:45<00:48,  3.93it/s]"
          ]
        },
        {
          "output_type": "stream",
          "name": "stdout",
          "text": [
            "(e = 1.89, d = 1e-05)\n"
          ]
        },
        {
          "output_type": "stream",
          "name": "stderr",
          "text": [
            "395it [01:30,  4.38it/s]\n"
          ]
        },
        {
          "output_type": "stream",
          "name": "stdout",
          "text": [
            "Epoch 22: Train Loss=1.8634, Train Acc=29.97%, Test Loss=1.9195, Test Acc=28.18%, Epsilon=1.89\n"
          ]
        },
        {
          "output_type": "stream",
          "name": "stderr",
          "text": [
            " 51%|█████     | 200/391 [00:45<00:49,  3.85it/s]"
          ]
        },
        {
          "output_type": "stream",
          "name": "stdout",
          "text": [
            "(e = 1.94, d = 1e-05)\n"
          ]
        },
        {
          "output_type": "stream",
          "name": "stderr",
          "text": [
            "400it [01:31,  4.38it/s]"
          ]
        },
        {
          "output_type": "stream",
          "name": "stdout",
          "text": [
            "(e = 1.96, d = 1e-05)\n"
          ]
        },
        {
          "output_type": "stream",
          "name": "stderr",
          "text": [
            "\n"
          ]
        },
        {
          "output_type": "stream",
          "name": "stdout",
          "text": [
            "Epoch 23: Train Loss=1.8509, Train Acc=30.31%, Test Loss=1.9178, Test Acc=28.53%, Epsilon=1.96\n"
          ]
        },
        {
          "output_type": "stream",
          "name": "stderr",
          "text": [
            " 51%|█████     | 200/391 [00:45<00:47,  3.98it/s]"
          ]
        },
        {
          "output_type": "stream",
          "name": "stdout",
          "text": [
            "(e = 1.99, d = 1e-05)\n"
          ]
        },
        {
          "output_type": "stream",
          "name": "stderr",
          "text": [
            "399it [01:30,  4.40it/s]\n"
          ]
        },
        {
          "output_type": "stream",
          "name": "stdout",
          "text": [
            "Epoch 24: Train Loss=1.8497, Train Acc=29.98%, Test Loss=1.9139, Test Acc=28.82%, Epsilon=1.99\n"
          ]
        },
        {
          "output_type": "stream",
          "name": "stderr",
          "text": [
            " 51%|█████     | 200/391 [00:45<00:49,  3.86it/s]"
          ]
        },
        {
          "output_type": "stream",
          "name": "stdout",
          "text": [
            "(e = 2.03, d = 1e-05)\n"
          ]
        },
        {
          "output_type": "stream",
          "name": "stderr",
          "text": [
            "397it [01:30,  4.38it/s]\n"
          ]
        },
        {
          "output_type": "stream",
          "name": "stdout",
          "text": [
            "Epoch 25: Train Loss=1.8424, Train Acc=30.76%, Test Loss=1.9126, Test Acc=28.75%, Epsilon=2.03\n"
          ]
        },
        {
          "output_type": "stream",
          "name": "stderr",
          "text": [
            " 51%|█████     | 200/391 [00:45<00:50,  3.81it/s]"
          ]
        },
        {
          "output_type": "stream",
          "name": "stdout",
          "text": [
            "(e = 2.07, d = 1e-05)\n"
          ]
        },
        {
          "output_type": "stream",
          "name": "stderr",
          "text": [
            "396it [01:30,  4.38it/s]\n"
          ]
        },
        {
          "output_type": "stream",
          "name": "stdout",
          "text": [
            "Epoch 26: Train Loss=1.8396, Train Acc=30.52%, Test Loss=1.9132, Test Acc=29.03%, Epsilon=2.07\n"
          ]
        },
        {
          "output_type": "stream",
          "name": "stderr",
          "text": [
            " 51%|█████     | 200/391 [00:45<00:48,  3.93it/s]"
          ]
        },
        {
          "output_type": "stream",
          "name": "stdout",
          "text": [
            "(e = 2.12, d = 1e-05)\n"
          ]
        },
        {
          "output_type": "stream",
          "name": "stderr",
          "text": [
            "400it [01:31,  3.76it/s]"
          ]
        },
        {
          "output_type": "stream",
          "name": "stdout",
          "text": [
            "(e = 2.14, d = 1e-05)\n"
          ]
        },
        {
          "output_type": "stream",
          "name": "stderr",
          "text": [
            "401it [01:31,  4.37it/s]\n"
          ]
        },
        {
          "output_type": "stream",
          "name": "stdout",
          "text": [
            "Epoch 27: Train Loss=1.8350, Train Acc=30.52%, Test Loss=1.9120, Test Acc=29.07%, Epsilon=2.14\n"
          ]
        },
        {
          "output_type": "stream",
          "name": "stderr",
          "text": [
            " 51%|█████     | 200/391 [00:45<00:52,  3.64it/s]"
          ]
        },
        {
          "output_type": "stream",
          "name": "stdout",
          "text": [
            "(e = 2.16, d = 1e-05)\n"
          ]
        },
        {
          "output_type": "stream",
          "name": "stderr",
          "text": [
            "396it [01:30,  4.38it/s]\n"
          ]
        },
        {
          "output_type": "stream",
          "name": "stdout",
          "text": [
            "Epoch 28: Train Loss=1.8334, Train Acc=30.55%, Test Loss=1.9096, Test Acc=29.32%, Epsilon=2.16\n"
          ]
        },
        {
          "output_type": "stream",
          "name": "stderr",
          "text": [
            " 51%|█████     | 200/391 [00:45<00:50,  3.80it/s]"
          ]
        },
        {
          "output_type": "stream",
          "name": "stdout",
          "text": [
            "(e = 2.20, d = 1e-05)\n"
          ]
        },
        {
          "output_type": "stream",
          "name": "stderr",
          "text": [
            "397it [01:30,  4.37it/s]\n"
          ]
        },
        {
          "output_type": "stream",
          "name": "stdout",
          "text": [
            "Epoch 29: Train Loss=1.8293, Train Acc=30.68%, Test Loss=1.9083, Test Acc=29.39%, Epsilon=2.20\n"
          ]
        },
        {
          "output_type": "stream",
          "name": "stderr",
          "text": [
            " 51%|█████     | 200/391 [00:45<00:49,  3.87it/s]"
          ]
        },
        {
          "output_type": "stream",
          "name": "stdout",
          "text": [
            "(e = 2.24, d = 1e-05)\n"
          ]
        },
        {
          "output_type": "stream",
          "name": "stderr",
          "text": [
            "397it [01:30,  4.41it/s]\n"
          ]
        },
        {
          "output_type": "stream",
          "name": "stdout",
          "text": [
            "Epoch 30: Train Loss=1.8364, Train Acc=30.84%, Test Loss=1.9059, Test Acc=29.56%, Epsilon=2.24\n"
          ]
        },
        {
          "output_type": "stream",
          "name": "stderr",
          "text": [
            " 51%|█████     | 200/391 [00:45<00:49,  3.84it/s]"
          ]
        },
        {
          "output_type": "stream",
          "name": "stdout",
          "text": [
            "(e = 2.29, d = 1e-05)\n"
          ]
        },
        {
          "output_type": "stream",
          "name": "stderr",
          "text": [
            "400it [01:31,  3.83it/s]"
          ]
        },
        {
          "output_type": "stream",
          "name": "stdout",
          "text": [
            "(e = 2.30, d = 1e-05)\n"
          ]
        },
        {
          "output_type": "stream",
          "name": "stderr",
          "text": [
            "401it [01:31,  4.39it/s]\n"
          ]
        },
        {
          "output_type": "stream",
          "name": "stdout",
          "text": [
            "Epoch 31: Train Loss=1.8288, Train Acc=30.66%, Test Loss=1.9061, Test Acc=29.68%, Epsilon=2.30\n"
          ]
        },
        {
          "output_type": "stream",
          "name": "stderr",
          "text": [
            " 51%|█████     | 200/391 [00:45<00:48,  3.92it/s]"
          ]
        },
        {
          "output_type": "stream",
          "name": "stdout",
          "text": [
            "(e = 2.33, d = 1e-05)\n"
          ]
        },
        {
          "output_type": "stream",
          "name": "stderr",
          "text": [
            "395it [01:30,  4.36it/s]\n"
          ]
        },
        {
          "output_type": "stream",
          "name": "stdout",
          "text": [
            "Epoch 32: Train Loss=1.8244, Train Acc=30.80%, Test Loss=1.9069, Test Acc=29.58%, Epsilon=2.33\n"
          ]
        },
        {
          "output_type": "stream",
          "name": "stderr",
          "text": [
            " 51%|█████     | 200/391 [00:45<00:50,  3.77it/s]"
          ]
        },
        {
          "output_type": "stream",
          "name": "stdout",
          "text": [
            "(e = 2.37, d = 1e-05)\n"
          ]
        },
        {
          "output_type": "stream",
          "name": "stderr",
          "text": [
            "395it [01:30,  4.39it/s]\n"
          ]
        },
        {
          "output_type": "stream",
          "name": "stdout",
          "text": [
            "Epoch 33: Train Loss=1.8241, Train Acc=30.73%, Test Loss=1.9032, Test Acc=30.05%, Epsilon=2.37\n"
          ]
        },
        {
          "output_type": "stream",
          "name": "stderr",
          "text": [
            " 51%|█████     | 200/391 [00:45<00:48,  3.93it/s]"
          ]
        },
        {
          "output_type": "stream",
          "name": "stdout",
          "text": [
            "(e = 2.40, d = 1e-05)\n"
          ]
        },
        {
          "output_type": "stream",
          "name": "stderr",
          "text": [
            "396it [01:30,  4.37it/s]\n"
          ]
        },
        {
          "output_type": "stream",
          "name": "stdout",
          "text": [
            "Epoch 34: Train Loss=1.8148, Train Acc=31.55%, Test Loss=1.9049, Test Acc=29.95%, Epsilon=2.40\n"
          ]
        },
        {
          "output_type": "stream",
          "name": "stderr",
          "text": [
            " 51%|█████     | 200/391 [00:45<00:47,  4.00it/s]"
          ]
        },
        {
          "output_type": "stream",
          "name": "stdout",
          "text": [
            "(e = 2.44, d = 1e-05)\n"
          ]
        },
        {
          "output_type": "stream",
          "name": "stderr",
          "text": [
            "400it [01:31,  4.38it/s]"
          ]
        },
        {
          "output_type": "stream",
          "name": "stdout",
          "text": [
            "(e = 2.46, d = 1e-05)\n"
          ]
        },
        {
          "output_type": "stream",
          "name": "stderr",
          "text": [
            "\n"
          ]
        },
        {
          "output_type": "stream",
          "name": "stdout",
          "text": [
            "Epoch 35: Train Loss=1.8114, Train Acc=31.15%, Test Loss=1.9061, Test Acc=29.82%, Epsilon=2.46\n"
          ]
        },
        {
          "output_type": "stream",
          "name": "stderr",
          "text": [
            " 51%|█████     | 200/391 [00:45<00:49,  3.89it/s]"
          ]
        },
        {
          "output_type": "stream",
          "name": "stdout",
          "text": [
            "(e = 2.48, d = 1e-05)\n"
          ]
        },
        {
          "output_type": "stream",
          "name": "stderr",
          "text": [
            "397it [01:30,  4.39it/s]\n"
          ]
        },
        {
          "output_type": "stream",
          "name": "stdout",
          "text": [
            "Epoch 36: Train Loss=1.8159, Train Acc=31.34%, Test Loss=1.9074, Test Acc=30.02%, Epsilon=2.48\n"
          ]
        },
        {
          "output_type": "stream",
          "name": "stderr",
          "text": [
            " 51%|█████     | 200/391 [00:45<00:51,  3.71it/s]"
          ]
        },
        {
          "output_type": "stream",
          "name": "stdout",
          "text": [
            "(e = 2.52, d = 1e-05)\n"
          ]
        },
        {
          "output_type": "stream",
          "name": "stderr",
          "text": [
            "396it [01:30,  4.38it/s]\n"
          ]
        },
        {
          "output_type": "stream",
          "name": "stdout",
          "text": [
            "Epoch 37: Train Loss=1.8176, Train Acc=31.34%, Test Loss=1.9053, Test Acc=30.34%, Epsilon=2.52\n"
          ]
        },
        {
          "output_type": "stream",
          "name": "stderr",
          "text": [
            " 51%|█████     | 200/391 [00:45<00:52,  3.67it/s]"
          ]
        },
        {
          "output_type": "stream",
          "name": "stdout",
          "text": [
            "(e = 2.56, d = 1e-05)\n"
          ]
        },
        {
          "output_type": "stream",
          "name": "stderr",
          "text": [
            "398it [01:30,  4.39it/s]\n"
          ]
        },
        {
          "output_type": "stream",
          "name": "stdout",
          "text": [
            "Epoch 38: Train Loss=1.8039, Train Acc=31.77%, Test Loss=1.9030, Test Acc=30.31%, Epsilon=2.56\n"
          ]
        },
        {
          "output_type": "stream",
          "name": "stderr",
          "text": [
            " 51%|█████     | 200/391 [00:45<00:50,  3.75it/s]"
          ]
        },
        {
          "output_type": "stream",
          "name": "stdout",
          "text": [
            "(e = 2.59, d = 1e-05)\n"
          ]
        },
        {
          "output_type": "stream",
          "name": "stderr",
          "text": [
            "398it [01:30,  4.37it/s]\n"
          ]
        },
        {
          "output_type": "stream",
          "name": "stdout",
          "text": [
            "Epoch 39: Train Loss=1.8116, Train Acc=31.57%, Test Loss=1.9035, Test Acc=30.48%, Epsilon=2.59\n"
          ]
        },
        {
          "output_type": "stream",
          "name": "stderr",
          "text": [
            " 51%|█████     | 200/391 [00:45<00:50,  3.79it/s]"
          ]
        },
        {
          "output_type": "stream",
          "name": "stdout",
          "text": [
            "(e = 2.63, d = 1e-05)\n"
          ]
        },
        {
          "output_type": "stream",
          "name": "stderr",
          "text": [
            "400it [01:31,  4.37it/s]"
          ]
        },
        {
          "output_type": "stream",
          "name": "stdout",
          "text": [
            "(e = 2.65, d = 1e-05)\n"
          ]
        },
        {
          "output_type": "stream",
          "name": "stderr",
          "text": [
            "\n"
          ]
        },
        {
          "output_type": "stream",
          "name": "stdout",
          "text": [
            "Epoch 40: Train Loss=1.8048, Train Acc=31.59%, Test Loss=1.9032, Test Acc=30.42%, Epsilon=2.65\n"
          ]
        },
        {
          "output_type": "stream",
          "name": "stderr",
          "text": [
            " 51%|█████     | 200/391 [00:45<00:52,  3.66it/s]"
          ]
        },
        {
          "output_type": "stream",
          "name": "stdout",
          "text": [
            "(e = 2.67, d = 1e-05)\n"
          ]
        },
        {
          "output_type": "stream",
          "name": "stderr",
          "text": [
            "397it [01:30,  4.38it/s]\n"
          ]
        },
        {
          "output_type": "stream",
          "name": "stdout",
          "text": [
            "Epoch 41: Train Loss=1.8012, Train Acc=31.85%, Test Loss=1.9037, Test Acc=30.61%, Epsilon=2.67\n"
          ]
        },
        {
          "output_type": "stream",
          "name": "stderr",
          "text": [
            " 51%|█████     | 200/391 [00:45<00:51,  3.73it/s]"
          ]
        },
        {
          "output_type": "stream",
          "name": "stdout",
          "text": [
            "(e = 2.70, d = 1e-05)\n"
          ]
        },
        {
          "output_type": "stream",
          "name": "stderr",
          "text": [
            "398it [01:30,  4.38it/s]\n"
          ]
        },
        {
          "output_type": "stream",
          "name": "stdout",
          "text": [
            "Epoch 42: Train Loss=1.8037, Train Acc=31.57%, Test Loss=1.9049, Test Acc=30.60%, Epsilon=2.70\n"
          ]
        },
        {
          "output_type": "stream",
          "name": "stderr",
          "text": [
            " 51%|█████     | 200/391 [00:45<00:49,  3.82it/s]"
          ]
        },
        {
          "output_type": "stream",
          "name": "stdout",
          "text": [
            "(e = 2.74, d = 1e-05)\n"
          ]
        },
        {
          "output_type": "stream",
          "name": "stderr",
          "text": [
            "397it [01:30,  4.38it/s]\n"
          ]
        },
        {
          "output_type": "stream",
          "name": "stdout",
          "text": [
            "Epoch 43: Train Loss=1.7986, Train Acc=31.87%, Test Loss=1.9023, Test Acc=30.83%, Epsilon=2.74\n"
          ]
        },
        {
          "output_type": "stream",
          "name": "stderr",
          "text": [
            " 51%|█████     | 200/391 [00:45<00:51,  3.73it/s]"
          ]
        },
        {
          "output_type": "stream",
          "name": "stdout",
          "text": [
            "(e = 2.77, d = 1e-05)\n"
          ]
        },
        {
          "output_type": "stream",
          "name": "stderr",
          "text": [
            "397it [01:30,  4.39it/s]\n"
          ]
        },
        {
          "output_type": "stream",
          "name": "stdout",
          "text": [
            "Epoch 44: Train Loss=1.8032, Train Acc=32.00%, Test Loss=1.9020, Test Acc=30.90%, Epsilon=2.77\n"
          ]
        },
        {
          "output_type": "stream",
          "name": "stderr",
          "text": [
            " 51%|█████     | 200/391 [00:45<00:48,  3.91it/s]"
          ]
        },
        {
          "output_type": "stream",
          "name": "stdout",
          "text": [
            "(e = 2.81, d = 1e-05)\n"
          ]
        },
        {
          "output_type": "stream",
          "name": "stderr",
          "text": [
            "400it [01:31,  3.73it/s]"
          ]
        },
        {
          "output_type": "stream",
          "name": "stdout",
          "text": [
            "(e = 2.82, d = 1e-05)\n"
          ]
        },
        {
          "output_type": "stream",
          "name": "stderr",
          "text": [
            "401it [01:31,  4.38it/s]\n"
          ]
        },
        {
          "output_type": "stream",
          "name": "stdout",
          "text": [
            "Epoch 45: Train Loss=1.7991, Train Acc=31.81%, Test Loss=1.9001, Test Acc=31.02%, Epsilon=2.82\n"
          ]
        },
        {
          "output_type": "stream",
          "name": "stderr",
          "text": [
            " 51%|█████     | 200/391 [00:45<00:50,  3.75it/s]"
          ]
        },
        {
          "output_type": "stream",
          "name": "stdout",
          "text": [
            "(e = 2.84, d = 1e-05)\n"
          ]
        },
        {
          "output_type": "stream",
          "name": "stderr",
          "text": [
            "398it [01:30,  4.37it/s]\n"
          ]
        },
        {
          "output_type": "stream",
          "name": "stdout",
          "text": [
            "Epoch 46: Train Loss=1.7956, Train Acc=32.27%, Test Loss=1.8997, Test Acc=31.12%, Epsilon=2.84\n"
          ]
        },
        {
          "output_type": "stream",
          "name": "stderr",
          "text": [
            " 51%|█████     | 200/391 [00:46<00:52,  3.65it/s]"
          ]
        },
        {
          "output_type": "stream",
          "name": "stdout",
          "text": [
            "(e = 2.88, d = 1e-05)\n"
          ]
        },
        {
          "output_type": "stream",
          "name": "stderr",
          "text": [
            "397it [01:31,  4.36it/s]\n"
          ]
        },
        {
          "output_type": "stream",
          "name": "stdout",
          "text": [
            "Epoch 47: Train Loss=1.7902, Train Acc=32.48%, Test Loss=1.8984, Test Acc=31.17%, Epsilon=2.88\n"
          ]
        },
        {
          "output_type": "stream",
          "name": "stderr",
          "text": [
            " 51%|█████     | 200/391 [00:45<00:49,  3.86it/s]"
          ]
        },
        {
          "output_type": "stream",
          "name": "stdout",
          "text": [
            "(e = 2.91, d = 1e-05)\n"
          ]
        },
        {
          "output_type": "stream",
          "name": "stderr",
          "text": [
            "400it [01:31,  4.38it/s]"
          ]
        },
        {
          "output_type": "stream",
          "name": "stdout",
          "text": [
            "(e = 2.93, d = 1e-05)\n"
          ]
        },
        {
          "output_type": "stream",
          "name": "stderr",
          "text": [
            "\n"
          ]
        },
        {
          "output_type": "stream",
          "name": "stdout",
          "text": [
            "Epoch 48: Train Loss=1.7975, Train Acc=32.12%, Test Loss=1.8974, Test Acc=31.18%, Epsilon=2.93\n"
          ]
        },
        {
          "output_type": "stream",
          "name": "stderr",
          "text": [
            " 51%|█████     | 200/391 [00:45<00:50,  3.75it/s]"
          ]
        },
        {
          "output_type": "stream",
          "name": "stdout",
          "text": [
            "(e = 2.95, d = 1e-05)\n"
          ]
        },
        {
          "output_type": "stream",
          "name": "stderr",
          "text": [
            "400it [01:31,  3.65it/s]"
          ]
        },
        {
          "output_type": "stream",
          "name": "stdout",
          "text": [
            "(e = 2.96, d = 1e-05)\n"
          ]
        },
        {
          "output_type": "stream",
          "name": "stderr",
          "text": [
            "401it [01:31,  4.39it/s]\n"
          ]
        },
        {
          "output_type": "stream",
          "name": "stdout",
          "text": [
            "Epoch 49: Train Loss=1.7976, Train Acc=32.22%, Test Loss=1.8945, Test Acc=31.39%, Epsilon=2.96\n"
          ]
        },
        {
          "output_type": "stream",
          "name": "stderr",
          "text": [
            " 51%|█████     | 200/391 [00:45<00:52,  3.63it/s]"
          ]
        },
        {
          "output_type": "stream",
          "name": "stdout",
          "text": [
            "(e = 2.98, d = 1e-05)\n"
          ]
        },
        {
          "output_type": "stream",
          "name": "stderr",
          "text": [
            "400it [01:31,  4.37it/s]"
          ]
        },
        {
          "output_type": "stream",
          "name": "stdout",
          "text": [
            "(e = 3.00, d = 1e-05)\n"
          ]
        },
        {
          "output_type": "stream",
          "name": "stderr",
          "text": [
            "\n"
          ]
        },
        {
          "output_type": "stream",
          "name": "stdout",
          "text": [
            "Epoch 50: Train Loss=1.7912, Train Acc=32.68%, Test Loss=1.8957, Test Acc=31.62%, Epsilon=3.00\n"
          ]
        },
        {
          "output_type": "display_data",
          "data": {
            "text/plain": [
              "<Figure size 1000x600 with 1 Axes>"
            ],
            "image/png": "[encoded data removed]"
          },
          "metadata": {}
        },
        {
          "output_type": "display_data",
          "data": {
            "text/plain": [
              "<Figure size 1000x600 with 1 Axes>"
            ],
            "image/png": "[encoded data removed]"
          },
          "metadata": {}
        },
        {
          "output_type": "stream",
          "name": "stdout",
          "text": [
            "Metrics data successfully saved to metrics_dataadawran.xlsx.\n"
          ]
        }
      ]
    }
  ]
}
